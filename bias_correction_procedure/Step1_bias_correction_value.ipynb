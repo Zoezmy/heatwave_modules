{
 "cells": [
  {
   "cell_type": "code",
   "execution_count": 1,
   "metadata": {},
   "outputs": [],
   "source": [
    "from netCDF4 import Dataset\n",
    "import pandas as pd\n",
    "import numpy as np\n",
    "import os\n",
    "import shutil\n",
    "import re\n",
    "import netCDF4 as nc\n",
    "import xarray as xr\n",
    "from pandas import Series, DataFrame"
   ]
  },
  {
   "cell_type": "markdown",
   "metadata": {},
   "source": [
    "# CMIP6 from 2011 to 2020"
   ]
  },
  {
   "cell_type": "code",
   "execution_count": 2,
   "metadata": {},
   "outputs": [],
   "source": [
    "ds_cmip6 = xr.open_dataset('t2_1120_ssp245_lu.nc')\n",
    "t2_1120_ssp245_lu = ds_cmip6['t2_1120_ssp245_lu']"
   ]
  },
  {
   "cell_type": "code",
   "execution_count": 4,
   "metadata": {},
   "outputs": [],
   "source": [
    "#multiindex\n",
    "month_hour_idx = pd.MultiIndex.from_arrays([t2_1120_ssp245_lu['Time.month'], t2_1120_ssp245_lu['Time.hour']])\n",
    "t2_1120_ssp245_lu.coords['month_hour'] = ('Time', month_hour_idx)\n",
    "t2_1120_ssp245_lu_month_hour = t2_1120_ssp245_lu.groupby('month_hour').mean()\n",
    "#unstack\n",
    "t2_1120_ssp245_lu_month_hour = t2_1120_ssp245_lu_month_hour.unstack(\"month_hour\")\n",
    "#rename dimension\n",
    "t2_1120_ssp245_lu_month_hour = t2_1120_ssp245_lu_month_hour.rename({'month_hour_level_0': 'month','month_hour_level_1': 'hour'})\n",
    "#reorder dimension\n",
    "t2_1120_ssp245_lu_month_hour = t2_1120_ssp245_lu_month_hour.transpose(\"month\", \"hour\", \"south_north\",\"west_east\")"
   ]
  },
  {
   "cell_type": "code",
   "execution_count": 6,
   "metadata": {},
   "outputs": [],
   "source": [
    "ds_1 = xr.Dataset({'t2_1120_ssp245_lu_month_hour': t2_1120_ssp245_lu_month_hour})\n",
    "ds_1.to_netcdf('t2_1120_ssp245_lu_month_hour.nc')"
   ]
  },
  {
   "cell_type": "markdown",
   "metadata": {},
   "source": [
    "# ERA5_1120"
   ]
  },
  {
   "cell_type": "code",
   "execution_count": 7,
   "metadata": {},
   "outputs": [],
   "source": [
    "ds_era5 = xr.open_dataset('t2_1120_era5.nc')\n",
    "t2_1120_era5 = ds_era5['t2_1120_era5']"
   ]
  },
  {
   "cell_type": "code",
   "execution_count": 8,
   "metadata": {},
   "outputs": [],
   "source": [
    "#multiindex\n",
    "month_hour_idx_2 = pd.MultiIndex.from_arrays([t2_1120_era5['Time.month'], t2_1120_era5['Time.hour']])\n",
    "t2_1120_era5.coords['month_hour'] = ('Time', month_hour_idx_2)\n",
    "t2_1120_era5_month_hour = t2_1120_era5.groupby('month_hour').mean()\n",
    "#unstack\n",
    "t2_1120_era5_month_hour = t2_1120_era5_month_hour.unstack(\"month_hour\")\n",
    "#rename dimension\n",
    "t2_1120_era5_month_hour = t2_1120_era5_month_hour.rename({'month_hour_level_0': 'month','month_hour_level_1': 'hour'})\n",
    "#reorder dimension\n",
    "t2_1120_era5_month_hour = t2_1120_era5_month_hour.transpose(\"month\", \"hour\", \"south_north\",\"west_east\")"
   ]
  },
  {
   "cell_type": "code",
   "execution_count": 9,
   "metadata": {},
   "outputs": [],
   "source": [
    "ds_2 = xr.Dataset({'t2_1120_era5_month_hour': t2_1120_era5_month_hour})\n",
    "ds_2.to_netcdf('t2_1120_era5_month_hour.nc')"
   ]
  },
  {
   "cell_type": "markdown",
   "metadata": {},
   "source": [
    "# Diffrence between two datasets"
   ]
  },
  {
   "cell_type": "markdown",
   "metadata": {},
   "source": [
    "era5-cmip6"
   ]
  },
  {
   "cell_type": "code",
   "execution_count": 13,
   "metadata": {},
   "outputs": [],
   "source": [
    "bias_era_cmip = t2_1120_era5_month_hour - t2_1120_ssp245_lu_month_hour"
   ]
  },
  {
   "cell_type": "code",
   "execution_count": 15,
   "metadata": {},
   "outputs": [],
   "source": [
    "ds_3 = xr.Dataset({'bias_era5_cmip6_1120': bias_era_cmip})\n",
    "ds_3.to_netcdf('bias_era5_cmip6_1120.nc')"
   ]
  }
 ],
 "metadata": {
  "kernelspec": {
   "display_name": "Python 3",
   "language": "python",
   "name": "python3"
  },
  "language_info": {
   "codemirror_mode": {
    "name": "ipython",
    "version": 3
   },
   "file_extension": ".py",
   "mimetype": "text/x-python",
   "name": "python",
   "nbconvert_exporter": "python",
   "pygments_lexer": "ipython3",
   "version": "3.8.3"
  }
 },
 "nbformat": 4,
 "nbformat_minor": 4
}
