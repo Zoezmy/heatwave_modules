{
 "cells": [
  {
   "cell_type": "code",
   "execution_count": 1,
   "metadata": {},
   "outputs": [],
   "source": [
    "from netCDF4 import Dataset\n",
    "from wrf import (to_np, getvar, smooth2d, get_cartopy, cartopy_xlim,\n",
    "                 cartopy_ylim, latlon_coords, ALL_TIMES,interpline, CoordPair, xy_to_ll, ll_to_xy)\n",
    "import pandas as pd\n",
    "import numpy as np\n",
    "import os\n",
    "import shutil\n",
    "import re\n",
    "import netCDF4 as nc\n",
    "import xarray as xr\n",
    "import glob\n",
    "from scipy.stats import norm\n",
    "from scipy import stats\n",
    "from pandas import Series,DataFrame\n",
    "from sklearn.metrics import mean_squared_error, r2_score"
   ]
  },
  {
   "cell_type": "markdown",
   "metadata": {},
   "source": [
    "# T2"
   ]
  },
  {
   "cell_type": "code",
   "execution_count": 3,
   "metadata": {},
   "outputs": [],
   "source": [
    "T2_1620 = pd.read_csv('obs_station_withsimu_value.csv')"
   ]
  },
  {
   "cell_type": "code",
   "execution_count": 5,
   "metadata": {},
   "outputs": [],
   "source": [
    "del T2_1620['lat']\n",
    "del T2_1620['lon']\n",
    "del T2_1620['west_east']\n",
    "del T2_1620['south_north']"
   ]
  },
  {
   "cell_type": "code",
   "execution_count": 8,
   "metadata": {},
   "outputs": [],
   "source": [
    "co = T2_1620['obs_mean']\n",
    "cm_era = T2_1620['t2_1620_era5']\n",
    "cm_era5cor = T2_1620['t2_1620_era5_corrected']"
   ]
  },
  {
   "cell_type": "code",
   "execution_count": 23,
   "metadata": {},
   "outputs": [
    {
     "name": "stdout",
     "output_type": "stream",
     "text": [
      "EAR5_MB =  0.4259571581230156\n",
      "CMIP6_original_MB =  0.5575206071588285\n",
      "CMIP6_era5cor_MB =  0.3837151856712244\n",
      "CMIP6_mlcor_MB =  0.4314523482056598\n"
     ]
    }
   ],
   "source": [
    "print(\"EAR5_MB = \",(cm_era-co).mean())\n",
    "print(\"CMIP6_original_MB = \",(cm_cmip6_origianl-co).mean())\n",
    "print(\"CMIP6_era5cor_MB = \",(cm_era5cor-co).mean())"
   ]
  },
  {
   "cell_type": "code",
   "execution_count": 9,
   "metadata": {},
   "outputs": [
    {
     "name": "stdout",
     "output_type": "stream",
     "text": [
      "EAR5_MB =  0.6074247228011705\n",
      "CMIP6_original_MB =  0.7461020911015687\n",
      "CMIP6_era5cor_MB =  0.6062584695237563\n",
      "CMIP6_mlcor_MB =  0.6093385286702108\n"
     ]
    }
   ],
   "source": [
    "print(\"EAR5_MB = \",abs(cm_era-co).mean())\n",
    "print(\"CMIP6_original_MB = \",abs(cm_cmip6_origianl-co).mean())\n",
    "print(\"CMIP6_era5cor_MB = \",abs(cm_era5cor-co).mean())"
   ]
  },
  {
   "cell_type": "code",
   "execution_count": 11,
   "metadata": {},
   "outputs": [
    {
     "name": "stdout",
     "output_type": "stream",
     "text": [
      "EAR5_RMSE =  0.7409746731340884\n",
      "CMIP6_original_RMSE =  0.8946092163791937\n",
      "CMIP6_era5cor_RMSE =  0.7418371970146007\n",
      "CMIP6_mlcor_RMSE =  0.7430360144462611\n"
     ]
    }
   ],
   "source": [
    "print(\"EAR5_RMSE = \",mean_squared_error(T2_1620['obs_mean'], T2_1620['t2_1620_era5'],squared=False))\n",
    "print(\"CMIP6_original_RMSE = \",mean_squared_error(T2_1620['obs_mean'], T2_1620['t2_1620_cmip6_originalsecondrun'],squared=False))\n",
    "print(\"CMIP6_era5cor_RMSE = \",mean_squared_error(T2_1620['obs_mean'], T2_1620['t2_1620_era5_corrected'],squared=False))"
   ]
  },
  {
   "cell_type": "code",
   "execution_count": 12,
   "metadata": {},
   "outputs": [
    {
     "name": "stdout",
     "output_type": "stream",
     "text": [
      "EAR5_IOA =  0.7821930326216775\n",
      "CMIP6_original_IOA =  0.7329273640930782\n",
      "MIP6_era5cor_IOA =  0.7850658931060601\n",
      "CMIP6_mlcor_IOA =  0.7833973971379319\n"
     ]
    }
   ],
   "source": [
    "print(\"EAR5_IOA = \",1-(((cm_era-co)**2).sum())/(((abs(cm_era-co.mean())+abs(co-co.mean()))**2).sum()))\n",
    "print(\"CMIP6_original_IOA = \",1-(((cm_cmip6_origianl-co)**2).sum())/(((abs(cm_cmip6_origianl-co.mean())+abs(co-co.mean()))**2).sum()))\n",
    "print(\"MIP6_era5cor_IOA = \",1-(((cm_era5cor-co)**2).sum())/(((abs(cm_era5cor-co.mean())+abs(co-co.mean()))**2).sum()))"
   ]
  }
 ],
 "metadata": {
  "kernelspec": {
   "display_name": "Python 3",
   "language": "python",
   "name": "python3"
  },
  "language_info": {
   "codemirror_mode": {
    "name": "ipython",
    "version": 3
   },
   "file_extension": ".py",
   "mimetype": "text/x-python",
   "name": "python",
   "nbconvert_exporter": "python",
   "pygments_lexer": "ipython3",
   "version": "3.8.3"
  }
 },
 "nbformat": 4,
 "nbformat_minor": 4
}
