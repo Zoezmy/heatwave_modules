{
 "cells": [
  {
   "cell_type": "code",
   "execution_count": 4,
   "metadata": {},
   "outputs": [],
   "source": [
    "from netCDF4 import Dataset\n",
    "import pandas as pd\n",
    "import numpy as np\n",
    "import os\n",
    "import shutil\n",
    "import re\n",
    "import netCDF4 as nc\n",
    "import xarray as xr"
   ]
  },
  {
   "cell_type": "markdown",
   "metadata": {},
   "source": [
    "# bias correction"
   ]
  },
  {
   "cell_type": "code",
   "execution_count": 7,
   "metadata": {},
   "outputs": [],
   "source": [
    "ds_bias = xr.open_dataset('bias_era5_cmip6_1120.nc')\n",
    "bias_cmip6_era5 = ds_bias['bias_era5_cmip6_1120']"
   ]
  },
  {
   "cell_type": "code",
   "execution_count": 8,
   "metadata": {},
   "outputs": [],
   "source": [
    "#take five years in SSP1-2.6 for example\n",
    "ds_cmip6_4044 = xr.open_dataset('t2_4044_ssp126_lu.nc')\n",
    "t2_4044_cmip6_original = ds_cmip6_4044['t2_4044_ssp126_lu']"
   ]
  },
  {
   "cell_type": "code",
   "execution_count": 9,
   "metadata": {},
   "outputs": [],
   "source": [
    "t2_4044_cmip6_df = t2_4044_cmip6_original.to_dataframe().reset_index()\n",
    "bias_cmip6_era5_df = bias_cmip6_era5.to_dataframe().reset_index()"
   ]
  },
  {
   "cell_type": "code",
   "execution_count": 10,
   "metadata": {},
   "outputs": [],
   "source": [
    "t2_4044_cmip6_df['month'] = t2_4044_cmip6_df.Time.dt.month\n",
    "t2_4044_cmip6_df['hour'] = t2_4044_cmip6_df.Time.dt.hour"
   ]
  },
  {
   "cell_type": "code",
   "execution_count": 11,
   "metadata": {},
   "outputs": [],
   "source": [
    "del bias_cmip6_era5_df['XLAT']\n",
    "del bias_cmip6_era5_df['XLONG']"
   ]
  },
  {
   "cell_type": "code",
   "execution_count": 12,
   "metadata": {},
   "outputs": [],
   "source": [
    "t2_4044_cmip6_df = pd.merge(t2_4044_cmip6_df,bias_cmip6_era5_df,how='outer',on=['month','hour','south_north','west_east'])"
   ]
  },
  {
   "cell_type": "code",
   "execution_count": 15,
   "metadata": {},
   "outputs": [],
   "source": [
    "t2_4044_cmip6_df['t2_4044_ssp126_lu'] = t2_4044_cmip6_df['t2_4044_ssp126_lu']+t2_4044_cmip6_df['bias_era5_cmip6_1120']"
   ]
  },
  {
   "cell_type": "code",
   "execution_count": 19,
   "metadata": {},
   "outputs": [],
   "source": [
    "del t2_4044_cmip6_df['month']\n",
    "del t2_4044_cmip6_df['hour']\n",
    "del t2_4044_cmip6_df['bias_era5_cmip6_1120']\n",
    "del t2_4044_cmip6_df['XLAT']\n",
    "del t2_4044_cmip6_df['XLONG']"
   ]
  },
  {
   "cell_type": "code",
   "execution_count": 20,
   "metadata": {},
   "outputs": [],
   "source": [
    "t2_4044_cmip6_df.sort_values(['Time','south_north','west_east'],ascending=[True,True,True],inplace=True)"
   ]
  },
  {
   "cell_type": "code",
   "execution_count": 22,
   "metadata": {},
   "outputs": [],
   "source": [
    "t2_4044_cmip6 = t2_4044_cmip6_df.t2_4044_ssp126_lu.values \n",
    "t2_4044_cmip6 = t2_4044_cmip6.reshape(14640,162,213)"
   ]
  },
  {
   "cell_type": "code",
   "execution_count": 23,
   "metadata": {},
   "outputs": [],
   "source": [
    "Time = t2_4044_cmip6_original.Time\n",
    "XLAT = t2_4044_cmip6_original.XLAT\n",
    "XLONG = t2_4044_cmip6_original.XLONG\n",
    "south_north = t2_4044_cmip6_original.south_north\n",
    "west_east = t2_4044_cmip6_original.west_east"
   ]
  },
  {
   "cell_type": "code",
   "execution_count": 24,
   "metadata": {},
   "outputs": [],
   "source": [
    "#extract the land use data from one of the WRF output files\n",
    "ds_lu_1 = xr.open_dataset('wrfout_d04_2040-06-18_23:00:00')\n",
    "lu = ds_lu_1['LU_INDEX']\n",
    "\n",
    "lu = lu[0,:,:]\n",
    "\n",
    "del lu.coords['XTIME']"
   ]
  },
  {
   "cell_type": "code",
   "execution_count": 25,
   "metadata": {},
   "outputs": [],
   "source": [
    "t2_4044_era5_corrected = xr.DataArray(t2_4044_cmip6,\n",
    "                                       dims=[\"Time\",\"south_north\",\"west_east\"],\n",
    "                                       coords=dict(\n",
    "                                       XLONG=([\"south_north\", \"west_east\"], XLONG),\n",
    "                                       XLAT=([\"south_north\", \"west_east\"], XLAT),\n",
    "                                       Time=Time,\n",
    "                                       LU_INDEX=lu))"
   ]
  },
  {
   "cell_type": "code",
   "execution_count": 26,
   "metadata": {},
   "outputs": [],
   "source": [
    "ds = xr.Dataset({'t2_4044_era5_corrected': t2_4044_era5_corrected})\n",
    "ds.to_netcdf('t2_4044_era_corrected.nc')"
   ]
  }
 ],
 "metadata": {
  "kernelspec": {
   "display_name": "Python 3",
   "language": "python",
   "name": "python3"
  },
  "language_info": {
   "codemirror_mode": {
    "name": "ipython",
    "version": 3
   },
   "file_extension": ".py",
   "mimetype": "text/x-python",
   "name": "python",
   "nbconvert_exporter": "python",
   "pygments_lexer": "ipython3",
   "version": "3.8.3"
  }
 },
 "nbformat": 4,
 "nbformat_minor": 4
}
