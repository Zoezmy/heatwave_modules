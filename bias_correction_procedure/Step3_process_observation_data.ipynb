{
 "cells": [
  {
   "cell_type": "code",
   "execution_count": 1,
   "metadata": {},
   "outputs": [],
   "source": [
    "from netCDF4 import Dataset\n",
    "import pandas as pd\n",
    "import numpy as np\n",
    "import os\n",
    "import shutil\n",
    "import re\n",
    "import netCDF4 as nc\n",
    "import xarray as xr\n",
    "import glob\n",
    "import warnings"
   ]
  },
  {
   "cell_type": "code",
   "execution_count": 4,
   "metadata": {},
   "outputs": [],
   "source": [
    "obs_gd = pd.read_csv('A_TEMP-20160101-20201231.csv',skiprows=[0,1,2,3,4,8])"
   ]
  },
  {
   "cell_type": "code",
   "execution_count": 5,
   "metadata": {},
   "outputs": [],
   "source": [
    "#process the raw observations into a readable dataframe\n",
    "obs_latlonID = obs_gd[0:2]\n",
    "obs_gd_data = obs_gd[2:].reset_index(drop=True)\n",
    "obs_gd_data.loc[:,['Station ID']] = pd.to_datetime(obs_gd_data['Station ID'])\n",
    "obs_gd_data = obs_gd_data.replace(-99999,np.nan)\n",
    "obs_gd_data = obs_gd_data.rename(columns={\"Station ID\": \"Time\"})"
   ]
  },
  {
   "cell_type": "code",
   "execution_count": 10,
   "metadata": {},
   "outputs": [],
   "source": [
    "#filter data from June to September\n",
    "obs_gd_data['year'] = obs_gd_data.Time.dt.year\n",
    "obs_gd_data['month'] = obs_gd_data.Time.dt.month\n",
    "obs_gd_data['day'] = obs_gd_data.Time.dt.day\n",
    "\n",
    "obs_gd_data = obs_gd_data[(obs_gd_data['month']>=6)&(obs_gd_data['month']<=9)].reset_index(drop=True)\n",
    "\n",
    "del obs_gd_data['year']\n",
    "del obs_gd_data['month']\n",
    "del obs_gd_data['day']"
   ]
  },
  {
   "cell_type": "code",
   "execution_count": 11,
   "metadata": {},
   "outputs": [],
   "source": [
    "#calculate missing value percentage\n",
    "obs_gd_data.loc['nan_num'] = obs_gd_data.isnull().sum(axis=0)\n",
    "obs_gd_data.loc['nan_percentage'] = obs_gd_data.loc['nan_num']/14640\n",
    "obs_gd_data = obs_gd_data.T"
   ]
  },
  {
   "cell_type": "code",
   "execution_count": 15,
   "metadata": {},
   "outputs": [],
   "source": [
    "#pick out observations with missing value percentage less than 10%\n",
    "obs_gd_data_10 = obs_gd_data.drop(obs_gd_data[obs_gd_data['nan_percentage']>0.1].index)\n",
    "obs_gd_data_10 = obs_gd_data_10.T"
   ]
  },
  {
   "cell_type": "code",
   "execution_count": 17,
   "metadata": {},
   "outputs": [],
   "source": [
    "obs_gd_data_10_cp = obs_gd_data_10.copy()\n",
    "obs_gd_data_10_cp.drop(['nan_num','nan_percentage'],inplace=True)"
   ]
  },
  {
   "cell_type": "code",
   "execution_count": 19,
   "metadata": {},
   "outputs": [],
   "source": [
    "#calculate mean of filtered observations\n",
    "obs_gd_data_10_cp.loc['mean'] = obs_gd_data_10_cp.mean()\n",
    "obs_gd_data_10_mean = obs_gd_data_10_cp.loc['mean']\n",
    "obs_gd_data_10_mean = pd.DataFrame(obs_gd_data_10_mean)\n",
    "obs_gd_data_10_mean.drop(index=['Time'],inplace=True)"
   ]
  },
  {
   "cell_type": "code",
   "execution_count": 23,
   "metadata": {},
   "outputs": [],
   "source": [
    "#find out the lat and lon for each station\n",
    "obs_latlonID = obs_latlonID.T\n",
    "obs_latlonID.drop(['Station ID'],inplace=True)\n",
    "obs_gd_data_10_mean = obs_gd_data_10_mean.reset_index()\n",
    "obs_latlonID = obs_latlonID.reset_index()\n",
    "obs_gd_data_10_mean = pd.merge(obs_gd_data_10_mean,obs_latlonID,on=['index'],how='left')\n",
    "obs_gd_data_10_t2 = obs_gd_data_10_t2.rename(columns={0: \"lat\",1: \"lon\",\"index\": \"station_name\"})"
   ]
  },
  {
   "cell_type": "code",
   "execution_count": 29,
   "metadata": {},
   "outputs": [],
   "source": [
    "obs_gd_data_10_t2.to_csv('observation_mean.csv',index=False)"
   ]
  },
  {
   "cell_type": "code",
   "execution_count": null,
   "metadata": {},
   "outputs": [],
   "source": []
  }
 ],
 "metadata": {
  "kernelspec": {
   "display_name": "Python 3",
   "language": "python",
   "name": "python3"
  },
  "language_info": {
   "codemirror_mode": {
    "name": "ipython",
    "version": 3
   },
   "file_extension": ".py",
   "mimetype": "text/x-python",
   "name": "python",
   "nbconvert_exporter": "python",
   "pygments_lexer": "ipython3",
   "version": "3.8.3"
  }
 },
 "nbformat": 4,
 "nbformat_minor": 4
}
