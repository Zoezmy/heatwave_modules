{
 "cells": [
  {
   "cell_type": "code",
   "execution_count": 1,
   "metadata": {},
   "outputs": [],
   "source": [
    "from netCDF4 import Dataset\n",
    "from wrf import (to_np, getvar, smooth2d, get_cartopy, cartopy_xlim,\n",
    "                 cartopy_ylim, latlon_coords, ALL_TIMES,interpline, CoordPair, xy_to_ll, ll_to_xy)\n",
    "import pandas as pd\n",
    "import numpy as np\n",
    "import os\n",
    "import shutil\n",
    "import re\n",
    "import netCDF4 as nc\n",
    "import xarray as xr"
   ]
  },
  {
   "cell_type": "code",
   "execution_count": 2,
   "metadata": {},
   "outputs": [],
   "source": [
    "#mask out seas\n",
    "\n",
    "ds_lu = xr.open_dataset('wrfout_d04_2011-06-23_11:00:00')\n",
    "lu = ds_lu['LU_INDEX']\n",
    "\n",
    "lu = lu[0,:,:]\n",
    "\n",
    "del lu.coords['XTIME']\n",
    "\n",
    "lu_df = lu.to_dataframe().reset_index()"
   ]
  },
  {
   "cell_type": "code",
   "execution_count": 3,
   "metadata": {},
   "outputs": [],
   "source": [
    "#load files-1620\n",
    "ds1_1120 = xr.open_dataset('ssp245_t2_1120_era5_corrected_dailymax.nc')\n",
    "t2_1120_dailymax = ds1_1120['ssp245_t2_1120_era5_corrected_dailymax']"
   ]
  },
  {
   "cell_type": "code",
   "execution_count": 4,
   "metadata": {},
   "outputs": [],
   "source": [
    "t2_1120_dailymax_max = t2_1120_dailymax.max(dim='Time')"
   ]
  },
  {
   "cell_type": "code",
   "execution_count": 5,
   "metadata": {},
   "outputs": [],
   "source": [
    "t2_1120_dailymax_max_df = t2_1120_dailymax_max.to_dataframe().reset_index()"
   ]
  },
  {
   "cell_type": "code",
   "execution_count": 6,
   "metadata": {},
   "outputs": [],
   "source": [
    "t2_1120_dailymax_max_df['Time'] = '2016-06-01'"
   ]
  },
  {
   "cell_type": "code",
   "execution_count": 7,
   "metadata": {},
   "outputs": [],
   "source": [
    "t2_1120_dailymax_max_df['Time'] = pd.to_datetime(t2_1120_dailymax_max_df['Time'])"
   ]
  },
  {
   "cell_type": "code",
   "execution_count": 8,
   "metadata": {},
   "outputs": [],
   "source": [
    "t2_1120_dailymax_max_df = t2_1120_dailymax_max_df.rename(columns={\"ssp245_t2_1120_era5_corrected_dailymax\": \"daily_max\"})"
   ]
  },
  {
   "cell_type": "markdown",
   "metadata": {},
   "source": [
    "# 9099 return years calculation"
   ]
  },
  {
   "cell_type": "code",
   "execution_count": 9,
   "metadata": {},
   "outputs": [],
   "source": [
    "#load files-9099\n",
    "ds1_9099 = xr.open_dataset('ssp585_t2_9099_era5_corrected_dailymax.nc')\n",
    "t2_9099_dailymax = ds1_9099['ssp585_t2_9099_era5_corrected_dailymax']"
   ]
  },
  {
   "cell_type": "code",
   "execution_count": 10,
   "metadata": {},
   "outputs": [],
   "source": [
    "t2_9099_dailymax_df = t2_9099_dailymax.to_dataframe().reset_index()"
   ]
  },
  {
   "cell_type": "code",
   "execution_count": 11,
   "metadata": {},
   "outputs": [],
   "source": [
    "t2_9099_dailymax_df = t2_9099_dailymax_df.rename(columns={\"ssp585_t2_9099_era5_corrected_dailymax\": \"daily_max\"})"
   ]
  },
  {
   "cell_type": "code",
   "execution_count": 12,
   "metadata": {},
   "outputs": [],
   "source": [
    "t2_9099_dailymax_df = pd.concat([t2_9099_dailymax_df,t2_1120_dailymax_max_df]).reset_index(drop=True)"
   ]
  },
  {
   "cell_type": "code",
   "execution_count": 14,
   "metadata": {},
   "outputs": [],
   "source": [
    "t2_9099_latlon = t2_9099_dailymax_df.groupby(['south_north','west_east'])"
   ]
  },
  {
   "cell_type": "code",
   "execution_count": 15,
   "metadata": {},
   "outputs": [],
   "source": [
    "t2_9099_dailymax_df['auxi_col'] = t2_9099_latlon['daily_max'].rank(ascending=False)"
   ]
  },
  {
   "cell_type": "code",
   "execution_count": 16,
   "metadata": {},
   "outputs": [],
   "source": [
    "t2_9099_dailymax_df = t2_9099_dailymax_df.sort_values(['south_north','west_east','daily_max'], ascending = (True,True,False)).reset_index(drop=True)"
   ]
  },
  {
   "cell_type": "code",
   "execution_count": 17,
   "metadata": {},
   "outputs": [],
   "source": [
    "t2_9099_dailymax_position = t2_9099_dailymax_df[t2_9099_dailymax_df['Time']=='2016-06-01'].reset_index(drop=True)"
   ]
  },
  {
   "cell_type": "code",
   "execution_count": 18,
   "metadata": {},
   "outputs": [],
   "source": [
    "t2_9099_dailymax_position['reoccur_day'] = (10*365+3)/t2_9099_dailymax_position['auxi_col']"
   ]
  },
  {
   "cell_type": "code",
   "execution_count": 19,
   "metadata": {
    "scrolled": true
   },
   "outputs": [],
   "source": [
    "t2_9099_dailymax_position['reoccur_year'] = t2_9099_dailymax_position['reoccur_day']/365"
   ]
  },
  {
   "cell_type": "code",
   "execution_count": 21,
   "metadata": {},
   "outputs": [],
   "source": [
    "t2_9099_dailymax_position = pd.merge(t2_9099_dailymax_position,lu_df,on=['south_north','west_east','XLAT','XLONG'],how='outer')\n",
    "\n",
    "t2_9099_dailymax_position.loc[t2_9099_dailymax_position.LU_INDEX_x == 16, 'reoccur_year'] = 9999"
   ]
  },
  {
   "cell_type": "code",
   "execution_count": 22,
   "metadata": {},
   "outputs": [],
   "source": [
    "#to csv\n",
    "t2_9099_dailymax_position.to_csv('ssp585_t2_9099_ry_land.csv',index=False,columns=['south_north','west_east','XLAT', 'XLONG','reoccur_year'])"
   ]
  }
 ],
 "metadata": {
  "kernelspec": {
   "display_name": "Python 3",
   "language": "python",
   "name": "python3"
  },
  "language_info": {
   "codemirror_mode": {
    "name": "ipython",
    "version": 3
   },
   "file_extension": ".py",
   "mimetype": "text/x-python",
   "name": "python",
   "nbconvert_exporter": "python",
   "pygments_lexer": "ipython3",
   "version": "3.8.3"
  }
 },
 "nbformat": 4,
 "nbformat_minor": 4
}
