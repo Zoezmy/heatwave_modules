{
 "cells": [
  {
   "cell_type": "code",
   "execution_count": 1,
   "metadata": {},
   "outputs": [],
   "source": [
    "from netCDF4 import Dataset\n",
    "from wrf import (to_np, getvar, smooth2d, get_cartopy, cartopy_xlim,\n",
    "                 cartopy_ylim, latlon_coords, ALL_TIMES,interpline, CoordPair, xy_to_ll, ll_to_xy)\n",
    "import pandas as pd\n",
    "import numpy as np\n",
    "import os\n",
    "import shutil\n",
    "import re\n",
    "import netCDF4 as nc\n",
    "import xarray as xr"
   ]
  },
  {
   "cell_type": "code",
   "execution_count": 2,
   "metadata": {},
   "outputs": [],
   "source": [
    "#mask out seas-1620\n",
    "\n",
    "ds_lu_1620 = xr.open_dataset('wrfout_d04_2016-06-30_22:00:00')\n",
    "lu_1620 = ds_lu_1620['LU_INDEX']\n",
    "\n",
    "lu_1620 = lu_1620[0,:,:]\n",
    "\n",
    "del lu_1620.coords['XTIME']\n",
    "\n",
    "lu_1620_df = lu_1620.to_dataframe().reset_index()"
   ]
  },
  {
   "cell_type": "code",
   "execution_count": 4,
   "metadata": {},
   "outputs": [],
   "source": [
    "#mask out seas-2040s\n",
    "\n",
    "ds_lu_2040s = xr.open_dataset('wrfout_d04_2040-06-18_23:00:00')\n",
    "lu_2040s = ds_lu_2040s['LU_INDEX']\n",
    "\n",
    "lu_2040s = lu_2040s[0,:,:]\n",
    "\n",
    "del lu_2040s.coords['XTIME']\n",
    "\n",
    "lu_2040s_df = lu_2040s.to_dataframe().reset_index()"
   ]
  },
  {
   "cell_type": "markdown",
   "metadata": {},
   "source": [
    "# 2010s"
   ]
  },
  {
   "cell_type": "code",
   "execution_count": 5,
   "metadata": {},
   "outputs": [],
   "source": [
    "ds1 = xr.open_dataset('ssp245_t2_1120_era5_corrected_dailymax.nc')\n",
    "t2_1120_ssp245_dailymax = ds1['ssp245_t2_1120_era5_corrected_dailymax']\n",
    "\n",
    "t2_1120_ssp245_dailymax_df = t2_1120_ssp245_dailymax.to_dataframe().reset_index()\n",
    "\n",
    "#Use 33℃ as a threshold\n",
    "\n",
    "t2_1120_dailymax_thres = (t2_1120_ssp245_dailymax_df[t2_1120_ssp245_dailymax_df['ssp245_t2_1120_era5_corrected_dailymax']>=33]).reset_index(drop=True)"
   ]
  },
  {
   "cell_type": "code",
   "execution_count": 6,
   "metadata": {},
   "outputs": [],
   "source": [
    "t2_1120_dailymax_thres = t2_1120_dailymax_thres.sort_values(['XLAT','XLONG','Time'], ascending=True)\n",
    "\n",
    "\n",
    "t2_1120_dailymax_thres_latlon = t2_1120_dailymax_thres.groupby(['XLAT','XLONG'])\n",
    "\n",
    "\n",
    "t2_1120_dailymax_thres['auxi_col'] = t2_1120_dailymax_thres_latlon['Time'].rank()\n",
    "\n",
    "\n",
    "t2_1120_dailymax_thres['date_sub'] = t2_1120_dailymax_thres['Time'] - pd.to_timedelta(t2_1120_dailymax_thres['auxi_col'],unit='d')"
   ]
  },
  {
   "cell_type": "code",
   "execution_count": 7,
   "metadata": {},
   "outputs": [],
   "source": [
    "\n",
    "HWD_1120 = t2_1120_dailymax_thres.groupby(['XLAT','XLONG','south_north','west_east','date_sub']).count().reset_index()\n",
    "HWD_1120 = HWD_1120.rename(columns={'auxi_col':'concecutive_hot_days_num'})"
   ]
  },
  {
   "cell_type": "code",
   "execution_count": 8,
   "metadata": {},
   "outputs": [],
   "source": [
    "\n",
    "HWD_1120 = HWD_1120[HWD_1120['concecutive_hot_days_num']>=3]"
   ]
  },
  {
   "cell_type": "code",
   "execution_count": 9,
   "metadata": {},
   "outputs": [],
   "source": [
    "\n",
    "HWD_1120 = HWD_1120.groupby(['XLAT','XLONG','south_north','west_east'])['concecutive_hot_days_num'].mean().reset_index()"
   ]
  },
  {
   "cell_type": "code",
   "execution_count": 10,
   "metadata": {},
   "outputs": [],
   "source": [
    "#mask out the sea\n",
    "\n",
    "HWD_1120 = pd.merge(HWD_1120,lu_1620_df,on=['XLAT','XLONG','south_north','west_east'],how=\"outer\")\n",
    "\n",
    "HWD_1120['concecutive_hot_days_num'] = HWD_1120['concecutive_hot_days_num'].fillna(0)\n",
    "\n",
    "HWD_1120.loc[HWD_1120.LU_INDEX == 16, 'concecutive_hot_days_num'] = 9999\n",
    "\n",
    "HWD_1120 = HWD_1120.rename(columns={\"concecutive_hot_days_num\": \"hwd\"})"
   ]
  },
  {
   "cell_type": "code",
   "execution_count": 13,
   "metadata": {},
   "outputs": [],
   "source": [
    "HWD_1120.to_csv('HWD_1120.csv',index=False,columns=['hwd','XLAT','XLONG'])\n",
    "\n",
    "HWD_1120.to_csv('HWD_1120_withgrids.csv',index=False,columns=['XLAT','XLONG','hwd','south_north','west_east'])"
   ]
  },
  {
   "cell_type": "markdown",
   "metadata": {},
   "source": [
    "# 2040s"
   ]
  },
  {
   "cell_type": "code",
   "execution_count": 14,
   "metadata": {},
   "outputs": [],
   "source": [
    "ds1 = xr.open_dataset('ssp245_t2_4049_era5_corrected_dailymax.nc')\n",
    "t2_4049_ssp245_dailymax = ds1['ssp245_t2_4049_era5_corrected_dailymax']\n",
    "\n",
    "t2_4049_ssp245_dailymax_df = t2_4049_ssp245_dailymax.to_dataframe().reset_index()\n",
    "\n",
    "#Use 33℃ as a threshold\n",
    "\n",
    "t2_4049_dailymax_thres = (t2_4049_ssp245_dailymax_df[t2_4049_ssp245_dailymax_df['ssp245_t2_4049_era5_corrected_dailymax']>=33]).reset_index(drop=True)"
   ]
  },
  {
   "cell_type": "code",
   "execution_count": 15,
   "metadata": {},
   "outputs": [],
   "source": [
    "t2_4049_dailymax_thres = t2_4049_dailymax_thres.sort_values(['XLAT','XLONG','Time'], ascending=True)\n",
    "\n",
    "\n",
    "t2_4049_dailymax_thres_latlon = t2_4049_dailymax_thres.groupby(['XLAT','XLONG'])\n",
    "\n",
    "\n",
    "t2_4049_dailymax_thres['auxi_col'] = t2_4049_dailymax_thres_latlon['Time'].rank()\n",
    "\n",
    "\n",
    "t2_4049_dailymax_thres['date_sub'] = t2_4049_dailymax_thres['Time'] - pd.to_timedelta(t2_4049_dailymax_thres['auxi_col'],unit='d')"
   ]
  },
  {
   "cell_type": "code",
   "execution_count": 16,
   "metadata": {},
   "outputs": [],
   "source": [
    "\n",
    "HWD_4049 = t2_4049_dailymax_thres.groupby(['XLAT','XLONG','south_north','west_east','date_sub']).count().reset_index()\n",
    "HWD_4049 = HWD_4049.rename(columns={'auxi_col':'concecutive_hot_days_num'})"
   ]
  },
  {
   "cell_type": "code",
   "execution_count": 17,
   "metadata": {},
   "outputs": [],
   "source": [
    "\n",
    "HWD_4049 = HWD_4049[HWD_4049['concecutive_hot_days_num']>=3]"
   ]
  },
  {
   "cell_type": "code",
   "execution_count": 18,
   "metadata": {},
   "outputs": [],
   "source": [
    "\n",
    "HWD_4049 = HWD_4049.groupby(['XLAT','XLONG','south_north','west_east'])['concecutive_hot_days_num'].mean().reset_index()"
   ]
  },
  {
   "cell_type": "code",
   "execution_count": 19,
   "metadata": {},
   "outputs": [],
   "source": [
    "#mask out the sea\n",
    "\n",
    "HWD_4049 = pd.merge(HWD_4049,lu_2040s_df,on=['XLAT','XLONG','south_north','west_east'],how=\"outer\")\n",
    "\n",
    "HWD_4049['concecutive_hot_days_num'] = HWD_4049['concecutive_hot_days_num'].fillna(0)\n",
    "\n",
    "HWD_4049.loc[HWD_4049.LU_INDEX == 16, 'concecutive_hot_days_num'] = 9999\n",
    "\n",
    "HWD_4049 = HWD_4049.rename(columns={\"concecutive_hot_days_num\": \"hwd\"})"
   ]
  },
  {
   "cell_type": "code",
   "execution_count": 20,
   "metadata": {},
   "outputs": [],
   "source": [
    "HWD_4049.to_csv('HWD_4049.csv',index=False,columns=['hwd','XLAT','XLONG'])\n",
    "\n",
    "HWD_4049.to_csv('HWD_4049_withgrids.csv',index=False,columns=['XLAT','XLONG','hwd','south_north','west_east'])"
   ]
  },
  {
   "cell_type": "markdown",
   "metadata": {},
   "source": [
    "# 2090s"
   ]
  },
  {
   "cell_type": "code",
   "execution_count": 21,
   "metadata": {},
   "outputs": [],
   "source": [
    "ds1 = xr.open_dataset('ssp245_t2_9099_era5_corrected_dailymax.nc')\n",
    "t2_9099_ssp245_dailymax = ds1['ssp245_t2_9099_era5_corrected_dailymax']\n",
    "\n",
    "t2_9099_ssp245_dailymax_df = t2_9099_ssp245_dailymax.to_dataframe().reset_index()\n",
    "\n",
    "#Use 33℃ as a threshold\n",
    "\n",
    "t2_9099_dailymax_thres = (t2_9099_ssp245_dailymax_df[t2_9099_ssp245_dailymax_df['ssp245_t2_9099_era5_corrected_dailymax']>=33]).reset_index(drop=True)"
   ]
  },
  {
   "cell_type": "code",
   "execution_count": 22,
   "metadata": {},
   "outputs": [],
   "source": [
    "t2_9099_dailymax_thres = t2_9099_dailymax_thres.sort_values(['XLAT','XLONG','Time'], ascending=True)\n",
    "\n",
    "\n",
    "t2_9099_dailymax_thres_latlon = t2_9099_dailymax_thres.groupby(['XLAT','XLONG'])\n",
    "\n",
    "\n",
    "t2_9099_dailymax_thres['auxi_col'] = t2_9099_dailymax_thres_latlon['Time'].rank()\n",
    "\n",
    "\n",
    "t2_9099_dailymax_thres['date_sub'] = t2_9099_dailymax_thres['Time'] - pd.to_timedelta(t2_9099_dailymax_thres['auxi_col'],unit='d')"
   ]
  },
  {
   "cell_type": "code",
   "execution_count": 23,
   "metadata": {},
   "outputs": [],
   "source": [
    "\n",
    "HWD_9099 = t2_9099_dailymax_thres.groupby(['XLAT','XLONG','south_north','west_east','date_sub']).count().reset_index()\n",
    "HWD_9099 = HWD_9099.rename(columns={'auxi_col':'concecutive_hot_days_num'})"
   ]
  },
  {
   "cell_type": "code",
   "execution_count": 24,
   "metadata": {},
   "outputs": [],
   "source": [
    "\n",
    "HWD_9099 = HWD_9099[HWD_9099['concecutive_hot_days_num']>=3]"
   ]
  },
  {
   "cell_type": "code",
   "execution_count": 25,
   "metadata": {},
   "outputs": [],
   "source": [
    "\n",
    "HWD_9099 = HWD_9099.groupby(['XLAT','XLONG','south_north','west_east'])['concecutive_hot_days_num'].mean().reset_index()"
   ]
  },
  {
   "cell_type": "code",
   "execution_count": 26,
   "metadata": {},
   "outputs": [],
   "source": [
    "#mask out the sea\n",
    "\n",
    "HWD_9099 = pd.merge(HWD_9099,lu_2040s_df,on=['XLAT','XLONG','south_north','west_east'],how=\"outer\")\n",
    "\n",
    "HWD_9099['concecutive_hot_days_num'] = HWD_9099['concecutive_hot_days_num'].fillna(0)\n",
    "\n",
    "HWD_9099.loc[HWD_9099.LU_INDEX == 16, 'concecutive_hot_days_num'] = 9999\n",
    "\n",
    "HWD_9099 = HWD_9099.rename(columns={\"concecutive_hot_days_num\": \"hwd\"})"
   ]
  },
  {
   "cell_type": "code",
   "execution_count": 28,
   "metadata": {},
   "outputs": [],
   "source": [
    "HWD_9099.to_csv('HWD_9099.csv',index=False,columns=['hwd','XLAT','XLONG'])\n",
    "\n",
    "HWD_9099.to_csv('HWD_9099_withgrids.csv',index=False,columns=['XLAT','XLONG','hwd','south_north','west_east'])"
   ]
  },
  {
   "cell_type": "markdown",
   "metadata": {},
   "source": [
    "# diff"
   ]
  },
  {
   "cell_type": "code",
   "execution_count": 2,
   "metadata": {},
   "outputs": [],
   "source": [
    "HWD_1120 = pd.read_csv('HWD_1120_withgrids.csv')\n",
    "\n",
    "HWD_1120 = HWD_1120.replace(9999,np.nan)\n",
    "\n",
    "HWD_1120 = HWD_1120.sort_values(['west_east','south_north'],ascending=True).reset_index(drop=True)"
   ]
  },
  {
   "cell_type": "code",
   "execution_count": 3,
   "metadata": {},
   "outputs": [],
   "source": [
    "HWD_4049 = pd.read_csv('HWD_4049_withgrids.csv')\n",
    "\n",
    "HWD_4049 = HWD_4049.replace(9999,np.nan)\n",
    "\n",
    "HWD_4049 = HWD_4049.sort_values(['west_east','south_north'],ascending=True).reset_index(drop=True)"
   ]
  },
  {
   "cell_type": "code",
   "execution_count": 4,
   "metadata": {},
   "outputs": [],
   "source": [
    "HWD_9099 = pd.read_csv('HWD_9099_withgrids.csv')\n",
    "\n",
    "HWD_9099 = HWD_9099.replace(9999,np.nan)\n",
    "\n",
    "HWD_9099 = HWD_9099.sort_values(['west_east','south_north'],ascending=True).reset_index(drop=True)"
   ]
  },
  {
   "cell_type": "code",
   "execution_count": 5,
   "metadata": {},
   "outputs": [
    {
     "name": "stdout",
     "output_type": "stream",
     "text": [
      "0\n",
      "0\n",
      "0\n",
      "0\n",
      "0\n",
      "0\n",
      "0\n",
      "0\n"
     ]
    }
   ],
   "source": [
    "#test\n",
    "\n",
    "print((HWD_1120['west_east']-HWD_4049['west_east']).min())\n",
    "print((HWD_1120['west_east']-HWD_4049['west_east']).max())\n",
    "print((HWD_1120['south_north']-HWD_4049['south_north']).max())\n",
    "print((HWD_1120['south_north']-HWD_4049['south_north']).min())\n",
    "print((HWD_4049['west_east']-HWD_9099['west_east']).max())\n",
    "print((HWD_4049['west_east']-HWD_9099['west_east']).min())\n",
    "print((HWD_4049['south_north']-HWD_9099['south_north']).max())\n",
    "print((HWD_4049['south_north']-HWD_9099['south_north']).min())"
   ]
  },
  {
   "cell_type": "code",
   "execution_count": 6,
   "metadata": {},
   "outputs": [],
   "source": [
    "HWD_diff_2040s = HWD_1120.copy()\n",
    "HWD_diff_2090s = HWD_1120.copy()"
   ]
  },
  {
   "cell_type": "code",
   "execution_count": 7,
   "metadata": {},
   "outputs": [],
   "source": [
    "HWD_diff_2040s['diff'] = HWD_4049['hwd']-HWD_1120['hwd']\n",
    "\n",
    "HWD_diff_2090s['diff'] = HWD_9099['hwd']-HWD_1120['hwd']"
   ]
  },
  {
   "cell_type": "code",
   "execution_count": 8,
   "metadata": {},
   "outputs": [],
   "source": [
    "HWD_diff_2040s['diff'] = HWD_diff_2040s['diff'].fillna(9999)\n",
    "\n",
    "HWD_diff_2090s['diff'] = HWD_diff_2090s['diff'].fillna(9999)"
   ]
  },
  {
   "cell_type": "code",
   "execution_count": 36,
   "metadata": {},
   "outputs": [],
   "source": [
    "HWD_diff_2040s.to_csv('HWD_diff_2040s.csv')\n",
    "HWD_diff_2090s.to_csv('HWD_diff_2090s.csv')"
   ]
  }
 ],
 "metadata": {
  "kernelspec": {
   "display_name": "Python 3",
   "language": "python",
   "name": "python3"
  },
  "language_info": {
   "codemirror_mode": {
    "name": "ipython",
    "version": 3
   },
   "file_extension": ".py",
   "mimetype": "text/x-python",
   "name": "python",
   "nbconvert_exporter": "python",
   "pygments_lexer": "ipython3",
   "version": "3.8.3"
  }
 },
 "nbformat": 4,
 "nbformat_minor": 4
}
