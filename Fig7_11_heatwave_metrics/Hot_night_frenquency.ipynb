{
 "cells": [
  {
   "cell_type": "code",
   "execution_count": 1,
   "metadata": {},
   "outputs": [],
   "source": [
    "from netCDF4 import Dataset\n",
    "from wrf import (to_np, getvar, smooth2d, get_cartopy, cartopy_xlim,\n",
    "                 cartopy_ylim, latlon_coords, ALL_TIMES,interpline, CoordPair, xy_to_ll, ll_to_xy)\n",
    "import pandas as pd\n",
    "import numpy as np\n",
    "import os\n",
    "import shutil\n",
    "import re\n",
    "import netCDF4 as nc\n",
    "import xarray as xr"
   ]
  },
  {
   "cell_type": "code",
   "execution_count": 2,
   "metadata": {},
   "outputs": [],
   "source": [
    "#mask out seas-1620\n",
    "\n",
    "ds_lu_1620 = xr.open_dataset('wrfout_d04_2011-06-23_11:00:00')\n",
    "lu_1620 = ds_lu_1620['LU_INDEX']\n",
    "\n",
    "lu_1620 = lu_1620[0,:,:]\n",
    "\n",
    "del lu_1620.coords['XTIME']\n",
    "\n",
    "lu_1620_df = lu_1620.to_dataframe().reset_index()"
   ]
  },
  {
   "cell_type": "code",
   "execution_count": 3,
   "metadata": {},
   "outputs": [],
   "source": [
    "#mask out seas-2040s\n",
    "\n",
    "ds_lu_2040s = xr.open_dataset('wrfout_d04_2040-06-18_23:00:00')\n",
    "lu_2040s = ds_lu_2040s['LU_INDEX']\n",
    "\n",
    "lu_2040s = lu_2040s[0,:,:]\n",
    "\n",
    "del lu_2040s.coords['XTIME']\n",
    "\n",
    "lu_2040s_df = lu_2040s.to_dataframe().reset_index()"
   ]
  },
  {
   "cell_type": "markdown",
   "metadata": {},
   "source": [
    "# 2010s"
   ]
  },
  {
   "cell_type": "code",
   "execution_count": 4,
   "metadata": {},
   "outputs": [],
   "source": [
    "ds1 = xr.open_dataset('ssp245_t2_1120_era5_corrected_dailymin.nc')\n",
    "t2_1120_ssp245_dailymin = ds1['ssp245_t2_1120_era5_corrected_dailymin']\n",
    "\n",
    "t2_1120_ssp245_dailymin_df = t2_1120_ssp245_dailymin.to_dataframe().reset_index()\n",
    "\n",
    "#Use 28℃ as a threshold\n",
    "\n",
    "t2_1120_dailymin_thres = (t2_1120_ssp245_dailymin_df[t2_1120_ssp245_dailymin_df['ssp245_t2_1120_era5_corrected_dailymin']>=28]).reset_index(drop=True)"
   ]
  },
  {
   "cell_type": "code",
   "execution_count": 5,
   "metadata": {},
   "outputs": [],
   "source": [
    "#pick out nights with minimum temperature over 28℃\n",
    "HNF_1120 = t2_1120_dailymin_thres.groupby(['XLAT','XLONG','west_east','south_north'],as_index=False)['ssp245_t2_1120_era5_corrected_dailymin'].count()\n",
    "HNF_1120 = HNF_1120.rename(columns={'ssp245_t2_1120_era5_corrected_dailymin':'hot_nights_num'})\n",
    "\n",
    "HNF_1120['hot_nights_num'] = HNF_1120['hot_nights_num']/10"
   ]
  },
  {
   "cell_type": "code",
   "execution_count": 6,
   "metadata": {},
   "outputs": [],
   "source": [
    "#mask out the sea\n",
    "\n",
    "HNF_1120 = pd.merge(HNF_1120,lu_1620_df,on=['XLAT','XLONG','south_north','west_east'],how=\"outer\")\n",
    "\n",
    "HNF_1120['hot_nights_num'] = HNF_1120['hot_nights_num'].fillna(0)\n",
    "\n",
    "HNF_1120.loc[HNF_1120.LU_INDEX == 16, 'hot_nights_num'] = 9999\n",
    "\n",
    "HNF_1120 = HNF_1120.rename(columns={\"hot_nights_num\": \"HNF\"})"
   ]
  },
  {
   "cell_type": "code",
   "execution_count": 7,
   "metadata": {},
   "outputs": [],
   "source": [
    "HNF_1120.to_csv('/disk/r110/zzuoaa/paper_plots/plots_era5_correction_1120/script/fig4_hw_metrics/csv/HNF_1120.csv',index=False,columns=['HNF','XLAT','XLONG'])\n",
    "\n",
    "HNF_1120.to_csv('/disk/r110/zzuoaa/paper_plots/plots_era5_correction_1120/script/fig4_hw_metrics/csv/HNF_1120_withgrids.csv',index=False,columns=['XLAT','XLONG','HNF','south_north','west_east'])"
   ]
  },
  {
   "cell_type": "markdown",
   "metadata": {},
   "source": [
    "# 2040s"
   ]
  },
  {
   "cell_type": "code",
   "execution_count": 8,
   "metadata": {},
   "outputs": [],
   "source": [
    "ds1 = xr.open_dataset('ssp245_t2_4049_era5_corrected_dailymin.nc')\n",
    "t2_4049_ssp245_dailymin = ds1['ssp245_t2_4049_era5_corrected_dailymin']\n",
    "\n",
    "t2_4049_ssp245_dailymin_df = t2_4049_ssp245_dailymin.to_dataframe().reset_index()\n",
    "\n",
    "#Use 28℃ as a threshold\n",
    "\n",
    "t2_4049_dailymin_thres = (t2_4049_ssp245_dailymin_df[t2_4049_ssp245_dailymin_df['ssp245_t2_4049_era5_corrected_dailymin']>=28]).reset_index(drop=True)"
   ]
  },
  {
   "cell_type": "code",
   "execution_count": 9,
   "metadata": {},
   "outputs": [],
   "source": [
    "#pick out nights with minimum temperature over 28℃\n",
    "HNF_4049 = t2_4049_dailymin_thres.groupby(['XLAT','XLONG','west_east','south_north'],as_index=False)['ssp245_t2_4049_era5_corrected_dailymin'].count()\n",
    "HNF_4049 = HNF_4049.rename(columns={'ssp245_t2_4049_era5_corrected_dailymin':'hot_nights_num'})\n",
    "\n",
    "HNF_4049['hot_nights_num'] = HNF_4049['hot_nights_num']/10"
   ]
  },
  {
   "cell_type": "code",
   "execution_count": 10,
   "metadata": {},
   "outputs": [],
   "source": [
    "#mask out the sea\n",
    "\n",
    "HNF_4049 = pd.merge(HNF_4049,lu_2040s_df,on=['XLAT','XLONG','south_north','west_east'],how=\"outer\")\n",
    "\n",
    "HNF_4049['hot_nights_num'] = HNF_4049['hot_nights_num'].fillna(0)\n",
    "\n",
    "HNF_4049.loc[HNF_4049.LU_INDEX == 16, 'hot_nights_num'] = 9999\n",
    "\n",
    "HNF_4049 = HNF_4049.rename(columns={\"hot_nights_num\": \"HNF\"})"
   ]
  },
  {
   "cell_type": "code",
   "execution_count": 11,
   "metadata": {},
   "outputs": [],
   "source": [
    "HNF_4049.to_csv('/disk/r110/zzuoaa/paper_plots/plots_era5_correction_1120/script/fig4_hw_metrics/csv/HNF_4049.csv',index=False,columns=['HNF','XLAT','XLONG'])\n",
    "\n",
    "HNF_4049.to_csv('/disk/r110/zzuoaa/paper_plots/plots_era5_correction_1120/script/fig4_hw_metrics/csv/HNF_4049_withgrids.csv',index=False,columns=['XLAT','XLONG','HNF','south_north','west_east'])"
   ]
  },
  {
   "cell_type": "markdown",
   "metadata": {},
   "source": [
    "# 2090s"
   ]
  },
  {
   "cell_type": "code",
   "execution_count": 12,
   "metadata": {},
   "outputs": [],
   "source": [
    "ds1 = xr.open_dataset('ssp245_t2_9099_era5_corrected_dailymin.nc')\n",
    "t2_9099_ssp245_dailymin = ds1['ssp245_t2_9099_era5_corrected_dailymin']\n",
    "\n",
    "t2_9099_ssp245_dailymin_df = t2_9099_ssp245_dailymin.to_dataframe().reset_index()\n",
    "\n",
    "#Use 28℃ as a threshold\n",
    "\n",
    "t2_9099_dailymin_thres = (t2_9099_ssp245_dailymin_df[t2_9099_ssp245_dailymin_df['ssp245_t2_9099_era5_corrected_dailymin']>=28]).reset_index(drop=True)"
   ]
  },
  {
   "cell_type": "code",
   "execution_count": 13,
   "metadata": {},
   "outputs": [],
   "source": [
    "#pick out nights with minimum temperature over 28℃\n",
    "HNF_9099 = t2_9099_dailymin_thres.groupby(['XLAT','XLONG','west_east','south_north'],as_index=False)['ssp245_t2_9099_era5_corrected_dailymin'].count()\n",
    "HNF_9099 = HNF_9099.rename(columns={'ssp245_t2_9099_era5_corrected_dailymin':'hot_nights_num'})\n",
    "\n",
    "HNF_9099['hot_nights_num'] = HNF_9099['hot_nights_num']/10"
   ]
  },
  {
   "cell_type": "code",
   "execution_count": 14,
   "metadata": {},
   "outputs": [],
   "source": [
    "#mask out the sea\n",
    "\n",
    "HNF_9099 = pd.merge(HNF_9099,lu_2040s_df,on=['XLAT','XLONG','south_north','west_east'],how=\"outer\")\n",
    "\n",
    "HNF_9099['hot_nights_num'] = HNF_9099['hot_nights_num'].fillna(0)\n",
    "\n",
    "HNF_9099.loc[HNF_9099.LU_INDEX == 16, 'hot_nights_num'] = 9999\n",
    "\n",
    "HNF_9099 = HNF_9099.rename(columns={\"hot_nights_num\": \"HNF\"})"
   ]
  },
  {
   "cell_type": "code",
   "execution_count": 15,
   "metadata": {},
   "outputs": [],
   "source": [
    "HNF_9099.to_csv('/disk/r110/zzuoaa/paper_plots/plots_era5_correction_1120/script/fig4_hw_metrics/csv/HNF_9099.csv',index=False,columns=['HNF','XLAT','XLONG'])\n",
    "\n",
    "HNF_9099.to_csv('/disk/r110/zzuoaa/paper_plots/plots_era5_correction_1120/script/fig4_hw_metrics/csv/HNF_9099_withgrids.csv',index=False,columns=['XLAT','XLONG','HNF','south_north','west_east'])"
   ]
  },
  {
   "cell_type": "markdown",
   "metadata": {},
   "source": [
    "# diff"
   ]
  },
  {
   "cell_type": "code",
   "execution_count": 17,
   "metadata": {},
   "outputs": [],
   "source": [
    "HNF_1120 = pd.read_csv('/disk/r110/zzuoaa/paper_plots/plots_era5_correction_1120/script/fig4_hw_metrics/csv/HNF_1120_withgrids.csv')\n",
    "\n",
    "HNF_1120 = HNF_1120.replace(9999,np.nan)\n",
    "\n",
    "HNF_1120 = HNF_1120.sort_values(['west_east','south_north'],ascending=True).reset_index(drop=True)"
   ]
  },
  {
   "cell_type": "code",
   "execution_count": 18,
   "metadata": {},
   "outputs": [],
   "source": [
    "HNF_4049 = pd.read_csv('/disk/r110/zzuoaa/paper_plots/plots_era5_correction_1120/script/fig4_hw_metrics/csv/HNF_4049_withgrids.csv')\n",
    "\n",
    "HNF_4049 = HNF_4049.replace(9999,np.nan)\n",
    "\n",
    "HNF_4049 = HNF_4049.sort_values(['west_east','south_north'],ascending=True).reset_index(drop=True)"
   ]
  },
  {
   "cell_type": "code",
   "execution_count": 19,
   "metadata": {},
   "outputs": [],
   "source": [
    "HNF_9099 = pd.read_csv('/disk/r110/zzuoaa/paper_plots/plots_era5_correction_1120/script/fig4_hw_metrics/csv/HNF_9099_withgrids.csv')\n",
    "\n",
    "HNF_9099 = HNF_9099.replace(9999,np.nan)\n",
    "\n",
    "HNF_9099 = HNF_9099.sort_values(['west_east','south_north'],ascending=True).reset_index(drop=True)"
   ]
  },
  {
   "cell_type": "code",
   "execution_count": 20,
   "metadata": {},
   "outputs": [
    {
     "name": "stdout",
     "output_type": "stream",
     "text": [
      "0\n",
      "0\n",
      "0\n",
      "0\n",
      "0\n",
      "0\n",
      "0\n",
      "0\n"
     ]
    }
   ],
   "source": [
    "#test\n",
    "\n",
    "print((HNF_1120['west_east']-HNF_4049['west_east']).min())\n",
    "print((HNF_1120['west_east']-HNF_4049['west_east']).max())\n",
    "print((HNF_1120['south_north']-HNF_4049['south_north']).min())\n",
    "print((HNF_1120['south_north']-HNF_4049['south_north']).max())\n",
    "print((HNF_4049['west_east']-HNF_9099['west_east']).min())\n",
    "print((HNF_4049['west_east']-HNF_9099['west_east']).max())\n",
    "print((HNF_4049['south_north']-HNF_9099['south_north']).min())\n",
    "print((HNF_4049['south_north']-HNF_9099['south_north']).max())"
   ]
  },
  {
   "cell_type": "code",
   "execution_count": 21,
   "metadata": {},
   "outputs": [],
   "source": [
    "HNF_diff_2040s = HNF_1120.copy()\n",
    "HNF_diff_2090s = HNF_1120.copy()"
   ]
  },
  {
   "cell_type": "code",
   "execution_count": 24,
   "metadata": {},
   "outputs": [],
   "source": [
    "HNF_diff_2040s['diff'] = HNF_4049['HNF']-HNF_1120['HNF']\n",
    "\n",
    "HNF_diff_2090s['diff'] = HNF_9099['HNF']-HNF_1120['HNF']"
   ]
  },
  {
   "cell_type": "code",
   "execution_count": 25,
   "metadata": {},
   "outputs": [],
   "source": [
    "HNF_diff_2040s['diff'] = HNF_diff_2040s['diff'].fillna(9999)\n",
    "\n",
    "HNF_diff_2090s['diff'] = HNF_diff_2090s['diff'].fillna(9999)"
   ]
  },
  {
   "cell_type": "code",
   "execution_count": 26,
   "metadata": {},
   "outputs": [],
   "source": [
    "HNF_diff_2040s.to_csv('HNF_diff_2040s_withgrids.csv')\n",
    "HNF_diff_2090s.to_csv('HNF_diff_2090s_withgrids.csv')"
   ]
  },
  {
   "cell_type": "code",
   "execution_count": null,
   "metadata": {},
   "outputs": [],
   "source": []
  }
 ],
 "metadata": {
  "kernelspec": {
   "display_name": "Python 3",
   "language": "python",
   "name": "python3"
  },
  "language_info": {
   "codemirror_mode": {
    "name": "ipython",
    "version": 3
   },
   "file_extension": ".py",
   "mimetype": "text/x-python",
   "name": "python",
   "nbconvert_exporter": "python",
   "pygments_lexer": "ipython3",
   "version": "3.8.3"
  }
 },
 "nbformat": 4,
 "nbformat_minor": 4
}
