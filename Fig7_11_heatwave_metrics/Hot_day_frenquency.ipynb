{
 "cells": [
  {
   "cell_type": "code",
   "execution_count": 1,
   "metadata": {},
   "outputs": [],
   "source": [
    "from netCDF4 import Dataset\n",
    "from wrf import (to_np, getvar, smooth2d, get_cartopy, cartopy_xlim,\n",
    "                 cartopy_ylim, latlon_coords, ALL_TIMES,interpline, CoordPair, xy_to_ll, ll_to_xy)\n",
    "import pandas as pd\n",
    "import numpy as np\n",
    "import os\n",
    "import shutil\n",
    "import re\n",
    "import netCDF4 as nc\n",
    "import xarray as xr"
   ]
  },
  {
   "cell_type": "code",
   "execution_count": 2,
   "metadata": {},
   "outputs": [],
   "source": [
    "#mask out seas-1620\n",
    "\n",
    "ds_lu_1620 = xr.open_dataset('wrfout_d04_2011-06-23_11:00:00')\n",
    "lu_1620 = ds_lu_1620['LU_INDEX']\n",
    "\n",
    "lu_1620 = lu_1620[0,:,:]\n",
    "\n",
    "del lu_1620.coords['XTIME']\n",
    "\n",
    "lu_1620_df = lu_1620.to_dataframe().reset_index()"
   ]
  },
  {
   "cell_type": "code",
   "execution_count": 3,
   "metadata": {},
   "outputs": [],
   "source": [
    "#mask out seas-2040s\n",
    "\n",
    "ds_lu_2040s = xr.open_dataset('wrfout_d04_2040-06-18_23:00:00')\n",
    "lu_2040s = ds_lu_2040s['LU_INDEX']\n",
    "\n",
    "lu_2040s = lu_2040s[0,:,:]\n",
    "\n",
    "del lu_2040s.coords['XTIME']\n",
    "\n",
    "lu_2040s_df = lu_2040s.to_dataframe().reset_index()"
   ]
  },
  {
   "cell_type": "markdown",
   "metadata": {},
   "source": [
    "# 2010s"
   ]
  },
  {
   "cell_type": "code",
   "execution_count": 4,
   "metadata": {},
   "outputs": [],
   "source": [
    "ds1 = xr.open_dataset('ssp245_t2_1120_era5_corrected_dailymax.nc')\n",
    "t2_1120_ssp245_dailymax = ds1['ssp245_t2_1120_era5_corrected_dailymax']\n",
    "\n",
    "t2_1120_ssp245_dailymax_df = t2_1120_ssp245_dailymax.to_dataframe().reset_index()\n",
    "\n",
    "#Use 33℃ as a threshold\n",
    "\n",
    "t2_1120_dailymax_thres = (t2_1120_ssp245_dailymax_df[t2_1120_ssp245_dailymax_df['ssp245_t2_1120_era5_corrected_dailymax']>=33]).reset_index(drop=True)"
   ]
  },
  {
   "cell_type": "code",
   "execution_count": 5,
   "metadata": {},
   "outputs": [],
   "source": [
    "#pick out days with maximum temperature over 33℃\n",
    "HDF_1120 = t2_1120_dailymax_thres.groupby(['XLAT','XLONG','west_east','south_north'],as_index=False)['ssp245_t2_1120_era5_corrected_dailymax'].count()\n",
    "HDF_1120 = HDF_1120.rename(columns={'ssp245_t2_1120_era5_corrected_dailymax':'hot_days_num'})\n",
    "\n",
    "HDF_1120['hot_days_num'] = HDF_1120['hot_days_num']/10"
   ]
  },
  {
   "cell_type": "code",
   "execution_count": 6,
   "metadata": {},
   "outputs": [
    {
     "data": {
      "text/plain": [
       "96.3"
      ]
     },
     "execution_count": 6,
     "metadata": {},
     "output_type": "execute_result"
    }
   ],
   "source": [
    "HDF_1120['hot_days_num'].max()"
   ]
  },
  {
   "cell_type": "code",
   "execution_count": 7,
   "metadata": {},
   "outputs": [],
   "source": [
    "#mask out the sea\n",
    "\n",
    "HDF_1120 = pd.merge(HDF_1120,lu_1620_df,on=['XLAT','XLONG','south_north','west_east'],how=\"outer\")\n",
    "\n",
    "HDF_1120['hot_days_num'] = HDF_1120['hot_days_num'].fillna(0)\n",
    "\n",
    "HDF_1120.loc[HDF_1120.LU_INDEX == 16, 'hot_days_num'] = 9999\n",
    "\n",
    "HDF_1120 = HDF_1120.rename(columns={\"hot_days_num\": \"hdf\"})"
   ]
  },
  {
   "cell_type": "code",
   "execution_count": 8,
   "metadata": {},
   "outputs": [
    {
     "data": {
      "text/html": [
       "<div>\n",
       "<style scoped>\n",
       "    .dataframe tbody tr th:only-of-type {\n",
       "        vertical-align: middle;\n",
       "    }\n",
       "\n",
       "    .dataframe tbody tr th {\n",
       "        vertical-align: top;\n",
       "    }\n",
       "\n",
       "    .dataframe thead th {\n",
       "        text-align: right;\n",
       "    }\n",
       "</style>\n",
       "<table border=\"1\" class=\"dataframe\">\n",
       "  <thead>\n",
       "    <tr style=\"text-align: right;\">\n",
       "      <th></th>\n",
       "      <th>XLAT</th>\n",
       "      <th>XLONG</th>\n",
       "      <th>west_east</th>\n",
       "      <th>south_north</th>\n",
       "      <th>hdf</th>\n",
       "      <th>LU_INDEX</th>\n",
       "    </tr>\n",
       "  </thead>\n",
       "  <tbody>\n",
       "    <tr>\n",
       "      <th>0</th>\n",
       "      <td>21.751648</td>\n",
       "      <td>112.761719</td>\n",
       "      <td>0</td>\n",
       "      <td>0</td>\n",
       "      <td>9999.0</td>\n",
       "      <td>16.0</td>\n",
       "    </tr>\n",
       "    <tr>\n",
       "      <th>1</th>\n",
       "      <td>21.751740</td>\n",
       "      <td>112.771606</td>\n",
       "      <td>1</td>\n",
       "      <td>0</td>\n",
       "      <td>9999.0</td>\n",
       "      <td>16.0</td>\n",
       "    </tr>\n",
       "    <tr>\n",
       "      <th>2</th>\n",
       "      <td>21.751839</td>\n",
       "      <td>112.781464</td>\n",
       "      <td>2</td>\n",
       "      <td>0</td>\n",
       "      <td>1.8</td>\n",
       "      <td>2.0</td>\n",
       "    </tr>\n",
       "    <tr>\n",
       "      <th>3</th>\n",
       "      <td>21.751923</td>\n",
       "      <td>112.791321</td>\n",
       "      <td>3</td>\n",
       "      <td>0</td>\n",
       "      <td>1.1</td>\n",
       "      <td>3.0</td>\n",
       "    </tr>\n",
       "    <tr>\n",
       "      <th>4</th>\n",
       "      <td>21.752014</td>\n",
       "      <td>112.801208</td>\n",
       "      <td>4</td>\n",
       "      <td>0</td>\n",
       "      <td>0.9</td>\n",
       "      <td>8.0</td>\n",
       "    </tr>\n",
       "    <tr>\n",
       "      <th>...</th>\n",
       "      <td>...</td>\n",
       "      <td>...</td>\n",
       "      <td>...</td>\n",
       "      <td>...</td>\n",
       "      <td>...</td>\n",
       "      <td>...</td>\n",
       "    </tr>\n",
       "    <tr>\n",
       "      <th>34501</th>\n",
       "      <td>23.176796</td>\n",
       "      <td>114.854218</td>\n",
       "      <td>211</td>\n",
       "      <td>155</td>\n",
       "      <td>0.0</td>\n",
       "      <td>15.0</td>\n",
       "    </tr>\n",
       "    <tr>\n",
       "      <th>34502</th>\n",
       "      <td>23.186295</td>\n",
       "      <td>114.804321</td>\n",
       "      <td>206</td>\n",
       "      <td>156</td>\n",
       "      <td>0.0</td>\n",
       "      <td>15.0</td>\n",
       "    </tr>\n",
       "    <tr>\n",
       "      <th>34503</th>\n",
       "      <td>23.186234</td>\n",
       "      <td>114.814331</td>\n",
       "      <td>207</td>\n",
       "      <td>156</td>\n",
       "      <td>0.0</td>\n",
       "      <td>7.0</td>\n",
       "    </tr>\n",
       "    <tr>\n",
       "      <th>34504</th>\n",
       "      <td>23.186165</td>\n",
       "      <td>114.824310</td>\n",
       "      <td>208</td>\n",
       "      <td>156</td>\n",
       "      <td>0.0</td>\n",
       "      <td>7.0</td>\n",
       "    </tr>\n",
       "    <tr>\n",
       "      <th>34505</th>\n",
       "      <td>23.186111</td>\n",
       "      <td>114.834290</td>\n",
       "      <td>209</td>\n",
       "      <td>156</td>\n",
       "      <td>0.0</td>\n",
       "      <td>7.0</td>\n",
       "    </tr>\n",
       "  </tbody>\n",
       "</table>\n",
       "<p>34506 rows × 6 columns</p>\n",
       "</div>"
      ],
      "text/plain": [
       "            XLAT       XLONG  west_east  south_north     hdf  LU_INDEX\n",
       "0      21.751648  112.761719          0            0  9999.0      16.0\n",
       "1      21.751740  112.771606          1            0  9999.0      16.0\n",
       "2      21.751839  112.781464          2            0     1.8       2.0\n",
       "3      21.751923  112.791321          3            0     1.1       3.0\n",
       "4      21.752014  112.801208          4            0     0.9       8.0\n",
       "...          ...         ...        ...          ...     ...       ...\n",
       "34501  23.176796  114.854218        211          155     0.0      15.0\n",
       "34502  23.186295  114.804321        206          156     0.0      15.0\n",
       "34503  23.186234  114.814331        207          156     0.0       7.0\n",
       "34504  23.186165  114.824310        208          156     0.0       7.0\n",
       "34505  23.186111  114.834290        209          156     0.0       7.0\n",
       "\n",
       "[34506 rows x 6 columns]"
      ]
     },
     "execution_count": 8,
     "metadata": {},
     "output_type": "execute_result"
    }
   ],
   "source": [
    "HDF_1120"
   ]
  },
  {
   "cell_type": "code",
   "execution_count": 9,
   "metadata": {},
   "outputs": [],
   "source": [
    "HDF_1120.to_csv('HDF_1120.csv',index=False,columns=['hdf','XLAT','XLONG'])\n",
    "\n",
    "HDF_1120.to_csv('HDF_1120_withgrids.csv',index=False,columns=['XLAT','XLONG','hdf','south_north','west_east'])"
   ]
  },
  {
   "cell_type": "markdown",
   "metadata": {},
   "source": [
    "# 2040s"
   ]
  },
  {
   "cell_type": "code",
   "execution_count": 10,
   "metadata": {},
   "outputs": [],
   "source": [
    "ds1 = xr.open_dataset('ssp245_t2_4049_era5_corrected_dailymax.nc')\n",
    "t2_4049_ssp245_dailymax = ds1['ssp245_t2_4049_era5_corrected_dailymax']\n",
    "\n",
    "t2_4049_ssp245_dailymax_df = t2_4049_ssp245_dailymax.to_dataframe().reset_index()\n",
    "\n",
    "#Use 33℃ as a threshold\n",
    "\n",
    "t2_4049_dailymax_thres = (t2_4049_ssp245_dailymax_df[t2_4049_ssp245_dailymax_df['ssp245_t2_4049_era5_corrected_dailymax']>=33]).reset_index(drop=True)"
   ]
  },
  {
   "cell_type": "code",
   "execution_count": 11,
   "metadata": {},
   "outputs": [],
   "source": [
    "#pick out days with maximum temperature over 33℃\n",
    "HDF_4049 = t2_4049_dailymax_thres.groupby(['XLAT','XLONG','west_east','south_north'],as_index=False)['ssp245_t2_4049_era5_corrected_dailymax'].count()\n",
    "HDF_4049 = HDF_4049.rename(columns={'ssp245_t2_4049_era5_corrected_dailymax':'hot_days_num'})\n",
    "\n",
    "HDF_4049['hot_days_num'] = HDF_4049['hot_days_num']/10"
   ]
  },
  {
   "cell_type": "code",
   "execution_count": 12,
   "metadata": {},
   "outputs": [],
   "source": [
    "#mask out the sea\n",
    "\n",
    "HDF_4049 = pd.merge(HDF_4049,lu_2040s_df,on=['XLAT','XLONG','south_north','west_east'],how=\"outer\")\n",
    "\n",
    "HDF_4049['hot_days_num'] = HDF_4049['hot_days_num'].fillna(0)\n",
    "\n",
    "HDF_4049.loc[HDF_4049.LU_INDEX == 16, 'hot_days_num'] = 9999\n",
    "\n",
    "HDF_4049 = HDF_4049.rename(columns={\"hot_days_num\": \"hdf\"})"
   ]
  },
  {
   "cell_type": "code",
   "execution_count": 13,
   "metadata": {},
   "outputs": [],
   "source": [
    "HDF_4049.to_csv('HDF_4049.csv',index=False,columns=['hdf','XLAT','XLONG'])\n",
    "\n",
    "HDF_4049.to_csv('HDF_4049_withgrids.csv',index=False,columns=['XLAT','XLONG','hdf','south_north','west_east'])"
   ]
  },
  {
   "cell_type": "markdown",
   "metadata": {},
   "source": [
    "# 2090s"
   ]
  },
  {
   "cell_type": "code",
   "execution_count": 14,
   "metadata": {},
   "outputs": [],
   "source": [
    "ds1 = xr.open_dataset('ssp245_t2_9099_era5_corrected_dailymax.nc')\n",
    "t2_9099_ssp245_dailymax = ds1['ssp245_t2_9099_era5_corrected_dailymax']\n",
    "\n",
    "t2_9099_ssp245_dailymax_df = t2_9099_ssp245_dailymax.to_dataframe().reset_index()\n",
    "\n",
    "#Use 33℃ as a threshold\n",
    "\n",
    "t2_9099_dailymax_thres = (t2_9099_ssp245_dailymax_df[t2_9099_ssp245_dailymax_df['ssp245_t2_9099_era5_corrected_dailymax']>=33]).reset_index(drop=True)"
   ]
  },
  {
   "cell_type": "code",
   "execution_count": 15,
   "metadata": {},
   "outputs": [],
   "source": [
    "#pick out days with maximum temperature over 33℃\n",
    "HDF_9099 = t2_9099_dailymax_thres.groupby(['XLAT','XLONG','west_east','south_north'],as_index=False)['ssp245_t2_9099_era5_corrected_dailymax'].count()\n",
    "HDF_9099 = HDF_9099.rename(columns={'ssp245_t2_9099_era5_corrected_dailymax':'hot_days_num'})\n",
    "\n",
    "HDF_9099['hot_days_num'] = HDF_9099['hot_days_num']/10"
   ]
  },
  {
   "cell_type": "code",
   "execution_count": 16,
   "metadata": {},
   "outputs": [],
   "source": [
    "#mask out the sea\n",
    "\n",
    "HDF_9099 = pd.merge(HDF_9099,lu_2040s_df,on=['XLAT','XLONG','south_north','west_east'],how=\"outer\")\n",
    "\n",
    "HDF_9099['hot_days_num'] = HDF_9099['hot_days_num'].fillna(0)\n",
    "\n",
    "HDF_9099.loc[HDF_9099.LU_INDEX == 16, 'hot_days_num'] = 9999\n",
    "\n",
    "HDF_9099 = HDF_9099.rename(columns={\"hot_days_num\": \"hdf\"})"
   ]
  },
  {
   "cell_type": "code",
   "execution_count": 17,
   "metadata": {},
   "outputs": [],
   "source": [
    "HDF_9099.to_csv('HDF_9099.csv',index=False,columns=['hdf','XLAT','XLONG'])\n",
    "\n",
    "HDF_9099.to_csv('HDF_9099_withgrids.csv',index=False,columns=['XLAT','XLONG','hdf','south_north','west_east'])"
   ]
  },
  {
   "cell_type": "markdown",
   "metadata": {},
   "source": [
    "# diff"
   ]
  },
  {
   "cell_type": "code",
   "execution_count": 18,
   "metadata": {},
   "outputs": [],
   "source": [
    "HDF_1120 = pd.read_csv('HDF_1120_withgrids.csv')\n",
    "\n",
    "HDF_1120 = HDF_1120.replace(9999,np.nan)\n",
    "\n",
    "HDF_1120 = HDF_1120.sort_values(['west_east','south_north'],ascending=True).reset_index(drop=True)"
   ]
  },
  {
   "cell_type": "code",
   "execution_count": 19,
   "metadata": {},
   "outputs": [],
   "source": [
    "HDF_4049 = pd.read_csv('HDF_4049_withgrids.csv')\n",
    "\n",
    "HDF_4049 = HDF_4049.replace(9999,np.nan)\n",
    "\n",
    "HDF_4049 = HDF_4049.sort_values(['west_east','south_north'],ascending=True).reset_index(drop=True)"
   ]
  },
  {
   "cell_type": "code",
   "execution_count": 20,
   "metadata": {},
   "outputs": [],
   "source": [
    "HDF_9099 = pd.read_csv('HDF_9099_withgrids.csv')\n",
    "\n",
    "HDF_9099 = HDF_9099.replace(9999,np.nan)\n",
    "\n",
    "HDF_9099 = HDF_9099.sort_values(['west_east','south_north'],ascending=True).reset_index(drop=True)"
   ]
  },
  {
   "cell_type": "code",
   "execution_count": 21,
   "metadata": {},
   "outputs": [
    {
     "name": "stdout",
     "output_type": "stream",
     "text": [
      "0\n",
      "0\n",
      "0\n",
      "0\n",
      "0\n",
      "0\n",
      "0\n",
      "0\n"
     ]
    }
   ],
   "source": [
    "#test\n",
    "\n",
    "print((HDF_1120['west_east']-HDF_4049['west_east']).min())\n",
    "print((HDF_1120['west_east']-HDF_4049['west_east']).max())\n",
    "print((HDF_1120['south_north']-HDF_4049['south_north']).max())\n",
    "print((HDF_1120['south_north']-HDF_4049['south_north']).min())\n",
    "print((HDF_4049['west_east']-HDF_9099['west_east']).max())\n",
    "print((HDF_4049['west_east']-HDF_9099['west_east']).min())\n",
    "print((HDF_4049['south_north']-HDF_9099['south_north']).max())\n",
    "print((HDF_4049['south_north']-HDF_9099['south_north']).min())"
   ]
  },
  {
   "cell_type": "code",
   "execution_count": 22,
   "metadata": {},
   "outputs": [],
   "source": [
    "HDF_diff_2040s = HDF_1120.copy()\n",
    "HDF_diff_2090s = HDF_1120.copy()"
   ]
  },
  {
   "cell_type": "code",
   "execution_count": 23,
   "metadata": {},
   "outputs": [],
   "source": [
    "HDF_diff_2040s['diff'] = HDF_4049['hdf']-HDF_1120['hdf']\n",
    "\n",
    "HDF_diff_2090s['diff'] = HDF_9099['hdf']-HDF_1120['hdf']"
   ]
  },
  {
   "cell_type": "code",
   "execution_count": 24,
   "metadata": {},
   "outputs": [],
   "source": [
    "HDF_diff_2040s['diff'] = HDF_diff_2040s['diff'].fillna(9999)\n",
    "\n",
    "HDF_diff_2090s['diff'] = HDF_diff_2090s['diff'].fillna(9999)"
   ]
  },
  {
   "cell_type": "code",
   "execution_count": 25,
   "metadata": {},
   "outputs": [],
   "source": [
    "HDF_diff_2040s.to_csv('HDF_diff_2040s.csv')\n",
    "HDF_diff_2090s.to_csv('HDF_diff_2090s.csv')"
   ]
  },
  {
   "cell_type": "code",
   "execution_count": null,
   "metadata": {},
   "outputs": [],
   "source": []
  },
  {
   "cell_type": "code",
   "execution_count": null,
   "metadata": {},
   "outputs": [],
   "source": []
  }
 ],
 "metadata": {
  "kernelspec": {
   "display_name": "Python 3",
   "language": "python",
   "name": "python3"
  },
  "language_info": {
   "codemirror_mode": {
    "name": "ipython",
    "version": 3
   },
   "file_extension": ".py",
   "mimetype": "text/x-python",
   "name": "python",
   "nbconvert_exporter": "python",
   "pygments_lexer": "ipython3",
   "version": "3.8.3"
  }
 },
 "nbformat": 4,
 "nbformat_minor": 4
}
