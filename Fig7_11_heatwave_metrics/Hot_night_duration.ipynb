{
 "cells": [
  {
   "cell_type": "code",
   "execution_count": 26,
   "metadata": {},
   "outputs": [],
   "source": [
    "from netCDF4 import Dataset\n",
    "from wrf import (to_np, getvar, smooth2d, get_cartopy, cartopy_xlim,\n",
    "                 cartopy_ylim, latlon_coords, ALL_TIMES,interpline, CoordPair, xy_to_ll, ll_to_xy)\n",
    "import pandas as pd\n",
    "import numpy as np\n",
    "import os\n",
    "import shutil\n",
    "import re\n",
    "import netCDF4 as nc\n",
    "import xarray as xr"
   ]
  },
  {
   "cell_type": "code",
   "execution_count": 27,
   "metadata": {},
   "outputs": [],
   "source": [
    "#mask out seas-1620\n",
    "\n",
    "ds_lu_1620 = xr.open_dataset('wrfout_d04_2011-06-23_11:00:00')\n",
    "lu_1620 = ds_lu_1620['LU_INDEX']\n",
    "\n",
    "lu_1620 = lu_1620[0,:,:]\n",
    "\n",
    "del lu_1620.coords['XTIME']\n",
    "\n",
    "lu_1620_df = lu_1620.to_dataframe().reset_index()"
   ]
  },
  {
   "cell_type": "code",
   "execution_count": 28,
   "metadata": {},
   "outputs": [],
   "source": [
    "#mask out seas-2040s\n",
    "\n",
    "ds_lu_2040s = xr.open_dataset('wrfout_d04_2040-06-18_23:00:00')\n",
    "lu_2040s = ds_lu_2040s['LU_INDEX']\n",
    "\n",
    "lu_2040s = lu_2040s[0,:,:]\n",
    "\n",
    "del lu_2040s.coords['XTIME']\n",
    "\n",
    "lu_2040s_df = lu_2040s.to_dataframe().reset_index()"
   ]
  },
  {
   "cell_type": "markdown",
   "metadata": {},
   "source": [
    "# 2010s"
   ]
  },
  {
   "cell_type": "code",
   "execution_count": 29,
   "metadata": {},
   "outputs": [],
   "source": [
    "ds1 = xr.open_dataset('ssp245_t2_1120_era5_corrected_dailymin.nc')\n",
    "t2_1120_ssp245_dailymin = ds1['ssp245_t2_1120_era5_corrected_dailymin']\n",
    "\n",
    "t2_1120_ssp245_dailymin_df = t2_1120_ssp245_dailymin.to_dataframe().reset_index()\n",
    "\n",
    "#Use 33℃ as a threshold\n",
    "\n",
    "t2_1120_dailymin_thres = (t2_1120_ssp245_dailymin_df[t2_1120_ssp245_dailymin_df['ssp245_t2_1120_era5_corrected_dailymin']>=28]).reset_index(drop=True)"
   ]
  },
  {
   "cell_type": "code",
   "execution_count": 30,
   "metadata": {},
   "outputs": [],
   "source": [
    "t2_1120_dailymin_thres = t2_1120_dailymin_thres.sort_values(['XLAT','XLONG','Time'], ascending=True)\n",
    "\n",
    "t2_1120_dailymin_thres_latlon = t2_1120_dailymin_thres.groupby(['XLAT','XLONG'])\n",
    "\n",
    "\n",
    "t2_1120_dailymin_thres['auxi_col'] = t2_1120_dailymin_thres_latlon['Time'].rank()\n",
    "\n",
    "\n",
    "t2_1120_dailymin_thres['date_sub'] = t2_1120_dailymin_thres['Time'] - pd.to_timedelta(t2_1120_dailymin_thres['auxi_col'],unit='d')\n",
    "\n",
    "HND_1120 = t2_1120_dailymin_thres.groupby(['XLAT','XLONG','south_north','west_east','date_sub']).count().reset_index()\n",
    "HND_1120 = HND_1120.rename(columns={'auxi_col':'concecutive_hot_nights_num'})\n",
    "\n",
    "HND_1120 = HND_1120[HND_1120['concecutive_hot_nights_num']>=3]\n",
    "\n",
    "HND_1120 = HND_1120.groupby(['XLAT','XLONG','south_north','west_east'])['concecutive_hot_nights_num'].mean().reset_index()"
   ]
  },
  {
   "cell_type": "code",
   "execution_count": 31,
   "metadata": {},
   "outputs": [],
   "source": [
    "#mask out the sea\n",
    "\n",
    "HND_1120 = pd.merge(HND_1120,lu_1620_df,on=['XLAT','XLONG','south_north','west_east'],how=\"outer\")\n",
    "\n",
    "HND_1120['concecutive_hot_nights_num'] = HND_1120['concecutive_hot_nights_num'].fillna(0)\n",
    "\n",
    "HND_1120.loc[HND_1120.LU_INDEX == 16, 'concecutive_hot_nights_num'] = 9999\n",
    "\n",
    "HND_1120 = HND_1120.rename(columns={\"concecutive_hot_nights_num\": \"HND\"})"
   ]
  },
  {
   "cell_type": "code",
   "execution_count": 32,
   "metadata": {},
   "outputs": [],
   "source": [
    "HND_1120.to_csv('HND_1120.csv',index=False,columns=['XLAT','XLONG','HND'])\n",
    "\n",
    "HND_1120.to_csv('HND_1120_withgrids.csv',index=False,columns=['XLAT','XLONG','HND','south_north','west_east'])"
   ]
  },
  {
   "cell_type": "markdown",
   "metadata": {},
   "source": [
    "# 2040s"
   ]
  },
  {
   "cell_type": "code",
   "execution_count": 33,
   "metadata": {},
   "outputs": [],
   "source": [
    "ds2 = xr.open_dataset('ssp245_t2_4049_era5_corrected_dailymin.nc')\n",
    "t2_4049_ssp245_dailymin = ds2['ssp245_t2_4049_era5_corrected_dailymin']\n",
    "\n",
    "t2_4049_ssp245_dailymin_df = t2_4049_ssp245_dailymin.to_dataframe().reset_index()\n",
    "\n",
    "#Use 33℃ as a threshold\n",
    "\n",
    "t2_4049_dailymin_thres = (t2_4049_ssp245_dailymin_df[t2_4049_ssp245_dailymin_df['ssp245_t2_4049_era5_corrected_dailymin']>=28]).reset_index(drop=True)"
   ]
  },
  {
   "cell_type": "code",
   "execution_count": 34,
   "metadata": {},
   "outputs": [],
   "source": [
    "t2_4049_dailymin_thres = t2_4049_dailymin_thres.sort_values(['XLAT','XLONG','Time'], ascending=True)\n",
    "\n",
    "\n",
    "t2_4049_dailymin_thres_latlon = t2_4049_dailymin_thres.groupby(['XLAT','XLONG'])\n",
    "\n",
    "\n",
    "t2_4049_dailymin_thres['auxi_col'] = t2_4049_dailymin_thres_latlon['Time'].rank()\n",
    "\n",
    "\n",
    "t2_4049_dailymin_thres['date_sub'] = t2_4049_dailymin_thres['Time'] - pd.to_timedelta(t2_4049_dailymin_thres['auxi_col'],unit='d')\n",
    "\n",
    "\n",
    "HND_4049 = t2_4049_dailymin_thres.groupby(['XLAT','XLONG','south_north','west_east','date_sub']).count().reset_index()\n",
    "HND_4049 = HND_4049.rename(columns={'auxi_col':'concecutive_hot_nights_num'})\n",
    "\n",
    "\n",
    "HND_4049 = HND_4049[HND_4049['concecutive_hot_nights_num']>=3]\n",
    "\n",
    "\n",
    "HND_4049 = HND_4049.groupby(['XLAT','XLONG','south_north','west_east'])['concecutive_hot_nights_num'].mean().reset_index()"
   ]
  },
  {
   "cell_type": "code",
   "execution_count": 35,
   "metadata": {},
   "outputs": [],
   "source": [
    "#mask out the sea\n",
    "\n",
    "HND_4049 = pd.merge(HND_4049,lu_2040s_df,on=['XLAT','XLONG','south_north','west_east'],how=\"outer\")\n",
    "\n",
    "HND_4049['concecutive_hot_nights_num'] = HND_4049['concecutive_hot_nights_num'].fillna(0)\n",
    "\n",
    "HND_4049.loc[HND_4049.LU_INDEX == 16, 'concecutive_hot_nights_num'] = 9999\n",
    "\n",
    "HND_4049 = HND_4049.rename(columns={\"concecutive_hot_nights_num\": \"HND\"})"
   ]
  },
  {
   "cell_type": "code",
   "execution_count": 36,
   "metadata": {},
   "outputs": [],
   "source": [
    "HND_4049.to_csv('HND_4049.csv',index=False,columns=['XLAT','XLONG','HND'])\n",
    "\n",
    "HND_4049.to_csv('HND_4049_withgrids.csv',index=False,columns=['XLAT','XLONG','HND','south_north','west_east'])"
   ]
  },
  {
   "cell_type": "markdown",
   "metadata": {},
   "source": [
    "# 2090s"
   ]
  },
  {
   "cell_type": "code",
   "execution_count": 37,
   "metadata": {},
   "outputs": [],
   "source": [
    "ds2 = xr.open_dataset('ssp245_t2_9099_era5_corrected_dailymin.nc')\n",
    "t2_9099_ssp245_dailymin = ds2['ssp245_t2_9099_era5_corrected_dailymin']\n",
    "\n",
    "t2_9099_ssp245_dailymin_df = t2_9099_ssp245_dailymin.to_dataframe().reset_index()\n",
    "\n",
    "#Use 33℃ as a threshold\n",
    "\n",
    "t2_9099_dailymin_thres = (t2_9099_ssp245_dailymin_df[t2_9099_ssp245_dailymin_df['ssp245_t2_9099_era5_corrected_dailymin']>=28]).reset_index(drop=True)"
   ]
  },
  {
   "cell_type": "code",
   "execution_count": 38,
   "metadata": {},
   "outputs": [],
   "source": [
    "t2_9099_dailymin_thres = t2_9099_dailymin_thres.sort_values(['XLAT','XLONG','Time'], ascending=True)\n",
    "\n",
    "\n",
    "t2_9099_dailymin_thres_latlon = t2_9099_dailymin_thres.groupby(['XLAT','XLONG'])\n",
    "\n",
    "\n",
    "t2_9099_dailymin_thres['auxi_col'] = t2_9099_dailymin_thres_latlon['Time'].rank()\n",
    "\n",
    "\n",
    "t2_9099_dailymin_thres['date_sub'] = t2_9099_dailymin_thres['Time'] - pd.to_timedelta(t2_9099_dailymin_thres['auxi_col'],unit='d')\n",
    "\n",
    "\n",
    "HND_9099 = t2_9099_dailymin_thres.groupby(['XLAT','XLONG','south_north','west_east','date_sub']).count().reset_index()\n",
    "HND_9099 = HND_9099.rename(columns={'auxi_col':'concecutive_hot_nights_num'})\n",
    "\n",
    "\n",
    "HND_9099 = HND_9099[HND_9099['concecutive_hot_nights_num']>=3]\n",
    "\n",
    "\n",
    "HND_9099 = HND_9099.groupby(['XLAT','XLONG','south_north','west_east'])['concecutive_hot_nights_num'].mean().reset_index()"
   ]
  },
  {
   "cell_type": "code",
   "execution_count": 39,
   "metadata": {},
   "outputs": [],
   "source": [
    "#mask out the sea\n",
    "\n",
    "HND_9099 = pd.merge(HND_9099,lu_2040s_df,on=['XLAT','XLONG','south_north','west_east'],how=\"outer\")\n",
    "\n",
    "HND_9099['concecutive_hot_nights_num'] = HND_9099['concecutive_hot_nights_num'].fillna(0)\n",
    "\n",
    "HND_9099.loc[HND_9099.LU_INDEX == 16, 'concecutive_hot_nights_num'] = 9999\n",
    "\n",
    "HND_9099 = HND_9099.rename(columns={\"concecutive_hot_nights_num\": \"HND\"})"
   ]
  },
  {
   "cell_type": "code",
   "execution_count": 40,
   "metadata": {},
   "outputs": [],
   "source": [
    "HND_9099.to_csv('HND_9099.csv',index=False,columns=['XLAT','XLONG','HND'])\n",
    "\n",
    "HND_9099.to_csv('HND_9099_withgrids.csv',index=False,columns=['XLAT','XLONG','HND','south_north','west_east'])"
   ]
  },
  {
   "cell_type": "markdown",
   "metadata": {},
   "source": [
    "# diff"
   ]
  },
  {
   "cell_type": "code",
   "execution_count": 41,
   "metadata": {},
   "outputs": [],
   "source": [
    "HND_1120 = pd.read_csv('HND_1120_withgrids.csv')\n",
    "\n",
    "HND_1120 = HND_1120.replace(9999,np.nan)\n",
    "\n",
    "HND_1120 = HND_1120.sort_values(['west_east','south_north'],ascending=True).reset_index(drop=True)"
   ]
  },
  {
   "cell_type": "code",
   "execution_count": 42,
   "metadata": {},
   "outputs": [],
   "source": [
    "HND_4049 = pd.read_csv('HND_4049_withgrids.csv')\n",
    "\n",
    "HND_4049 = HND_4049.replace(9999,np.nan)\n",
    "\n",
    "HND_4049 = HND_4049.sort_values(['west_east','south_north'],ascending=True).reset_index(drop=True)"
   ]
  },
  {
   "cell_type": "code",
   "execution_count": 43,
   "metadata": {},
   "outputs": [],
   "source": [
    "HND_9099 = pd.read_csv('HND_9099_withgrids.csv')\n",
    "\n",
    "HND_9099 = HND_9099.replace(9999,np.nan)\n",
    "\n",
    "HND_9099 = HND_9099.sort_values(['west_east','south_north'],ascending=True).reset_index(drop=True)"
   ]
  },
  {
   "cell_type": "code",
   "execution_count": 44,
   "metadata": {},
   "outputs": [
    {
     "name": "stdout",
     "output_type": "stream",
     "text": [
      "0\n",
      "0\n",
      "0\n",
      "0\n",
      "0\n",
      "0\n",
      "0\n",
      "0\n"
     ]
    }
   ],
   "source": [
    "#test\n",
    "\n",
    "print((HND_1120['west_east']-HND_4049['west_east']).min())\n",
    "print((HND_1120['west_east']-HND_4049['west_east']).max())\n",
    "print((HND_1120['south_north']-HND_4049['south_north']).max())\n",
    "print((HND_1120['south_north']-HND_4049['south_north']).min())\n",
    "print((HND_4049['west_east']-HND_9099['west_east']).max())\n",
    "print((HND_4049['west_east']-HND_9099['west_east']).min())\n",
    "print((HND_4049['south_north']-HND_9099['south_north']).max())\n",
    "print((HND_4049['south_north']-HND_9099['south_north']).min())"
   ]
  },
  {
   "cell_type": "code",
   "execution_count": 45,
   "metadata": {},
   "outputs": [],
   "source": [
    "HND_diff_2040s = HND_1120.copy()\n",
    "HND_diff_2090s = HND_1120.copy()"
   ]
  },
  {
   "cell_type": "code",
   "execution_count": 46,
   "metadata": {},
   "outputs": [],
   "source": [
    "HND_diff_2040s['diff'] = HND_4049['HND']-HND_1120['HND']\n",
    "\n",
    "HND_diff_2090s['diff'] = HND_9099['HND']-HND_1120['HND']"
   ]
  },
  {
   "cell_type": "code",
   "execution_count": 47,
   "metadata": {},
   "outputs": [],
   "source": [
    "HND_diff_2040s['diff'] = HND_diff_2040s['diff'].fillna(9999)\n",
    "\n",
    "HND_diff_2090s['diff'] = HND_diff_2090s['diff'].fillna(9999)"
   ]
  },
  {
   "cell_type": "code",
   "execution_count": 48,
   "metadata": {},
   "outputs": [],
   "source": [
    "HND_diff_2040s.to_csv('HND_diff_2040s.csv')\n",
    "HND_diff_2090s.to_csv('HND_diff_2090s.csv')"
   ]
  },
  {
   "cell_type": "code",
   "execution_count": null,
   "metadata": {},
   "outputs": [],
   "source": []
  }
 ],
 "metadata": {
  "kernelspec": {
   "display_name": "Python 3",
   "language": "python",
   "name": "python3"
  },
  "language_info": {
   "codemirror_mode": {
    "name": "ipython",
    "version": 3
   },
   "file_extension": ".py",
   "mimetype": "text/x-python",
   "name": "python",
   "nbconvert_exporter": "python",
   "pygments_lexer": "ipython3",
   "version": "3.8.3"
  }
 },
 "nbformat": 4,
 "nbformat_minor": 4
}
