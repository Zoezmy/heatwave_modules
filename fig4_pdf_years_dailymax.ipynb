{
 "cells": [
  {
   "cell_type": "code",
   "execution_count": 1,
   "metadata": {},
   "outputs": [],
   "source": [
    "from netCDF4 import Dataset\n",
    "import matplotlib.pyplot as plt\n",
    "from matplotlib.cm import get_cmap\n",
    "import pandas as pd\n",
    "import numpy as np\n",
    "import os\n",
    "import shutil\n",
    "import re\n",
    "import netCDF4 as nc\n",
    "import xarray as xr\n",
    "import matplotlib.ticker as mticker\n",
    "import matplotlib.pyplot as plt\n",
    "import glob\n",
    "from scipy.stats import norm\n",
    "from scipy import stats\n",
    "import seaborn as sns\n",
    "import shapefile\n",
    "from matplotlib.backends.backend_pdf import PdfPages"
   ]
  },
  {
   "cell_type": "markdown",
   "metadata": {},
   "source": [
    "# 1120 land pdf"
   ]
  },
  {
   "cell_type": "code",
   "execution_count": 2,
   "metadata": {},
   "outputs": [],
   "source": [
    "ds1_1120_lu = xr.open_dataset('ssp245_t2_1120_era5_corrected_dailymax.nc')\n",
    "ssp245_t2_1120_era5_corrected = ds1_1120_lu['ssp245_t2_1120_era5_corrected_dailymax']"
   ]
  },
  {
   "cell_type": "code",
   "execution_count": 3,
   "metadata": {},
   "outputs": [],
   "source": [
    "t2_1120_ssp245_2040lu_df = ssp245_t2_1120_era5_corrected.to_dataframe().reset_index()"
   ]
  },
  {
   "cell_type": "code",
   "execution_count": 4,
   "metadata": {},
   "outputs": [],
   "source": [
    "t2_1120_ssp245_2040lu_land = t2_1120_ssp245_2040lu_df[t2_1120_ssp245_2040lu_df['LU_INDEX']!=16]\n",
    "t2_1120_ssp245_2040lu_land = t2_1120_ssp245_2040lu_land.reset_index(drop=True)\n",
    "t2_1120_ssp245_2040lu_land = t2_1120_ssp245_2040lu_land.rename(columns={\"ssp245_t2_1120_era5_corrected_dailymax\": \"ssp245_t2_1120_era5_corrected_land\"})"
   ]
  },
  {
   "cell_type": "code",
   "execution_count": 5,
   "metadata": {},
   "outputs": [],
   "source": [
    "del t2_1120_ssp245_2040lu_df"
   ]
  },
  {
   "cell_type": "code",
   "execution_count": 6,
   "metadata": {},
   "outputs": [],
   "source": [
    "del t2_1120_ssp245_2040lu_land['Time']\n",
    "del t2_1120_ssp245_2040lu_land['south_north']\n",
    "del t2_1120_ssp245_2040lu_land['west_east']\n",
    "del t2_1120_ssp245_2040lu_land['XLAT']\n",
    "del t2_1120_ssp245_2040lu_land['LU_INDEX']\n",
    "del t2_1120_ssp245_2040lu_land['XLONG']"
   ]
  },
  {
   "cell_type": "markdown",
   "metadata": {},
   "source": [
    "# 4049 land pdf"
   ]
  },
  {
   "cell_type": "code",
   "execution_count": 7,
   "metadata": {},
   "outputs": [],
   "source": [
    "#load files\n",
    "ds_4049_ssp126 = xr.open_dataset('/disk/r110/zzuoaa/hot_extreme/ssp126/bias_corrected_ncfiles_1120/daily_max/ssp126_t2_4049_era5_corrected_dailymax.nc')\n",
    "t2_4049_ssp126_lu = ds_4049_ssp126['ssp126_t2_4049_era5_corrected_dailymax']\n",
    "\n",
    "ds_4049_ssp245 = xr.open_dataset('ssp245_t2_4049_era5_corrected_dailymax.nc')\n",
    "t2_4049_ssp245_lu = ds_4049_ssp245['ssp245_t2_4049_era5_corrected_dailymax']\n",
    "\n",
    "ds_4049_ssp585 = xr.open_dataset('/disk/r110/zzuoaa/hot_extreme/ssp585/bias_corrected_ncfiles_1120/daily_max/ssp585_t2_4049_era5_corrected_dailymax.nc')\n",
    "t2_4049_ssp585_lu = ds_4049_ssp585['ssp585_t2_4049_era5_corrected_dailymax']"
   ]
  },
  {
   "cell_type": "code",
   "execution_count": 8,
   "metadata": {},
   "outputs": [],
   "source": [
    "#ssp126 to dataframe\n",
    "t2_4049_ssp126_lu_df = t2_4049_ssp126_lu.to_dataframe().reset_index()\n",
    "\n",
    "t2_4049_ssp126_land = t2_4049_ssp126_lu_df[t2_4049_ssp126_lu_df['LU_INDEX']!=16]\n",
    "t2_4049_ssp126_land = t2_4049_ssp126_land.reset_index(drop=True)\n",
    "t2_4049_ssp126_land = t2_4049_ssp126_land.rename(columns={\"ssp126_t2_4049_era5_corrected_dailymax\": \"t2_4049_ssp126_land\"})\n",
    "\n",
    "del t2_4049_ssp126_lu_df\n",
    "\n",
    "del t2_4049_ssp126_land['Time']\n",
    "del t2_4049_ssp126_land['south_north']\n",
    "del t2_4049_ssp126_land['west_east']\n",
    "del t2_4049_ssp126_land['XLAT']\n",
    "del t2_4049_ssp126_land['LU_INDEX']\n",
    "del t2_4049_ssp126_land['XLONG']"
   ]
  },
  {
   "cell_type": "code",
   "execution_count": 9,
   "metadata": {},
   "outputs": [],
   "source": [
    "#ssp245 to dataframe\n",
    "t2_4049_ssp245_lu_df = t2_4049_ssp245_lu.to_dataframe().reset_index()\n",
    "\n",
    "t2_4049_ssp245_land = t2_4049_ssp245_lu_df[t2_4049_ssp245_lu_df['LU_INDEX']!=16]\n",
    "t2_4049_ssp245_land = t2_4049_ssp245_land.reset_index(drop=True)\n",
    "t2_4049_ssp245_land = t2_4049_ssp245_land.rename(columns={\"ssp245_t2_4049_era5_corrected_dailymax\": \"t2_4049_ssp245_land\"})\n",
    "\n",
    "del t2_4049_ssp245_lu_df\n",
    "\n",
    "del t2_4049_ssp245_land['Time']\n",
    "del t2_4049_ssp245_land['south_north']\n",
    "del t2_4049_ssp245_land['west_east']\n",
    "del t2_4049_ssp245_land['XLAT']\n",
    "del t2_4049_ssp245_land['LU_INDEX']\n",
    "del t2_4049_ssp245_land['XLONG']"
   ]
  },
  {
   "cell_type": "code",
   "execution_count": 10,
   "metadata": {},
   "outputs": [],
   "source": [
    "#ssp585 to dataframe\n",
    "t2_4049_ssp585_lu_df = t2_4049_ssp585_lu.to_dataframe().reset_index()\n",
    "\n",
    "t2_4049_ssp585_land = t2_4049_ssp585_lu_df[t2_4049_ssp585_lu_df['LU_INDEX']!=16]\n",
    "t2_4049_ssp585_land = t2_4049_ssp585_land.reset_index(drop=True)\n",
    "t2_4049_ssp585_land = t2_4049_ssp585_land.rename(columns={\"ssp585_t2_4049_era5_corrected_dailymax\": \"t2_4049_ssp585_land\"})\n",
    "\n",
    "del t2_4049_ssp585_lu_df\n",
    "\n",
    "del t2_4049_ssp585_land['Time']\n",
    "del t2_4049_ssp585_land['south_north']\n",
    "del t2_4049_ssp585_land['west_east']\n",
    "del t2_4049_ssp585_land['XLAT']\n",
    "del t2_4049_ssp585_land['LU_INDEX']\n",
    "del t2_4049_ssp585_land['XLONG']"
   ]
  },
  {
   "cell_type": "markdown",
   "metadata": {},
   "source": [
    "# 9099 land pdf"
   ]
  },
  {
   "cell_type": "code",
   "execution_count": 11,
   "metadata": {},
   "outputs": [],
   "source": [
    "#load files\n",
    "ds_9099_ssp126 = xr.open_dataset('/disk/r110/zzuoaa/hot_extreme/ssp126/bias_corrected_ncfiles_1120/daily_max/ssp126_t2_9099_era5_corrected_dailymax.nc')\n",
    "t2_9099_ssp126_lu = ds_9099_ssp126['ssp126_t2_9099_era5_corrected_dailymax']\n",
    "\n",
    "ds_9099_ssp245 = xr.open_dataset('ssp245_t2_9099_era5_corrected_dailymax.nc')\n",
    "t2_9099_ssp245_lu = ds_9099_ssp245['ssp245_t2_9099_era5_corrected_dailymax']\n",
    "\n",
    "ds_9099_ssp585 = xr.open_dataset('/disk/r110/zzuoaa/hot_extreme/ssp585/bias_corrected_ncfiles_1120/daily_max/ssp585_t2_9099_era5_corrected_dailymax.nc')\n",
    "t2_9099_ssp585_lu = ds_9099_ssp585['ssp585_t2_9099_era5_corrected_dailymax']"
   ]
  },
  {
   "cell_type": "code",
   "execution_count": 12,
   "metadata": {},
   "outputs": [],
   "source": [
    "#ssp126 to dataframe\n",
    "t2_9099_ssp126_lu_df = t2_9099_ssp126_lu.to_dataframe().reset_index()\n",
    "\n",
    "t2_9099_ssp126_land = t2_9099_ssp126_lu_df[t2_9099_ssp126_lu_df['LU_INDEX']!=16]\n",
    "t2_9099_ssp126_land = t2_9099_ssp126_land.reset_index(drop=True)\n",
    "t2_9099_ssp126_land = t2_9099_ssp126_land.rename(columns={\"ssp126_t2_9099_era5_corrected_dailymax\": \"t2_9099_ssp126_land\"})\n",
    "\n",
    "del t2_9099_ssp126_land['Time']\n",
    "del t2_9099_ssp126_land['south_north']\n",
    "del t2_9099_ssp126_land['west_east']\n",
    "del t2_9099_ssp126_land['XLAT']\n",
    "del t2_9099_ssp126_land['LU_INDEX']\n",
    "del t2_9099_ssp126_land['XLONG']\n",
    "\n",
    "del t2_9099_ssp126_lu_df"
   ]
  },
  {
   "cell_type": "code",
   "execution_count": 13,
   "metadata": {},
   "outputs": [],
   "source": [
    "#ssp245 to dataframe\n",
    "t2_9099_ssp245_lu_df = t2_9099_ssp245_lu.to_dataframe().reset_index()\n",
    "\n",
    "t2_9099_ssp245_land = t2_9099_ssp245_lu_df[t2_9099_ssp245_lu_df['LU_INDEX']!=16]\n",
    "t2_9099_ssp245_land = t2_9099_ssp245_land.reset_index(drop=True)\n",
    "t2_9099_ssp245_land = t2_9099_ssp245_land.rename(columns={\"ssp245_t2_9099_era5_corrected_dailymax\": \"t2_9099_ssp245_land\"})\n",
    "\n",
    "del t2_9099_ssp245_land['Time']\n",
    "del t2_9099_ssp245_land['south_north']\n",
    "del t2_9099_ssp245_land['west_east']\n",
    "del t2_9099_ssp245_land['XLAT']\n",
    "del t2_9099_ssp245_land['LU_INDEX']\n",
    "del t2_9099_ssp245_land['XLONG']\n",
    "\n",
    "del t2_9099_ssp245_lu_df"
   ]
  },
  {
   "cell_type": "code",
   "execution_count": 14,
   "metadata": {},
   "outputs": [],
   "source": [
    "#ssp585 to dataframe\n",
    "t2_9099_ssp585_lu_df = t2_9099_ssp585_lu.to_dataframe().reset_index()\n",
    "\n",
    "t2_9099_ssp585_land = t2_9099_ssp585_lu_df[t2_9099_ssp585_lu_df['LU_INDEX']!=16]\n",
    "t2_9099_ssp585_land = t2_9099_ssp585_land.reset_index(drop=True)\n",
    "t2_9099_ssp585_land = t2_9099_ssp585_land.rename(columns={\"ssp585_t2_9099_era5_corrected_dailymax\": \"t2_9099_ssp585_land\"})\n",
    "\n",
    "del t2_9099_ssp585_land['Time']\n",
    "del t2_9099_ssp585_land['south_north']\n",
    "del t2_9099_ssp585_land['west_east']\n",
    "del t2_9099_ssp585_land['XLAT']\n",
    "del t2_9099_ssp585_land['LU_INDEX']\n",
    "del t2_9099_ssp585_land['XLONG']\n",
    "\n",
    "del t2_9099_ssp585_lu_df"
   ]
  },
  {
   "cell_type": "markdown",
   "metadata": {},
   "source": [
    "# plotting"
   ]
  },
  {
   "cell_type": "code",
   "execution_count": 15,
   "metadata": {},
   "outputs": [
    {
     "name": "stdout",
     "output_type": "stream",
     "text": [
      "32.564707236100794\n",
      "33.321652394743374\n",
      "33.050629644989094\n",
      "32.564707236100794\n",
      "33.28186296788653\n",
      "34.04392093671\n",
      "32.564707236100794\n",
      "33.38419063868883\n",
      "35.652943027841566\n"
     ]
    }
   ],
   "source": [
    "print(t2_1120_ssp245_2040lu_land['ssp245_t2_1120_era5_corrected_land'].astype('float64').mean())\n",
    "print(t2_4049_ssp126_land['t2_4049_ssp126_land'].astype('float64').mean())\n",
    "print(t2_9099_ssp126_land['t2_9099_ssp126_land'].astype('float64').mean())\n",
    "print(t2_1120_ssp245_2040lu_land['ssp245_t2_1120_era5_corrected_land'].astype('float64').mean())\n",
    "print(t2_4049_ssp245_land['t2_4049_ssp245_land'].astype('float64').mean())\n",
    "print(t2_9099_ssp245_land['t2_9099_ssp245_land'].astype('float64').mean())\n",
    "print(t2_1120_ssp245_2040lu_land['ssp245_t2_1120_era5_corrected_land'].astype('float64').mean())\n",
    "print(t2_4049_ssp585_land['t2_4049_ssp585_land'].astype('float64').mean())\n",
    "print(t2_9099_ssp585_land['t2_9099_ssp585_land'].astype('float64').mean())"
   ]
  },
  {
   "cell_type": "code",
   "execution_count": 16,
   "metadata": {},
   "outputs": [
    {
     "data": {
      "image/png": "[encoded data removed]",
      "text/plain": [
       "<Figure size 1080x360 with 2 Axes>"
      ]
     },
     "metadata": {
      "needs_background": "light"
     },
     "output_type": "display_data"
    }
   ],
   "source": [
    "\n",
    "plt.rcParams[\"font.family\"] = \"DejaVu Sans\"\n",
    "font={'weight':'medium',\n",
    "      'color':'black',\n",
    "      'size':12}\n",
    "\n",
    "\n",
    "fig,ax=plt.subplots(1,2,figsize=(15,5),sharex=True)\n",
    "axes = ax.flatten()\n",
    "ax1=axes[0]\n",
    "ax2=axes[1]\n",
    "\n",
    "\n",
    "sns.distplot(t2_1120_ssp245_2040lu_land['ssp245_t2_1120_era5_corrected_land'],bins=200,hist=False,kde=True,color='black',kde_kws={'linestyle':'--'},label='the 2010s',ax=ax1)\n",
    "sns.distplot(t2_4049_ssp126_land['t2_4049_ssp126_land'],bins=200,hist=False,kde=True,color='blue',label='SSP1-2.6',ax=ax1)\n",
    "sns.distplot(t2_4049_ssp245_land['t2_4049_ssp245_land'],bins=200,hist=False,kde=True,color='orange',label='SSP2-4.5',ax=ax1)\n",
    "sns.distplot(t2_4049_ssp585_land['t2_4049_ssp585_land'],bins=200,hist=False,kde=True,color='red',label='SSP5-8.5',ax=ax1)\n",
    "ax1.axvline(32.564707236100794,color='black',linestyle='--',ymax=0.2)\n",
    "ax1.axvline(33.321652394743374,color='blue',linestyle='-',ymax=0.2)\n",
    "ax1.axvline(33.28186296788653,color='orange',linestyle='-',ymax=0.2)\n",
    "ax1.axvline(33.38419063868883,color='red',linestyle='-',ymax=0.2)\n",
    "\n",
    "sns.distplot(t2_1120_ssp245_2040lu_land['ssp245_t2_1120_era5_corrected_land'],bins=200,hist=False,kde=True,color='black',kde_kws={'linestyle':'--'},label='the 2010s',ax=ax2)\n",
    "sns.distplot(t2_9099_ssp126_land['t2_9099_ssp126_land'],bins=200,hist=False,kde=True,color='blue',label='SSP1-2.6',ax=ax2)\n",
    "sns.distplot(t2_9099_ssp245_land['t2_9099_ssp245_land'],bins=200,hist=False,kde=True,color='orange',label='SSP2-4.5',ax=ax2)\n",
    "sns.distplot(t2_9099_ssp585_land['t2_9099_ssp585_land'],bins=200,hist=False,kde=True,color='red',label='SSP5-8.5',ax=ax2)\n",
    "ax2.axvline(32.564707236100794,color='black',linestyle='--',ymax=0.2)\n",
    "ax2.axvline(33.050629644989094,color='blue',linestyle='-',ymax=0.2)\n",
    "ax2.axvline(34.04392093671,color='orange',linestyle='-',ymax=0.2)\n",
    "ax2.axvline(35.652943027841566,color='red',linestyle='-',ymax=0.2)\n",
    "\n",
    "\n",
    "fig.subplots_adjust(hspace=0.1)\n",
    "\n",
    "\n",
    "ax1.set_ylim(0,0.3)\n",
    "ax1.set_yticks([0,0.05,0.1,0.15,0.2,0.25,0.3])\n",
    "ax1.set_yticklabels([0,0.05,0.1,0.15,0.2,0.25,0.3],fontdict=font)\n",
    "ax1.set_ylabel('Probability',fontsize=16)\n",
    "\n",
    "ax2.set_ylim(0,0.3)\n",
    "ax2.set_yticks([0,0.05,0.1,0.15,0.2,0.25,0.3])\n",
    "ax2.set_yticklabels([0,0.05,0.1,0.15,0.2,0.25,0.3],fontdict=font)\n",
    "ax2.set_ylabel('Probability',fontsize=16)\n",
    "\n",
    "\n",
    "ax1.set_xticks(range(11, 46)[::2])\n",
    "ax1.set_xticklabels(range(11, 46)[::2],fontdict=font)\n",
    "ax2.set_xticks(range(11, 46)[::2])\n",
    "ax2.set_xticklabels(range(11, 46)[::2],fontdict=font)\n",
    "# ax3.set_xticklabels([16,18,20,22,24,26,28,30,32,34,36,38,40,42,44],fontdict=font)\n",
    "ax1.set_xlabel('2 m temperature (°C)',fontsize=16)\n",
    "ax2.set_xlabel('2 m temperature (°C)',fontsize=16)\n",
    "             \n",
    "\n",
    "ax1.tick_params(direction='in')\n",
    "ax2.tick_params(direction='in')\n",
    "            \n",
    "ax1.set_title('(c) 2040s', fontsize=16, color='black',loc='left')\n",
    "ax2.set_title('(d) 2090s', fontsize=16, color='black',loc='left')\n",
    "\n",
    "\n",
    "ax1.legend(loc='upper right',frameon=False,fontsize=12)\n",
    "ax2.legend(loc='upper right',frameon=False,fontsize=12)\n",
    "\n",
    "plt.rcParams['savefig.dpi'] = 500 \n",
    "plt.rcParams['figure.dpi'] = 500 \n",
    "# plt.suptitle('PDF of 2m temperature in land areas under SSP585 scenario',y=1.03,fontsize=15)\n",
    "# plt.title('PDF of 2m temperature in land areas under SSP585 scenario', y=1.05,fontsize=15)\n",
    "plt.show()\n",
    "fig.savefig('/disk/r110/zzuoaa/hot_extreme/plots_era5_correction_1120/figs/fig2_pdf/fig4_land_year_dailymax.eps',bbox_inches='tight',dpi=500,format='eps')\n",
    "fig.savefig('/disk/r110/zzuoaa/hot_extreme/plots_era5_correction_1120/figs/fig2_pdf/fig4_land_year_dailymax.pdf',dpi=500)\n",
    "fig.savefig('/disk/r110/zzuoaa/hot_extreme/plots_era5_correction_1120/figs/fig2_pdf/fig4_land_year_dailymax.png',dpi=500)"
   ]
  },
  {
   "cell_type": "code",
   "execution_count": 17,
   "metadata": {},
   "outputs": [
    {
     "name": "stdout",
     "output_type": "stream",
     "text": [
      "skew of max_ssp245_1120 =  -0.4863997\n",
      "variance of max_ssp245_1120 =  10.317808151245117\n",
      "skew of max_ssp126_4049 =  -0.38008764\n",
      "variance of max_ssp126_4049 =  17.114904403686523\n",
      "skew of max_ssp245_4049 =  -0.4928519\n",
      "variance of max_ssp245_4049 =  20.45661163330078\n",
      "skew of max_ssp585_4049 =  -0.53882205\n",
      "variance of max_ssp585_4049 =  21.904203414916992\n",
      "skew of max_ssp126_9099 =  -0.47158456\n",
      "variance of max_ssp126_9099 =  12.31881332397461\n",
      "skew of max_ssp245_9099 =  -0.5003692\n",
      "variance of max_ssp245_9099 =  34.9545783996582\n",
      "skew of max_ssp585_9099 =  -0.43316093\n",
      "variance of max_ssp585_9099 =  41.00483322143555\n"
     ]
    }
   ],
   "source": [
    "print(\"skew of max_ssp245_1120 = \",t2_1120_ssp245_2040lu_land['ssp245_t2_1120_era5_corrected_land'].skew())\n",
    "print(\"variance of max_ssp245_1120 = \",np.var(t2_1120_ssp245_2040lu_land['ssp245_t2_1120_era5_corrected_land']))\n",
    "\n",
    "print(\"skew of max_ssp126_4049 = \",t2_4049_ssp126_land['t2_4049_ssp126_land'].skew())\n",
    "print(\"variance of max_ssp126_4049 = \",np.var(t2_4049_ssp126_land['t2_4049_ssp126_land']))\n",
    "\n",
    "print(\"skew of max_ssp245_4049 = \",t2_4049_ssp245_land['t2_4049_ssp245_land'].skew())\n",
    "print(\"variance of max_ssp245_4049 = \",np.var(t2_4049_ssp245_land['t2_4049_ssp245_land']))\n",
    "\n",
    "print(\"skew of max_ssp585_4049 = \",t2_4049_ssp585_land['t2_4049_ssp585_land'].skew())\n",
    "print(\"variance of max_ssp585_4049 = \",np.var(t2_4049_ssp585_land['t2_4049_ssp585_land']))\n",
    "\n",
    "print(\"skew of max_ssp126_9099 = \",t2_9099_ssp126_land['t2_9099_ssp126_land'].skew())\n",
    "print(\"variance of max_ssp126_9099 = \",np.var(t2_9099_ssp126_land['t2_9099_ssp126_land']))\n",
    "\n",
    "print(\"skew of max_ssp245_9099 = \",t2_9099_ssp245_land['t2_9099_ssp245_land'].skew())\n",
    "print(\"variance of max_ssp245_9099 = \",np.var(t2_9099_ssp245_land['t2_9099_ssp245_land']))\n",
    "\n",
    "print(\"skew of max_ssp585_9099 = \",t2_9099_ssp585_land['t2_9099_ssp585_land'].skew())\n",
    "print(\"variance of max_ssp585_9099 = \",np.var(t2_9099_ssp585_land['t2_9099_ssp585_land']))"
   ]
  },
  {
   "cell_type": "code",
   "execution_count": null,
   "metadata": {},
   "outputs": [],
   "source": []
  },
  {
   "cell_type": "code",
   "execution_count": null,
   "metadata": {},
   "outputs": [],
   "source": []
  },
  {
   "cell_type": "code",
   "execution_count": null,
   "metadata": {},
   "outputs": [],
   "source": []
  },
  {
   "cell_type": "code",
   "execution_count": null,
   "metadata": {},
   "outputs": [],
   "source": []
  },
  {
   "cell_type": "code",
   "execution_count": null,
   "metadata": {},
   "outputs": [],
   "source": []
  },
  {
   "cell_type": "code",
   "execution_count": null,
   "metadata": {},
   "outputs": [],
   "source": []
  },
  {
   "cell_type": "code",
   "execution_count": null,
   "metadata": {},
   "outputs": [],
   "source": []
  }
 ],
 "metadata": {
  "kernelspec": {
   "display_name": "Python 3",
   "language": "python",
   "name": "python3"
  },
  "language_info": {
   "codemirror_mode": {
    "name": "ipython",
    "version": 3
   },
   "file_extension": ".py",
   "mimetype": "text/x-python",
   "name": "python",
   "nbconvert_exporter": "python",
   "pygments_lexer": "ipython3",
   "version": "3.8.3"
  }
 },
 "nbformat": 4,
 "nbformat_minor": 4
}
