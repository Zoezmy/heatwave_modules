{
 "cells": [
  {
   "cell_type": "code",
   "execution_count": 1,
   "metadata": {},
   "outputs": [],
   "source": [
    "from netCDF4 import Dataset\n",
    "from wrf import (to_np, getvar, smooth2d, get_cartopy, cartopy_xlim,\n",
    "                 cartopy_ylim, latlon_coords, ALL_TIMES,interpline, CoordPair, xy_to_ll, ll_to_xy)\n",
    "import pandas as pd\n",
    "import numpy as np\n",
    "import os\n",
    "import shutil\n",
    "import re\n",
    "import netCDF4 as nc\n",
    "import xarray as xr"
   ]
  },
  {
   "cell_type": "markdown",
   "metadata": {},
   "source": [
    "# intensity"
   ]
  },
  {
   "cell_type": "markdown",
   "metadata": {},
   "source": [
    "ssp245_1120"
   ]
  },
  {
   "cell_type": "code",
   "execution_count": 2,
   "metadata": {},
   "outputs": [
    {
     "name": "stdout",
     "output_type": "stream",
     "text": [
      "37.741695404052734\n"
     ]
    }
   ],
   "source": [
    "#load files-1120\n",
    "ds_ssp245_1120 = xr.open_dataset('ssp245_t2_1120_era5_corrected_dailymax.nc')\n",
    "ssp245_t2_1120_dailymax = ds_ssp245_1120['ssp245_t2_1120_era5_corrected_dailymax']\n",
    "\n",
    "ssp245_t2_1120_max = ssp245_t2_1120_dailymax.max(dim='Time')\n",
    "\n",
    "ssp245_t2_1120_max_df = ssp245_t2_1120_max.to_dataframe().reset_index()\n",
    "\n",
    "ssp245_t2_1120_max_land = ssp245_t2_1120_max_df[ssp245_t2_1120_max_df['LU_INDEX']!=16].reset_index(drop=True)\n",
    "\n",
    "ssp245_t2_1120_max_land_max = ssp245_t2_1120_max_land['ssp245_t2_1120_era5_corrected_dailymax'].mean()\n",
    "\n",
    "print(ssp245_t2_1120_max_land_max)"
   ]
  },
  {
   "cell_type": "markdown",
   "metadata": {},
   "source": [
    "ssp126_2040s"
   ]
  },
  {
   "cell_type": "code",
   "execution_count": 3,
   "metadata": {},
   "outputs": [
    {
     "name": "stdout",
     "output_type": "stream",
     "text": [
      "38.324371337890625\n"
     ]
    }
   ],
   "source": [
    "#load files-4049\n",
    "ds_ssp126_4049 = xr.open_dataset('ssp126_t2_4049_era5_corrected_dailymax.nc')\n",
    "ssp126_t2_4049_dailymax = ds_ssp126_4049['ssp126_t2_4049_era5_corrected_dailymax']\n",
    "\n",
    "ssp126_t2_4049_max = ssp126_t2_4049_dailymax.max(dim='Time')\n",
    "\n",
    "ssp126_t2_4049_max_df = ssp126_t2_4049_max.to_dataframe().reset_index()\n",
    "\n",
    "ssp126_t2_4049_max_land = ssp126_t2_4049_max_df[ssp126_t2_4049_max_df['LU_INDEX']!=16].reset_index(drop=True)\n",
    "\n",
    "ssp126_t2_4049_max_land_max = ssp126_t2_4049_max_land['ssp126_t2_4049_era5_corrected_dailymax'].mean()\n",
    "\n",
    "print(ssp126_t2_4049_max_land_max)"
   ]
  },
  {
   "cell_type": "markdown",
   "metadata": {},
   "source": [
    "ssp126_2090s"
   ]
  },
  {
   "cell_type": "code",
   "execution_count": 4,
   "metadata": {},
   "outputs": [
    {
     "name": "stdout",
     "output_type": "stream",
     "text": [
      "38.372589111328125\n"
     ]
    }
   ],
   "source": [
    "#load files-9099\n",
    "ds_ssp126_9099 = xr.open_dataset('ssp126_t2_9099_era5_corrected_dailymax.nc')\n",
    "ssp126_t2_9099_dailymax = ds_ssp126_9099['ssp126_t2_9099_era5_corrected_dailymax']\n",
    "\n",
    "ssp126_t2_9099_max = ssp126_t2_9099_dailymax.max(dim='Time')\n",
    "\n",
    "ssp126_t2_9099_max_df = ssp126_t2_9099_max.to_dataframe().reset_index()\n",
    "\n",
    "ssp126_t2_9099_max_land = ssp126_t2_9099_max_df[ssp126_t2_9099_max_df['LU_INDEX']!=16].reset_index(drop=True)\n",
    "\n",
    "ssp126_t2_9099_max_land_max = ssp126_t2_9099_max_land['ssp126_t2_9099_era5_corrected_dailymax'].mean()\n",
    "\n",
    "print(ssp126_t2_9099_max_land_max)"
   ]
  },
  {
   "cell_type": "markdown",
   "metadata": {},
   "source": [
    "ssp245_2040s"
   ]
  },
  {
   "cell_type": "code",
   "execution_count": 5,
   "metadata": {},
   "outputs": [
    {
     "name": "stdout",
     "output_type": "stream",
     "text": [
      "38.31341552734375\n"
     ]
    }
   ],
   "source": [
    "#load files-4049\n",
    "ds_ssp245_4049 = xr.open_dataset('ssp245_t2_4049_era5_corrected_dailymax.nc')\n",
    "ssp245_t2_4049_dailymax = ds_ssp245_4049['ssp245_t2_4049_era5_corrected_dailymax']\n",
    "\n",
    "ssp245_t2_4049_max = ssp245_t2_4049_dailymax.max(dim='Time')\n",
    "\n",
    "ssp245_t2_4049_max_df = ssp245_t2_4049_max.to_dataframe().reset_index()\n",
    "\n",
    "ssp245_t2_4049_max_land = ssp245_t2_4049_max_df[ssp245_t2_4049_max_df['LU_INDEX']!=16].reset_index(drop=True)\n",
    "\n",
    "ssp245_t2_4049_max_land_max = ssp245_t2_4049_max_land['ssp245_t2_4049_era5_corrected_dailymax'].mean()\n",
    "\n",
    "print(ssp245_t2_4049_max_land_max)"
   ]
  },
  {
   "cell_type": "markdown",
   "metadata": {},
   "source": [
    "ssp245_2090s"
   ]
  },
  {
   "cell_type": "code",
   "execution_count": 6,
   "metadata": {},
   "outputs": [
    {
     "name": "stdout",
     "output_type": "stream",
     "text": [
      "39.12293243408203\n"
     ]
    }
   ],
   "source": [
    "#load files-9099\n",
    "ds_ssp245_9099 = xr.open_dataset('ssp245_t2_9099_era5_corrected_dailymax.nc')\n",
    "ssp245_t2_9099_dailymax = ds_ssp245_9099['ssp245_t2_9099_era5_corrected_dailymax']\n",
    "\n",
    "ssp245_t2_9099_max = ssp245_t2_9099_dailymax.max(dim='Time')\n",
    "\n",
    "ssp245_t2_9099_max_df = ssp245_t2_9099_max.to_dataframe().reset_index()\n",
    "\n",
    "ssp245_t2_9099_max_land = ssp245_t2_9099_max_df[ssp245_t2_9099_max_df['LU_INDEX']!=16].reset_index(drop=True)\n",
    "\n",
    "ssp245_t2_9099_max_land_max = ssp245_t2_9099_max_land['ssp245_t2_9099_era5_corrected_dailymax'].mean()\n",
    "\n",
    "print(ssp245_t2_9099_max_land_max)"
   ]
  },
  {
   "cell_type": "markdown",
   "metadata": {},
   "source": [
    "ssp585_2040s"
   ]
  },
  {
   "cell_type": "code",
   "execution_count": 7,
   "metadata": {},
   "outputs": [
    {
     "name": "stdout",
     "output_type": "stream",
     "text": [
      "38.35176086425781\n"
     ]
    }
   ],
   "source": [
    "#load files-4049\n",
    "ds_ssp585_4049 = xr.open_dataset('ssp585_t2_4049_era5_corrected_dailymax.nc')\n",
    "ssp585_t2_4049_dailymax = ds_ssp585_4049['ssp585_t2_4049_era5_corrected_dailymax']\n",
    "\n",
    "ssp585_t2_4049_max = ssp585_t2_4049_dailymax.max(dim='Time')\n",
    "\n",
    "ssp585_t2_4049_max_df = ssp585_t2_4049_max.to_dataframe().reset_index()\n",
    "\n",
    "ssp585_t2_4049_max_land = ssp585_t2_4049_max_df[ssp585_t2_4049_max_df['LU_INDEX']!=16].reset_index(drop=True)\n",
    "\n",
    "ssp585_t2_4049_max_land_max = ssp585_t2_4049_max_land['ssp585_t2_4049_era5_corrected_dailymax'].mean()\n",
    "\n",
    "print(ssp585_t2_4049_max_land_max)"
   ]
  },
  {
   "cell_type": "markdown",
   "metadata": {},
   "source": [
    "ssp585_2090s"
   ]
  },
  {
   "cell_type": "code",
   "execution_count": 8,
   "metadata": {},
   "outputs": [
    {
     "name": "stdout",
     "output_type": "stream",
     "text": [
      "41.12495040893555\n"
     ]
    }
   ],
   "source": [
    "#load files-9099\n",
    "ds_ssp585_9099 = xr.open_dataset('ssp585_t2_9099_era5_corrected_dailymax.nc')\n",
    "ssp585_t2_9099_dailymax = ds_ssp585_9099['ssp585_t2_9099_era5_corrected_dailymax']\n",
    "\n",
    "ssp585_t2_9099_max = ssp585_t2_9099_dailymax.max(dim='Time')\n",
    "\n",
    "ssp585_t2_9099_max_df = ssp585_t2_9099_max.to_dataframe().reset_index()\n",
    "\n",
    "ssp585_t2_9099_max_land = ssp585_t2_9099_max_df[ssp585_t2_9099_max_df['LU_INDEX']!=16].reset_index(drop=True)\n",
    "\n",
    "ssp585_t2_9099_max_land_max = ssp585_t2_9099_max_land['ssp585_t2_9099_era5_corrected_dailymax'].mean()\n",
    "\n",
    "print(ssp585_t2_9099_max_land_max)"
   ]
  },
  {
   "cell_type": "code",
   "execution_count": 11,
   "metadata": {},
   "outputs": [],
   "source": [
    "data = {'scenario':['ssp126_2040s','ssp126_2090s','ssp245_2010s','ssp245_2040s','ssp245_2090s','ssp585_2040s','ssp585_2090s'],\n",
    "       'max_mean':[ssp126_t2_4049_max_land_max,ssp126_t2_9099_max_land_max,ssp245_t2_1120_max_land_max,ssp245_t2_4049_max_land_max,ssp245_t2_9099_max_land_max,ssp585_t2_4049_max_land_max,ssp585_t2_9099_max_land_max]}\n",
    "maxmean_PRD = pd.DataFrame(data)"
   ]
  },
  {
   "cell_type": "code",
   "execution_count": 12,
   "metadata": {},
   "outputs": [],
   "source": [
    "maxmean_PRD.to_csv('maxmean_PRD.csv',index=False)"
   ]
  },
  {
   "cell_type": "markdown",
   "metadata": {},
   "source": [
    "# frequency"
   ]
  },
  {
   "cell_type": "code",
   "execution_count": 9,
   "metadata": {},
   "outputs": [],
   "source": [
    "ssp126_2040s = pd.read_csv('ssp126_t2_4049_ry_land.csv')\n",
    "\n",
    "ssp126_2040s = ssp126_2040s.replace(9999,np.nan)"
   ]
  },
  {
   "cell_type": "code",
   "execution_count": 10,
   "metadata": {},
   "outputs": [
    {
     "name": "stdout",
     "output_type": "stream",
     "text": [
      "4.0913089118687695\n"
     ]
    }
   ],
   "source": [
    "ssp126_2040s_mean = ssp126_2040s['reoccur_year'].mean()\n",
    "\n",
    "print(ssp126_2040s_mean)"
   ]
  },
  {
   "cell_type": "code",
   "execution_count": 11,
   "metadata": {},
   "outputs": [],
   "source": [
    "ssp126_2090s = pd.read_csv('ssp126_t2_9099_ry_land.csv')\n",
    "\n",
    "ssp126_2090s = ssp126_2090s.replace(9999,np.nan)"
   ]
  },
  {
   "cell_type": "code",
   "execution_count": 12,
   "metadata": {},
   "outputs": [
    {
     "name": "stdout",
     "output_type": "stream",
     "text": [
      "3.4556850012273603\n"
     ]
    }
   ],
   "source": [
    "ssp126_2090s_mean = ssp126_2090s['reoccur_year'].mean()\n",
    "\n",
    "print(ssp126_2090s_mean)"
   ]
  },
  {
   "cell_type": "code",
   "execution_count": 13,
   "metadata": {},
   "outputs": [],
   "source": [
    "ssp245_2040s = pd.read_csv('ssp245_t2_4049_ry_land.csv')\n",
    "\n",
    "ssp245_2040s = ssp245_2040s.replace(9999,np.nan)"
   ]
  },
  {
   "cell_type": "code",
   "execution_count": 14,
   "metadata": {},
   "outputs": [
    {
     "name": "stdout",
     "output_type": "stream",
     "text": [
      "4.690219738269676\n"
     ]
    }
   ],
   "source": [
    "ssp245_2040s_mean = ssp245_2040s['reoccur_year'].mean()\n",
    "\n",
    "print(ssp245_2040s_mean)"
   ]
  },
  {
   "cell_type": "code",
   "execution_count": 15,
   "metadata": {},
   "outputs": [
    {
     "data": {
      "text/plain": [
       "0.2502054794520548"
      ]
     },
     "execution_count": 15,
     "metadata": {},
     "output_type": "execute_result"
    }
   ],
   "source": [
    "ssp126_2040s['reoccur_year'].min()"
   ]
  },
  {
   "cell_type": "code",
   "execution_count": 16,
   "metadata": {},
   "outputs": [
    {
     "data": {
      "text/plain": [
       "10.008219178082193"
      ]
     },
     "execution_count": 16,
     "metadata": {},
     "output_type": "execute_result"
    }
   ],
   "source": [
    "ssp126_2040s['reoccur_year'].max()"
   ]
  },
  {
   "cell_type": "code",
   "execution_count": 17,
   "metadata": {},
   "outputs": [
    {
     "data": {
      "text/plain": [
       "0.32284577993813524"
      ]
     },
     "execution_count": 17,
     "metadata": {},
     "output_type": "execute_result"
    }
   ],
   "source": [
    "ssp245_2040s['reoccur_year'].min()"
   ]
  },
  {
   "cell_type": "code",
   "execution_count": 18,
   "metadata": {},
   "outputs": [
    {
     "data": {
      "text/plain": [
       "10.008219178082193"
      ]
     },
     "execution_count": 18,
     "metadata": {},
     "output_type": "execute_result"
    }
   ],
   "source": [
    "ssp245_2040s['reoccur_year'].max()"
   ]
  },
  {
   "cell_type": "code",
   "execution_count": 32,
   "metadata": {},
   "outputs": [],
   "source": [
    "ssp245_2090s = pd.read_csv('ssp245_t2_9099_ry_land.csv')\n",
    "\n",
    "ssp245_2090s = ssp245_2090s.replace(9999,np.nan)"
   ]
  },
  {
   "cell_type": "code",
   "execution_count": 33,
   "metadata": {},
   "outputs": [
    {
     "name": "stdout",
     "output_type": "stream",
     "text": [
      "1.1891440336765846\n"
     ]
    }
   ],
   "source": [
    "ssp245_2090s_mean = ssp245_2090s['reoccur_year'].mean()\n",
    "\n",
    "print(ssp245_2090s_mean)"
   ]
  },
  {
   "cell_type": "code",
   "execution_count": 21,
   "metadata": {},
   "outputs": [],
   "source": [
    "ssp585_2040s = pd.read_csv('ssp585_t2_4049_ry_land.csv')\n",
    "\n",
    "ssp585_2040s = ssp585_2040s.replace(9999,np.nan)"
   ]
  },
  {
   "cell_type": "code",
   "execution_count": 22,
   "metadata": {},
   "outputs": [
    {
     "name": "stdout",
     "output_type": "stream",
     "text": [
      "2.657061309452256\n"
     ]
    }
   ],
   "source": [
    "ssp585_2040s_mean = ssp585_2040s['reoccur_year'].mean()\n",
    "\n",
    "print(ssp585_2040s_mean)"
   ]
  },
  {
   "cell_type": "code",
   "execution_count": 23,
   "metadata": {},
   "outputs": [],
   "source": [
    "ssp585_2090s = pd.read_csv('ssp585_t2_9099_ry_land.csv')\n",
    "\n",
    "ssp585_2090s = ssp585_2090s.replace(9999,np.nan)"
   ]
  },
  {
   "cell_type": "code",
   "execution_count": 24,
   "metadata": {},
   "outputs": [
    {
     "name": "stdout",
     "output_type": "stream",
     "text": [
      "0.12633671808716354\n"
     ]
    }
   ],
   "source": [
    "ssp585_2090s_mean = ssp585_2090s['reoccur_year'].mean()\n",
    "\n",
    "print(ssp585_2090s_mean)"
   ]
  },
  {
   "cell_type": "code",
   "execution_count": 25,
   "metadata": {},
   "outputs": [
    {
     "data": {
      "text/plain": [
       "1.4297455968688846"
      ]
     },
     "execution_count": 25,
     "metadata": {},
     "output_type": "execute_result"
    }
   ],
   "source": [
    "ssp585_2090s['reoccur_year'].max()"
   ]
  }
 ],
 "metadata": {
  "kernelspec": {
   "display_name": "Python 3",
   "language": "python",
   "name": "python3"
  },
  "language_info": {
   "codemirror_mode": {
    "name": "ipython",
    "version": 3
   },
   "file_extension": ".py",
   "mimetype": "text/x-python",
   "name": "python",
   "nbconvert_exporter": "python",
   "pygments_lexer": "ipython3",
   "version": "3.8.3"
  }
 },
 "nbformat": 4,
 "nbformat_minor": 4
}
