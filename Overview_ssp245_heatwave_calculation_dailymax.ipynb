{
 "cells": [
  {
   "cell_type": "code",
   "execution_count": 1,
   "metadata": {},
   "outputs": [],
   "source": [
    "from netCDF4 import Dataset\n",
    "import pandas as pd\n",
    "import numpy as np\n",
    "import os\n",
    "import shutil\n",
    "import re\n",
    "import netCDF4 as nc\n",
    "import xarray as xr"
   ]
  },
  {
   "cell_type": "code",
   "execution_count": 2,
   "metadata": {},
   "outputs": [],
   "source": [
    "ds_lu_2010s = xr.open_dataset('wrfout_d04_2011-06-23_11:00:00')\n",
    "lu_2010s = ds_lu_2010s['LU_INDEX']\n",
    "\n",
    "lu_2010s = lu_2010s[0,:,:]\n",
    "\n",
    "lu_2010s_df = lu_2010s.to_dataframe().reset_index()"
   ]
  },
  {
   "cell_type": "code",
   "execution_count": 3,
   "metadata": {},
   "outputs": [],
   "source": [
    "ds_lu_2040s = xr.open_dataset('wrfout_d04_2040-06-18_23:00:00')\n",
    "lu_2040s = ds_lu_2040s['LU_INDEX']\n",
    "\n",
    "lu_2040s = lu_2040s[0,:,:]\n",
    "\n",
    "lu_2040s_df = lu_2040s.to_dataframe().reset_index()"
   ]
  },
  {
   "cell_type": "markdown",
   "metadata": {},
   "source": [
    "# Hot-day number trend in 2010s"
   ]
  },
  {
   "cell_type": "code",
   "execution_count": 4,
   "metadata": {},
   "outputs": [],
   "source": [
    "ds1 = xr.open_dataset('ssp245_t2_1120_era5_corrected_dailymax.nc')\n",
    "t2_1120_ssp245_dailymax = ds1['ssp245_t2_1120_era5_corrected_dailymax']\n",
    "\n",
    "t2_1120_ssp245_dailymax_df = t2_1120_ssp245_dailymax.to_dataframe().reset_index()\n",
    "\n",
    "t2_1120_ssp245_dailymax_land = t2_1120_ssp245_dailymax_df[t2_1120_ssp245_dailymax_df['LU_INDEX']!=16]\n",
    "\n",
    "#Use 33℃ as a threshold\n",
    "\n",
    "t2_1120_dailymax_thres = (t2_1120_ssp245_dailymax_land[t2_1120_ssp245_dailymax_land['ssp245_t2_1120_era5_corrected_dailymax']>=33]).reset_index(drop=True)"
   ]
  },
  {
   "cell_type": "code",
   "execution_count": 5,
   "metadata": {},
   "outputs": [],
   "source": [
    "HDF_1120 = t2_1120_dailymax_thres.groupby(['XLAT','XLONG','west_east','south_north'],as_index=False)['ssp245_t2_1120_era5_corrected_dailymax'].count()\n",
    "HDF_1120 = HDF_1120.rename(columns={'ssp245_t2_1120_era5_corrected_dailymax':'hot_days_num'})"
   ]
  },
  {
   "cell_type": "code",
   "execution_count": 14,
   "metadata": {},
   "outputs": [],
   "source": [
    "HDF_1120 = pd.merge(HDF_1120,lu_2010s_df,on=['west_east','south_north'],how=\"outer\")"
   ]
  },
  {
   "cell_type": "code",
   "execution_count": 21,
   "metadata": {},
   "outputs": [],
   "source": [
    "del HDF_1120['XLAT_x']\n",
    "del HDF_1120['XLONG_x']"
   ]
  },
  {
   "cell_type": "code",
   "execution_count": 22,
   "metadata": {},
   "outputs": [],
   "source": [
    "HDF_land_1120 = HDF_1120[HDF_1120['LU_INDEX']!=16]\n",
    "\n",
    "HDF_land_1120 = HDF_land_1120.reset_index(drop=True)"
   ]
  },
  {
   "cell_type": "code",
   "execution_count": 26,
   "metadata": {},
   "outputs": [
    {
     "name": "stdout",
     "output_type": "stream",
     "text": [
      "55.869120576795574\n"
     ]
    }
   ],
   "source": [
    "HDF_land_1120 = HDF_land_1120.fillna(0)\n",
    "\n",
    "HDF_land_1120['hot_days_num'] = HDF_land_1120['hot_days_num']/10\n",
    "\n",
    "print(HDF_land_1120['hot_days_num'].mean())"
   ]
  },
  {
   "cell_type": "markdown",
   "metadata": {},
   "source": [
    "# Hot-day number trend in 2040s"
   ]
  },
  {
   "cell_type": "code",
   "execution_count": 5,
   "metadata": {},
   "outputs": [],
   "source": [
    "ds1 = xr.open_dataset('ssp245_t2_4049_era5_corrected_dailymax.nc')\n",
    "t2_4049_ssp245_dailymax = ds1['ssp245_t2_4049_era5_corrected_dailymax']\n",
    "\n",
    "t2_4049_ssp245_dailymax_df = t2_4049_ssp245_dailymax.to_dataframe().reset_index()\n",
    "\n",
    "t2_4049_ssp245_dailymax_land = t2_4049_ssp245_dailymax_df[t2_4049_ssp245_dailymax_df['LU_INDEX']!=16]\n",
    "\n",
    "#Use 33℃ as a threshold\n",
    "\n",
    "t2_4049_dailymax_thres = (t2_4049_ssp245_dailymax_land[t2_4049_ssp245_dailymax_land['ssp245_t2_4049_era5_corrected_dailymax']>=33]).reset_index(drop=True)"
   ]
  },
  {
   "cell_type": "code",
   "execution_count": null,
   "metadata": {},
   "outputs": [],
   "source": [
    "HDF_4049 = t2_4049_dailymax_thres.groupby(['XLAT','XLONG','west_east','south_north'],as_index=False)['ssp245_t2_4049_era5_corrected_dailymax'].count()\n",
    "HDF_4049 = HDF_4049.rename(columns={'ssp245_t2_4049_era5_corrected_dailymax':'hot_days_num'})"
   ]
  },
  {
   "cell_type": "code",
   "execution_count": null,
   "metadata": {},
   "outputs": [],
   "source": [
    "HDF_4049 = pd.merge(HDF_4049,lu_2040s_df,on=['XLAT','XLONG'],how=\"outer\")\n",
    "\n",
    "HDF_land_4049 = HDF_4049[HDF_4049['LU_INDEX']!=16]\n",
    "\n",
    "HDF_land_4049 = HDF_land_4049.reset_index(drop=True)\n",
    "\n",
    "HDF_land_4049 = HDF_land_4049.fillna(0)\n",
    "\n",
    "HDF_land_4049['hot_days_num'] = HDF_land_4049['hot_days_num']/10\n",
    "\n",
    "print(HDF_land_4049['hot_days_num'].mean())"
   ]
  },
  {
   "cell_type": "markdown",
   "metadata": {},
   "source": [
    "# Hot-day number trend in 2090s"
   ]
  },
  {
   "cell_type": "code",
   "execution_count": 6,
   "metadata": {},
   "outputs": [],
   "source": [
    "ds1 = xr.open_dataset('ssp245_t2_9099_era5_corrected_dailymax.nc')\n",
    "t2_9099_ssp245_dailymax = ds1['ssp245_t2_9099_era5_corrected_dailymax']\n",
    "\n",
    "t2_9099_ssp245_dailymax_df = t2_9099_ssp245_dailymax.to_dataframe().reset_index()\n",
    "\n",
    "t2_9099_ssp245_dailymax_land = t2_9099_ssp245_dailymax_df[t2_9099_ssp245_dailymax_df['LU_INDEX']!=16]\n",
    "\n",
    "#Use 33℃ as a threshold\n",
    "\n",
    "t2_9099_dailymax_thres = (t2_9099_ssp245_dailymax_land[t2_9099_ssp245_dailymax_land['ssp245_t2_9099_era5_corrected_dailymax']>=33]).reset_index(drop=True)"
   ]
  },
  {
   "cell_type": "code",
   "execution_count": null,
   "metadata": {},
   "outputs": [],
   "source": [
    "HDF_9099 = t2_9099_dailymax_thres.groupby(['XLAT','XLONG','west_east','south_north'],as_index=False)['ssp245_t2_9099_era5_corrected_dailymax'].count()\n",
    "HDF_9099 = HDF_9099.rename(columns={'ssp245_t2_9099_era5_corrected_dailymax':'hot_days_num'})"
   ]
  },
  {
   "cell_type": "code",
   "execution_count": null,
   "metadata": {},
   "outputs": [],
   "source": [
    "HDF_9099 = pd.merge(HDF_9099,lu_2040s_df,on=['XLAT','XLONG'],how=\"outer\")\n",
    "\n",
    "HDF_land_9099 = HDF_9099[HDF_9099['LU_INDEX']!=16]\n",
    "\n",
    "HDF_land_9099 = HDF_land_9099.reset_index(drop=True)\n",
    "\n",
    "HDF_land_9099 = HDF_land_9099.fillna(0)\n",
    "\n",
    "HDF_land_9099['hot_days_num'] = HDF_land_9099['hot_days_num']/10\n",
    "\n",
    "print(HDF_land_9099['hot_days_num'].mean())"
   ]
  },
  {
   "cell_type": "markdown",
   "metadata": {},
   "source": [
    "# Heatwave duration trend in 2010s"
   ]
  },
  {
   "cell_type": "code",
   "execution_count": 13,
   "metadata": {},
   "outputs": [],
   "source": [
    "t2_1120_dailymax_thres = t2_1120_dailymax_thres.sort_values(['XLAT','XLONG','Time'], ascending=True)\n",
    "\n",
    "\n",
    "t2_1120_dailymax_thres_latlon = t2_1120_dailymax_thres.groupby(['XLAT','XLONG'])\n",
    "\n",
    "t2_1120_dailymax_thres['auxi_col'] = t2_1120_dailymax_thres_latlon['Time'].rank()\n",
    "\n",
    "t2_1120_dailymax_thres['date_sub'] = t2_1120_dailymax_thres['Time'] - pd.to_timedelta(t2_1120_dailymax_thres['auxi_col'],unit='d')"
   ]
  },
  {
   "cell_type": "code",
   "execution_count": null,
   "metadata": {},
   "outputs": [],
   "source": [
    "\n",
    "HWD_1120 = t2_1120_dailymax_thres.groupby(['XLAT','XLONG','south_north','west_east','date_sub']).count().reset_index()\n",
    "HWD_1120 = HWD_1120.rename(columns={'auxi_col':'concecutive_hot_days_num'})"
   ]
  },
  {
   "cell_type": "code",
   "execution_count": null,
   "metadata": {},
   "outputs": [],
   "source": [
    "\n",
    "HWD_1120 = HWD_1120[HWD_1120['concecutive_hot_days_num']>=3]"
   ]
  },
  {
   "cell_type": "code",
   "execution_count": null,
   "metadata": {},
   "outputs": [],
   "source": [
    "\n",
    "HWD_regional_mean_1120 = HWD_1120.groupby(['XLAT','XLONG','south_north','west_east'],as_index=False)['concecutive_hot_days_num'].mean()"
   ]
  },
  {
   "cell_type": "code",
   "execution_count": null,
   "metadata": {},
   "outputs": [],
   "source": [
    "HWD_regional_mean_1120 = pd.merge(HWD_regional_mean_1120,lu_2040s_df,on=['XLAT','XLONG'],how=\"outer\")\n",
    "\n",
    "HWD_regional_mean_1120 = HWD_regional_mean_1120[HWD_regional_mean_1120['LU_INDEX']!=16]\n",
    "\n",
    "HWD_regional_mean_1120 = HWD_regional_mean_1120.reset_index(drop=True)\n",
    "\n",
    "HWD_regional_mean_1120 = HWD_regional_mean_1120.fillna(0)\n",
    "\n",
    "print(HWD_regional_mean_1120['concecutive_hot_days_num'].mean())"
   ]
  },
  {
   "cell_type": "markdown",
   "metadata": {},
   "source": [
    "# Heatwave duration trend in 2040s"
   ]
  },
  {
   "cell_type": "code",
   "execution_count": 7,
   "metadata": {},
   "outputs": [],
   "source": [
    "t2_4049_dailymax_thres = t2_4049_dailymax_thres.sort_values(['XLAT','XLONG','Time'], ascending=True)\n",
    "\n",
    "\n",
    "t2_4049_dailymax_thres_latlon = t2_4049_dailymax_thres.groupby(['XLAT','XLONG'])\n",
    "\n",
    "\n",
    "t2_4049_dailymax_thres['auxi_col'] = t2_4049_dailymax_thres_latlon['Time'].rank()\n",
    "\n",
    "t2_4049_dailymax_thres['date_sub'] = t2_4049_dailymax_thres['Time'] - pd.to_timedelta(t2_4049_dailymax_thres['auxi_col'],unit='d')"
   ]
  },
  {
   "cell_type": "code",
   "execution_count": null,
   "metadata": {},
   "outputs": [],
   "source": [
    "\n",
    "HWD_4049 = t2_4049_dailymax_thres.groupby(['XLAT','XLONG','south_north','west_east','date_sub']).count().reset_index()\n",
    "HWD_4049 = HWD_4049.rename(columns={'auxi_col':'concecutive_hot_days_num'})"
   ]
  },
  {
   "cell_type": "code",
   "execution_count": null,
   "metadata": {},
   "outputs": [],
   "source": [
    "\n",
    "HWD_4049 = HWD_4049[HWD_4049['concecutive_hot_days_num']>=3]"
   ]
  },
  {
   "cell_type": "code",
   "execution_count": null,
   "metadata": {},
   "outputs": [],
   "source": [
    "\n",
    "HWD_regional_mean_4049 = HWD_4049.groupby(['XLAT','XLONG','south_north','west_east'],as_index=False)['concecutive_hot_days_num'].mean()"
   ]
  },
  {
   "cell_type": "code",
   "execution_count": null,
   "metadata": {},
   "outputs": [],
   "source": [
    "HWD_regional_mean_4049 = pd.merge(HWD_regional_mean_4049,lu_2040s_df,on=['XLAT','XLONG'],how=\"outer\")\n",
    "\n",
    "HWD_regional_mean_4049 = HWD_regional_mean_4049[HWD_regional_mean_4049['LU_INDEX']!=16]\n",
    "\n",
    "HWD_regional_mean_4049 = HWD_regional_mean_4049.reset_index(drop=True)\n",
    "\n",
    "HWD_regional_mean_4049 = HWD_regional_mean_4049.fillna(0)\n",
    "\n",
    "print(HWD_regional_mean_4049['concecutive_hot_days_num'].mean())"
   ]
  },
  {
   "cell_type": "markdown",
   "metadata": {},
   "source": [
    "# Heatwave duration trend in 2090s"
   ]
  },
  {
   "cell_type": "code",
   "execution_count": 8,
   "metadata": {},
   "outputs": [],
   "source": [
    "t2_9099_dailymax_thres = t2_9099_dailymax_thres.sort_values(['XLAT','XLONG','Time'], ascending=True)\n",
    "\n",
    "t2_9099_dailymax_thres_latlon = t2_9099_dailymax_thres.groupby(['XLAT','XLONG'])\n",
    "\n",
    "t2_9099_dailymax_thres['auxi_col'] = t2_9099_dailymax_thres_latlon['Time'].rank()\n",
    "\n",
    "t2_9099_dailymax_thres['date_sub'] = t2_9099_dailymax_thres['Time'] - pd.to_timedelta(t2_9099_dailymax_thres['auxi_col'],unit='d')"
   ]
  },
  {
   "cell_type": "code",
   "execution_count": null,
   "metadata": {},
   "outputs": [],
   "source": [
    "HWD_9099 = t2_9099_dailymax_thres.groupby(['XLAT','XLONG','south_north','west_east','date_sub']).count().reset_index()\n",
    "HWD_9099 = HWD_9099.rename(columns={'auxi_col':'concecutive_hot_days_num'})"
   ]
  },
  {
   "cell_type": "code",
   "execution_count": null,
   "metadata": {},
   "outputs": [],
   "source": [
    "HWD_9099 = HWD_9099[HWD_9099['concecutive_hot_days_num']>=3]"
   ]
  },
  {
   "cell_type": "code",
   "execution_count": null,
   "metadata": {},
   "outputs": [],
   "source": [
    "HWD_regional_mean_9099 = HWD_9099.groupby(['XLAT','XLONG','south_north','west_east'],as_index=False)['concecutive_hot_days_num'].mean()"
   ]
  },
  {
   "cell_type": "code",
   "execution_count": null,
   "metadata": {},
   "outputs": [],
   "source": [
    "HWD_regional_mean_9099 = pd.merge(HWD_regional_mean_9099,lu_2040s_df,on=['XLAT','XLONG'],how=\"outer\")\n",
    "\n",
    "HWD_regional_mean_9099 = HWD_regional_mean_9099[HWD_regional_mean_9099['LU_INDEX']!=16]\n",
    "\n",
    "HWD_regional_mean_9099 = HWD_regional_mean_9099.reset_index(drop=True)\n",
    "\n",
    "HWD_regional_mean_9099 = HWD_regional_mean_9099.fillna(0)\n",
    "\n",
    "print(HWD_regional_mean_9099['concecutive_hot_days_num'].mean())"
   ]
  },
  {
   "cell_type": "markdown",
   "metadata": {},
   "source": [
    "# heatwave mean temperature in 2010s"
   ]
  },
  {
   "cell_type": "code",
   "execution_count": 14,
   "metadata": {},
   "outputs": [],
   "source": [
    "hw_meantemp_1120 = t2_1120_dailymax_thres.groupby(['XLAT','XLONG','south_north','west_east','date_sub'])['ssp245_t2_1120_era5_corrected_dailymax'].mean().reset_index()\n",
    "\n",
    "hw_1120 = t2_1120_dailymax_thres.groupby(['XLAT','XLONG','south_north','west_east','date_sub']).count().reset_index()\n",
    "hw_1120 = hw_1120.rename(columns={'auxi_col':'concecutive_hot_days_num'})\n",
    "\n",
    "hw_1120 = hw_1120[hw_1120['concecutive_hot_days_num']>=3]\n",
    "\n",
    "del hw_1120['Time']\n",
    "del hw_1120['ssp245_t2_1120_era5_corrected_dailymax']\n",
    "\n",
    "hw_1120 = pd.merge(hw_1120,hw_meantemp_1120,on=['XLAT','XLONG','south_north','west_east','date_sub'],how=\"left\")"
   ]
  },
  {
   "cell_type": "code",
   "execution_count": null,
   "metadata": {},
   "outputs": [],
   "source": [
    "hw_1120 = hw_1120.groupby(['XLAT','XLONG','south_north','west_east'])['ssp245_t2_1120_era5_corrected_dailymax'].mean().reset_index()\n",
    "\n",
    "print(hw_1120['ssp245_t2_1120_era5_corrected_dailymax'].mean())"
   ]
  },
  {
   "cell_type": "markdown",
   "metadata": {},
   "source": [
    "# heatwave mean temperature in 2040s"
   ]
  },
  {
   "cell_type": "code",
   "execution_count": 9,
   "metadata": {},
   "outputs": [],
   "source": [
    "hw_meantemp_4049 = t2_4049_dailymax_thres.groupby(['XLAT','XLONG','south_north','west_east','date_sub'])['ssp245_t2_4049_era5_corrected_dailymax'].mean().reset_index()\n",
    "\n",
    "hw_4049 = t2_4049_dailymax_thres.groupby(['XLAT','XLONG','south_north','west_east','date_sub']).count().reset_index()\n",
    "hw_4049 = hw_4049.rename(columns={'auxi_col':'concecutive_hot_days_num'})\n",
    "\n",
    "hw_4049 = hw_4049[hw_4049['concecutive_hot_days_num']>=3]\n",
    "\n",
    "del hw_4049['Time']\n",
    "del hw_4049['ssp245_t2_4049_era5_corrected_dailymax']\n",
    "\n",
    "hw_4049 = pd.merge(hw_4049,hw_meantemp_4049,on=['XLAT','XLONG','south_north','west_east','date_sub'],how=\"left\")"
   ]
  },
  {
   "cell_type": "code",
   "execution_count": 10,
   "metadata": {},
   "outputs": [
    {
     "name": "stdout",
     "output_type": "stream",
     "text": [
      "34.672576904296875\n"
     ]
    }
   ],
   "source": [
    "hw_4049 = hw_4049.groupby(['XLAT','XLONG','south_north','west_east'])['ssp245_t2_4049_era5_corrected_dailymax'].mean().reset_index()\n",
    "\n",
    "print(hw_4049['ssp245_t2_4049_era5_corrected_dailymax'].mean())"
   ]
  },
  {
   "cell_type": "markdown",
   "metadata": {},
   "source": [
    "# heatwave mean temperature in 2090s"
   ]
  },
  {
   "cell_type": "code",
   "execution_count": 11,
   "metadata": {},
   "outputs": [
    {
     "name": "stdout",
     "output_type": "stream",
     "text": [
      "35.015289306640625\n"
     ]
    }
   ],
   "source": [
    "hw_meantemp_9099 = t2_9099_dailymax_thres.groupby(['XLAT','XLONG','south_north','west_east','date_sub'])['ssp245_t2_9099_era5_corrected_dailymax'].mean().reset_index()\n",
    "\n",
    "hw_9099 = t2_9099_dailymax_thres.groupby(['XLAT','XLONG','south_north','west_east','date_sub']).count().reset_index()\n",
    "hw_9099 = hw_9099.rename(columns={'auxi_col':'concecutive_hot_days_num'})\n",
    "\n",
    "hw_9099 = hw_9099[hw_9099['concecutive_hot_days_num']>=3]\n",
    "\n",
    "del hw_9099['Time']\n",
    "del hw_9099['LU_INDEX']\n",
    "del hw_9099['ssp245_t2_9099_era5_corrected_dailymax']\n",
    "\n",
    "hw_9099 = pd.merge(hw_9099,hw_meantemp_9099,on=['XLAT','XLONG','south_north','west_east','date_sub'],how=\"left\")\n",
    "\n",
    "hw_9099 = hw_9099.groupby(['XLAT','XLONG','south_north','west_east'])['ssp245_t2_9099_era5_corrected_dailymax'].mean().reset_index()\n",
    "\n",
    "print(hw_9099['ssp245_t2_9099_era5_corrected_dailymax'].mean())"
   ]
  },
  {
   "cell_type": "markdown",
   "metadata": {},
   "source": [
    "# save to csv"
   ]
  },
  {
   "cell_type": "code",
   "execution_count": null,
   "metadata": {},
   "outputs": [],
   "source": [
    "HDF_regional_mean_1120['HDF_2010s'] = HDF_regional_mean_1120['hot_days_num']\n",
    "HDF_regional_mean_1120['HDF_2040s'] = HDF_regional_mean_4049['hot_days_num']\n",
    "HDF_regional_mean_1120['HDF_2090s'] = HDF_regional_mean_9099['hot_days_num']\n",
    "\n",
    "HDF_regional_mean_1120['HWD_2010s'] = HWD_regional_mean_1120['concecutive_hot_days_num']\n",
    "HDF_regional_mean_1120['HWD_2040s'] = HWD_regional_mean_4049['concecutive_hot_days_num']\n",
    "HDF_regional_mean_1120['HWD_2090s'] = HWD_regional_mean_9099['concecutive_hot_days_num']\n",
    "\n",
    "HDF_regional_mean_1120['HWT_2010s'] = hw_1120['ssp245_t2_1120_era5_corrected_dailymax']\n",
    "HDF_regional_mean_1120['HWT_2040s'] = hw_4049['ssp245_t2_4049_era5_corrected_dailymax']\n",
    "HDF_regional_mean_1120['HWT2090s'] = hw_9099['ssp245_t2_9099_era5_corrected_dailymax']"
   ]
  },
  {
   "cell_type": "code",
   "execution_count": null,
   "metadata": {},
   "outputs": [],
   "source": [
    "HDF_regional_mean_1120.to_csv('regional_mean.csv',index=False)"
   ]
  }
 ],
 "metadata": {
  "kernelspec": {
   "display_name": "Python 3",
   "language": "python",
   "name": "python3"
  },
  "language_info": {
   "codemirror_mode": {
    "name": "ipython",
    "version": 3
   },
   "file_extension": ".py",
   "mimetype": "text/x-python",
   "name": "python",
   "nbconvert_exporter": "python",
   "pygments_lexer": "ipython3",
   "version": "3.8.3"
  }
 },
 "nbformat": 4,
 "nbformat_minor": 4
}
