{
 "cells": [
  {
   "cell_type": "code",
   "execution_count": 1,
   "metadata": {},
   "outputs": [],
   "source": [
    "from netCDF4 import Dataset\n",
    "from wrf import (to_np, getvar, smooth2d, get_cartopy, cartopy_xlim,\n",
    "                 cartopy_ylim, latlon_coords, ALL_TIMES,interpline, CoordPair, xy_to_ll, ll_to_xy)\n",
    "import pandas as pd\n",
    "import numpy as np\n",
    "import os\n",
    "import shutil\n",
    "import re\n",
    "import netCDF4 as nc\n",
    "import xarray as xr"
   ]
  },
  {
   "cell_type": "code",
   "execution_count": 2,
   "metadata": {},
   "outputs": [],
   "source": [
    "#mask out seas-1620\n",
    "\n",
    "ds_lu_1620 = xr.open_dataset('wrfout_d04_2011-06-23_11:00:00')\n",
    "lu_1620 = ds_lu_1620['LU_INDEX']\n",
    "\n",
    "lu_1620 = lu_1620[0,:,:]\n",
    "\n",
    "del lu_1620.coords['XTIME']\n",
    "\n",
    "lu_1620_df = lu_1620.to_dataframe().reset_index()"
   ]
  },
  {
   "cell_type": "code",
   "execution_count": 3,
   "metadata": {},
   "outputs": [],
   "source": [
    "#mask out seas-2040s\n",
    "\n",
    "ds_lu_2040s = xr.open_dataset('wrfout_d04_2040-06-18_23:00:00')\n",
    "lu_2040s = ds_lu_2040s['LU_INDEX']\n",
    "\n",
    "lu_2040s = lu_2040s[0,:,:]\n",
    "\n",
    "del lu_2040s.coords['XTIME']\n",
    "\n",
    "lu_2040s_df = lu_2040s.to_dataframe().reset_index()"
   ]
  },
  {
   "cell_type": "markdown",
   "metadata": {},
   "source": [
    "# ssp245"
   ]
  },
  {
   "cell_type": "markdown",
   "metadata": {},
   "source": [
    "2010s"
   ]
  },
  {
   "cell_type": "code",
   "execution_count": 4,
   "metadata": {},
   "outputs": [],
   "source": [
    "ds245_2010s = xr.open_dataset('ssp245_t2_1120_era5_corrected.nc')\n",
    "t2_1120_ssp245 = ds245_2010s['ssp245_t2_1120_era5_corrected']"
   ]
  },
  {
   "cell_type": "code",
   "execution_count": 5,
   "metadata": {},
   "outputs": [],
   "source": [
    "t2_1120_ssp245_hourly = t2_1120_ssp245.groupby(\"Time.hour\").mean()\n",
    "\n",
    "t2_1120_ssp245_day = t2_1120_ssp245_hourly[(t2_1120_ssp245_hourly.hour>=3)&(t2_1120_ssp245_hourly.hour<=8)]\n",
    "t2_1120_ssp245_night = t2_1120_ssp245_hourly[(t2_1120_ssp245_hourly.hour>=17)&(t2_1120_ssp245_hourly.hour<=22)]\n",
    "\n",
    "t2_1120_ssp245_day_mean = t2_1120_ssp245_day.mean(dim=['hour'])\n",
    "t2_1120_ssp245_night_mean = t2_1120_ssp245_night.mean(dim=['hour'])"
   ]
  },
  {
   "cell_type": "code",
   "execution_count": 6,
   "metadata": {},
   "outputs": [],
   "source": [
    "t2_1120_ssp245_day_mean_df = t2_1120_ssp245_day_mean.to_dataframe().reset_index()\n",
    "t2_1120_ssp245_night_mean_df = t2_1120_ssp245_night_mean.to_dataframe().reset_index()"
   ]
  },
  {
   "cell_type": "code",
   "execution_count": 7,
   "metadata": {},
   "outputs": [],
   "source": [
    "t2_1120_ssp245_day_mean_df.loc[t2_1120_ssp245_day_mean_df.LU_INDEX == 16, 'ssp245_t2_1120_era5_corrected'] = 9999\n",
    "t2_1120_ssp245_night_mean_df.loc[t2_1120_ssp245_night_mean_df.LU_INDEX == 16, 'ssp245_t2_1120_era5_corrected'] = 9999"
   ]
  },
  {
   "cell_type": "code",
   "execution_count": 8,
   "metadata": {},
   "outputs": [],
   "source": [
    "t2_1120_ssp245_day_mean_df.to_csv('t2_1120_ssp245_daymean.csv',index=False)\n",
    "t2_1120_ssp245_night_mean_df.to_csv('t2_1120_ssp245_nightmean.csv',index=False)"
   ]
  },
  {
   "cell_type": "markdown",
   "metadata": {},
   "source": [
    "2040s"
   ]
  },
  {
   "cell_type": "code",
   "execution_count": 9,
   "metadata": {},
   "outputs": [],
   "source": [
    "ds245_2040s = xr.open_dataset('ssp245_t2_4049_era5_corrected.nc')\n",
    "t2_4049_ssp245 = ds245_2040s['ssp245_t2_4049_era5_corrected']"
   ]
  },
  {
   "cell_type": "code",
   "execution_count": 10,
   "metadata": {},
   "outputs": [],
   "source": [
    "t2_4049_ssp245_hourly = t2_4049_ssp245.groupby(\"Time.hour\").mean()\n",
    "\n",
    "t2_4049_ssp245_day = t2_4049_ssp245_hourly[(t2_4049_ssp245_hourly.hour>=3)&(t2_4049_ssp245_hourly.hour<=8)]\n",
    "t2_4049_ssp245_night = t2_4049_ssp245_hourly[(t2_4049_ssp245_hourly.hour>=17)&(t2_4049_ssp245_hourly.hour<=22)]\n",
    "\n",
    "t2_4049_ssp245_day_mean = t2_4049_ssp245_day.mean(dim=['hour'])\n",
    "t2_4049_ssp245_night_mean = t2_4049_ssp245_night.mean(dim=['hour'])"
   ]
  },
  {
   "cell_type": "code",
   "execution_count": 11,
   "metadata": {},
   "outputs": [],
   "source": [
    "t2_4049_ssp245_day_mean_df = t2_4049_ssp245_day_mean.to_dataframe().reset_index()\n",
    "t2_4049_ssp245_night_mean_df = t2_4049_ssp245_night_mean.to_dataframe().reset_index()"
   ]
  },
  {
   "cell_type": "code",
   "execution_count": 12,
   "metadata": {},
   "outputs": [],
   "source": [
    "t2_4049_ssp245_day_mean_df.loc[t2_4049_ssp245_day_mean_df.LU_INDEX == 16, 'ssp245_t2_4049_era5_corrected'] = 9999\n",
    "t2_4049_ssp245_night_mean_df.loc[t2_4049_ssp245_night_mean_df.LU_INDEX == 16, 'ssp245_t2_4049_era5_corrected'] = 9999"
   ]
  },
  {
   "cell_type": "code",
   "execution_count": 13,
   "metadata": {},
   "outputs": [],
   "source": [
    "t2_4049_ssp245_day_mean_df.to_csv('t2_4049_ssp245_daymean.csv',index=False)\n",
    "t2_4049_ssp245_night_mean_df.to_csv('t2_4049_ssp245_nightmean.csv',index=False)"
   ]
  },
  {
   "cell_type": "markdown",
   "metadata": {},
   "source": [
    "2090s"
   ]
  },
  {
   "cell_type": "code",
   "execution_count": 14,
   "metadata": {},
   "outputs": [],
   "source": [
    "ds245_2090s = xr.open_dataset('ssp245_t2_9099_era5_corrected.nc')\n",
    "t2_9099_ssp245 = ds245_2090s['ssp245_t2_9099_era5_corrected']"
   ]
  },
  {
   "cell_type": "code",
   "execution_count": 15,
   "metadata": {},
   "outputs": [],
   "source": [
    "t2_9099_ssp245_hourly = t2_9099_ssp245.groupby(\"Time.hour\").mean()\n",
    "\n",
    "t2_9099_ssp245_day = t2_9099_ssp245_hourly[(t2_9099_ssp245_hourly.hour>=3)&(t2_9099_ssp245_hourly.hour<=8)]\n",
    "t2_9099_ssp245_night = t2_9099_ssp245_hourly[(t2_9099_ssp245_hourly.hour>=17)&(t2_9099_ssp245_hourly.hour<=22)]\n",
    "\n",
    "t2_9099_ssp245_day_mean = t2_9099_ssp245_day.mean(dim=['hour'])\n",
    "t2_9099_ssp245_night_mean = t2_9099_ssp245_night.mean(dim=['hour'])"
   ]
  },
  {
   "cell_type": "code",
   "execution_count": 16,
   "metadata": {},
   "outputs": [],
   "source": [
    "t2_9099_ssp245_day_mean_df = t2_9099_ssp245_day_mean.to_dataframe().reset_index()\n",
    "t2_9099_ssp245_night_mean_df = t2_9099_ssp245_night_mean.to_dataframe().reset_index()"
   ]
  },
  {
   "cell_type": "code",
   "execution_count": 17,
   "metadata": {},
   "outputs": [],
   "source": [
    "t2_9099_ssp245_day_mean_df.loc[t2_9099_ssp245_day_mean_df.LU_INDEX == 16, 'ssp245_t2_9099_era5_corrected'] = 9999\n",
    "t2_9099_ssp245_night_mean_df.loc[t2_9099_ssp245_night_mean_df.LU_INDEX == 16, 'ssp245_t2_9099_era5_corrected'] = 9999"
   ]
  },
  {
   "cell_type": "code",
   "execution_count": 18,
   "metadata": {},
   "outputs": [],
   "source": [
    "t2_9099_ssp245_day_mean_df.to_csv('t2_9099_ssp245_daymean.csv',index=False)\n",
    "t2_9099_ssp245_night_mean_df.to_csv('t2_9099_ssp245_nightmean.csv',index=False)"
   ]
  },
  {
   "cell_type": "code",
   "execution_count": null,
   "metadata": {},
   "outputs": [],
   "source": []
  }
 ],
 "metadata": {
  "kernelspec": {
   "display_name": "Python 3",
   "language": "python",
   "name": "python3"
  },
  "language_info": {
   "codemirror_mode": {
    "name": "ipython",
    "version": 3
   },
   "file_extension": ".py",
   "mimetype": "text/x-python",
   "name": "python",
   "nbconvert_exporter": "python",
   "pygments_lexer": "ipython3",
   "version": "3.8.3"
  }
 },
 "nbformat": 4,
 "nbformat_minor": 4
}
