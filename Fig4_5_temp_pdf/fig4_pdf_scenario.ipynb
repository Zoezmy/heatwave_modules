{
 "cells": [
  {
   "cell_type": "code",
   "execution_count": 1,
   "metadata": {},
   "outputs": [],
   "source": [
    "from netCDF4 import Dataset\n",
    "import matplotlib.pyplot as plt\n",
    "from matplotlib.cm import get_cmap\n",
    "import pandas as pd\n",
    "import numpy as np\n",
    "import os\n",
    "import shutil\n",
    "import re\n",
    "import netCDF4 as nc\n",
    "import xarray as xr\n",
    "import matplotlib.ticker as mticker\n",
    "import matplotlib.pyplot as plt\n",
    "import glob\n",
    "from scipy.stats import norm\n",
    "from scipy import stats\n",
    "import seaborn as sns\n",
    "import shapefile\n",
    "from matplotlib.backends.backend_pdf import PdfPages"
   ]
  },
  {
   "cell_type": "markdown",
   "metadata": {},
   "source": [
    "# 1120 land pdf"
   ]
  },
  {
   "cell_type": "code",
   "execution_count": 2,
   "metadata": {},
   "outputs": [],
   "source": [
    "ds1_1120_lu = xr.open_dataset('ssp245_t2_1120_era5_corrected.nc')\n",
    "ssp245_t2_1120_era5_corrected = ds1_1120_lu['ssp245_t2_1120_era5_corrected']"
   ]
  },
  {
   "cell_type": "code",
   "execution_count": 3,
   "metadata": {},
   "outputs": [],
   "source": [
    "t2_1120_ssp245_2040lu_df = ssp245_t2_1120_era5_corrected.to_dataframe().reset_index()"
   ]
  },
  {
   "cell_type": "code",
   "execution_count": 4,
   "metadata": {},
   "outputs": [],
   "source": [
    "t2_1120_ssp245_2040lu_land = t2_1120_ssp245_2040lu_df[t2_1120_ssp245_2040lu_df['LU_INDEX']!=16].reset_index(drop=True)\n",
    "t2_1120_ssp245_2040lu_land = t2_1120_ssp245_2040lu_land.rename(columns={\"ssp245_t2_1120_era5_corrected\": \"ssp245_t2_1120_era5_corrected_land\"})"
   ]
  },
  {
   "cell_type": "code",
   "execution_count": 5,
   "metadata": {},
   "outputs": [],
   "source": [
    "del t2_1120_ssp245_2040lu_df"
   ]
  },
  {
   "cell_type": "code",
   "execution_count": 6,
   "metadata": {},
   "outputs": [],
   "source": [
    "del t2_1120_ssp245_2040lu_land['Time']\n",
    "del t2_1120_ssp245_2040lu_land['south_north']\n",
    "del t2_1120_ssp245_2040lu_land['west_east']\n",
    "del t2_1120_ssp245_2040lu_land['XLAT']\n",
    "del t2_1120_ssp245_2040lu_land['LU_INDEX']\n",
    "del t2_1120_ssp245_2040lu_land['XLONG']"
   ]
  },
  {
   "cell_type": "markdown",
   "metadata": {},
   "source": [
    "# ssp126"
   ]
  },
  {
   "cell_type": "markdown",
   "metadata": {},
   "source": [
    "2040s"
   ]
  },
  {
   "cell_type": "code",
   "execution_count": 7,
   "metadata": {},
   "outputs": [],
   "source": [
    "#load files\n",
    "ds2_4049_lu = xr.open_dataset('ssp126_t2_4049_era5_corrected.nc')\n",
    "t2_4049_ssp126_lu = ds2_4049_lu['ssp126_t2_4049_era5_corrected']"
   ]
  },
  {
   "cell_type": "code",
   "execution_count": 8,
   "metadata": {},
   "outputs": [],
   "source": [
    "#ssp126 to dataframe\n",
    "t2_4049_ssp126_lu_df = t2_4049_ssp126_lu.to_dataframe().reset_index()"
   ]
  },
  {
   "cell_type": "code",
   "execution_count": 9,
   "metadata": {},
   "outputs": [],
   "source": [
    "t2_4049_ssp126_land = t2_4049_ssp126_lu_df[t2_4049_ssp126_lu_df['LU_INDEX']!=16]\n",
    "t2_4049_ssp126_land = t2_4049_ssp126_land.reset_index(drop=True)\n",
    "t2_4049_ssp126_land = t2_4049_ssp126_land.rename(columns={\"ssp126_t2_4049_era5_corrected\": \"t2_4049_ssp126_land\"})"
   ]
  },
  {
   "cell_type": "code",
   "execution_count": 10,
   "metadata": {},
   "outputs": [],
   "source": [
    "del t2_4049_ssp126_lu_df"
   ]
  },
  {
   "cell_type": "code",
   "execution_count": 11,
   "metadata": {},
   "outputs": [],
   "source": [
    "del t2_4049_ssp126_land['Time']\n",
    "del t2_4049_ssp126_land['south_north']\n",
    "del t2_4049_ssp126_land['west_east']\n",
    "del t2_4049_ssp126_land['XLAT']\n",
    "del t2_4049_ssp126_land['LU_INDEX']\n",
    "del t2_4049_ssp126_land['XLONG']"
   ]
  },
  {
   "cell_type": "markdown",
   "metadata": {},
   "source": [
    "2090s"
   ]
  },
  {
   "cell_type": "code",
   "execution_count": 12,
   "metadata": {},
   "outputs": [],
   "source": [
    "#load files\n",
    "ds3_9099_lu = xr.open_dataset('ssp126_t2_9099_era5_corrected.nc')\n",
    "t2_9099_ssp126_lu = ds3_9099_lu['ssp126_t2_9099_era5_corrected']"
   ]
  },
  {
   "cell_type": "code",
   "execution_count": 13,
   "metadata": {},
   "outputs": [],
   "source": [
    "#ssp126 to dataframe\n",
    "t2_9099_ssp126_lu_df = t2_9099_ssp126_lu.to_dataframe().reset_index()\n"
   ]
  },
  {
   "cell_type": "code",
   "execution_count": 14,
   "metadata": {},
   "outputs": [],
   "source": [
    "t2_9099_ssp126_land = t2_9099_ssp126_lu_df[t2_9099_ssp126_lu_df['LU_INDEX']!=16]\n",
    "t2_9099_ssp126_land = t2_9099_ssp126_land.reset_index(drop=True)\n",
    "t2_9099_ssp126_land = t2_9099_ssp126_land.rename(columns={\"ssp126_t2_9099_era5_corrected\": \"t2_9099_ssp126_land\"})"
   ]
  },
  {
   "cell_type": "code",
   "execution_count": 15,
   "metadata": {},
   "outputs": [],
   "source": [
    "del t2_9099_ssp126_lu_df"
   ]
  },
  {
   "cell_type": "code",
   "execution_count": 16,
   "metadata": {},
   "outputs": [],
   "source": [
    "del t2_9099_ssp126_land['Time']\n",
    "del t2_9099_ssp126_land['south_north']\n",
    "del t2_9099_ssp126_land['west_east']\n",
    "del t2_9099_ssp126_land['XLAT']\n",
    "del t2_9099_ssp126_land['LU_INDEX']\n",
    "del t2_9099_ssp126_land['XLONG']"
   ]
  },
  {
   "cell_type": "markdown",
   "metadata": {},
   "source": [
    "# SSP245"
   ]
  },
  {
   "cell_type": "markdown",
   "metadata": {},
   "source": [
    "2040s"
   ]
  },
  {
   "cell_type": "code",
   "execution_count": 17,
   "metadata": {},
   "outputs": [],
   "source": [
    "#load files\n",
    "ds4_4049_lu = xr.open_dataset('/disk/r110/zzuoaa/hot_extreme/ssp245/bias_corrected_ncfiles_1120/ssp245_t2_4049_era5_corrected.nc')\n",
    "t2_4049_ssp245_lu = ds4_4049_lu['ssp245_t2_4049_era5_corrected']"
   ]
  },
  {
   "cell_type": "code",
   "execution_count": 18,
   "metadata": {},
   "outputs": [],
   "source": [
    "#ssp126 to dataframe\n",
    "t2_4049_ssp245_lu_df = t2_4049_ssp245_lu.to_dataframe().reset_index()"
   ]
  },
  {
   "cell_type": "code",
   "execution_count": 19,
   "metadata": {},
   "outputs": [],
   "source": [
    "t2_4049_ssp245_land = t2_4049_ssp245_lu_df[t2_4049_ssp245_lu_df['LU_INDEX']!=16]\n",
    "t2_4049_ssp245_land = t2_4049_ssp245_land.reset_index(drop=True)\n",
    "t2_4049_ssp245_land = t2_4049_ssp245_land.rename(columns={\"ssp245_t2_4049_era5_corrected\": \"t2_4049_ssp245_land\"})"
   ]
  },
  {
   "cell_type": "code",
   "execution_count": 20,
   "metadata": {},
   "outputs": [],
   "source": [
    "del t2_4049_ssp245_lu_df"
   ]
  },
  {
   "cell_type": "code",
   "execution_count": 21,
   "metadata": {},
   "outputs": [],
   "source": [
    "del t2_4049_ssp245_land['Time']\n",
    "del t2_4049_ssp245_land['south_north']\n",
    "del t2_4049_ssp245_land['west_east']\n",
    "del t2_4049_ssp245_land['XLAT']\n",
    "del t2_4049_ssp245_land['LU_INDEX']\n",
    "del t2_4049_ssp245_land['XLONG']"
   ]
  },
  {
   "cell_type": "markdown",
   "metadata": {},
   "source": [
    "2090s"
   ]
  },
  {
   "cell_type": "code",
   "execution_count": 22,
   "metadata": {},
   "outputs": [],
   "source": [
    "#load files\n",
    "ds5_9099_lu = xr.open_dataset('/disk/r110/zzuoaa/hot_extreme/ssp245/bias_corrected_ncfiles_1120/ssp245_t2_9099_era5_corrected.nc')\n",
    "t2_9099_ssp245_lu = ds5_9099_lu['ssp245_t2_9099_era5_corrected']"
   ]
  },
  {
   "cell_type": "code",
   "execution_count": 23,
   "metadata": {},
   "outputs": [],
   "source": [
    "#ssp126 to dataframe\n",
    "t2_9099_ssp245_lu_df = t2_9099_ssp245_lu.to_dataframe().reset_index()"
   ]
  },
  {
   "cell_type": "code",
   "execution_count": 24,
   "metadata": {},
   "outputs": [],
   "source": [
    "t2_9099_ssp245_land = t2_9099_ssp245_lu_df[t2_9099_ssp245_lu_df['LU_INDEX']!=16]\n",
    "t2_9099_ssp245_land = t2_9099_ssp245_land.reset_index(drop=True)\n",
    "t2_9099_ssp245_land = t2_9099_ssp245_land.rename(columns={\"ssp245_t2_9099_era5_corrected\": \"t2_9099_ssp245_land\"})"
   ]
  },
  {
   "cell_type": "code",
   "execution_count": 25,
   "metadata": {},
   "outputs": [],
   "source": [
    "del t2_9099_ssp245_lu_df"
   ]
  },
  {
   "cell_type": "code",
   "execution_count": 26,
   "metadata": {},
   "outputs": [],
   "source": [
    "del t2_9099_ssp245_land['Time']\n",
    "del t2_9099_ssp245_land['south_north']\n",
    "del t2_9099_ssp245_land['west_east']\n",
    "del t2_9099_ssp245_land['XLAT']\n",
    "del t2_9099_ssp245_land['LU_INDEX']\n",
    "del t2_9099_ssp245_land['XLONG']"
   ]
  },
  {
   "cell_type": "markdown",
   "metadata": {},
   "source": [
    "# SSP585"
   ]
  },
  {
   "cell_type": "markdown",
   "metadata": {},
   "source": [
    "2040s"
   ]
  },
  {
   "cell_type": "code",
   "execution_count": 27,
   "metadata": {},
   "outputs": [],
   "source": [
    "#load files\n",
    "ds6_4049_lu = xr.open_dataset('/disk/r110/zzuoaa/hot_extreme/ssp585/bias_corrected_ncfiles_1120/ssp585_t2_4049_era5_corrected.nc')\n",
    "t2_4049_ssp585_lu = ds6_4049_lu['ssp585_t2_4049_era5_corrected']"
   ]
  },
  {
   "cell_type": "code",
   "execution_count": 28,
   "metadata": {},
   "outputs": [],
   "source": [
    "#ssp585 to dataframe\n",
    "t2_4049_ssp585_lu_df = t2_4049_ssp585_lu.to_dataframe().reset_index()"
   ]
  },
  {
   "cell_type": "code",
   "execution_count": 29,
   "metadata": {},
   "outputs": [],
   "source": [
    "t2_4049_ssp585_land = t2_4049_ssp585_lu_df[t2_4049_ssp585_lu_df['LU_INDEX']!=16]\n",
    "t2_4049_ssp585_land = t2_4049_ssp585_land.reset_index(drop=True)\n",
    "t2_4049_ssp585_land = t2_4049_ssp585_land.rename(columns={\"ssp585_t2_4049_era5_corrected\": \"t2_4049_ssp585_land\"})"
   ]
  },
  {
   "cell_type": "code",
   "execution_count": 30,
   "metadata": {},
   "outputs": [],
   "source": [
    "del t2_4049_ssp585_lu_df"
   ]
  },
  {
   "cell_type": "code",
   "execution_count": 31,
   "metadata": {},
   "outputs": [],
   "source": [
    "del t2_4049_ssp585_land['Time']\n",
    "del t2_4049_ssp585_land['south_north']\n",
    "del t2_4049_ssp585_land['west_east']\n",
    "del t2_4049_ssp585_land['XLAT']\n",
    "del t2_4049_ssp585_land['LU_INDEX']\n",
    "del t2_4049_ssp585_land['XLONG']"
   ]
  },
  {
   "cell_type": "markdown",
   "metadata": {},
   "source": [
    "2090s"
   ]
  },
  {
   "cell_type": "code",
   "execution_count": 32,
   "metadata": {},
   "outputs": [],
   "source": [
    "#load files\n",
    "ds7_9099_lu = xr.open_dataset('/disk/r110/zzuoaa/hot_extreme/ssp585/bias_corrected_ncfiles_1120/ssp585_t2_9099_era5_corrected.nc')\n",
    "t2_9099_ssp585_lu = ds7_9099_lu['ssp585_t2_9099_era5_corrected']"
   ]
  },
  {
   "cell_type": "code",
   "execution_count": 33,
   "metadata": {},
   "outputs": [],
   "source": [
    "#ssp585 to dataframe\n",
    "t2_9099_ssp585_lu_df = t2_9099_ssp585_lu.to_dataframe().reset_index()"
   ]
  },
  {
   "cell_type": "code",
   "execution_count": 34,
   "metadata": {},
   "outputs": [],
   "source": [
    "t2_9099_ssp585_land = t2_9099_ssp585_lu_df[t2_9099_ssp585_lu_df['LU_INDEX']!=16]\n",
    "t2_9099_ssp585_land = t2_9099_ssp585_land.reset_index(drop=True)\n",
    "t2_9099_ssp585_land = t2_9099_ssp585_land.rename(columns={\"ssp585_t2_9099_era5_corrected\": \"t2_9099_ssp585_land\"})"
   ]
  },
  {
   "cell_type": "code",
   "execution_count": 35,
   "metadata": {},
   "outputs": [],
   "source": [
    "del t2_9099_ssp585_lu_df"
   ]
  },
  {
   "cell_type": "code",
   "execution_count": 36,
   "metadata": {},
   "outputs": [],
   "source": [
    "del t2_9099_ssp585_land['Time']\n",
    "del t2_9099_ssp585_land['south_north']\n",
    "del t2_9099_ssp585_land['west_east']\n",
    "del t2_9099_ssp585_land['XLAT']\n",
    "del t2_9099_ssp585_land['LU_INDEX']\n",
    "del t2_9099_ssp585_land['XLONG']"
   ]
  },
  {
   "cell_type": "markdown",
   "metadata": {},
   "source": [
    "# plotting"
   ]
  },
  {
   "cell_type": "code",
   "execution_count": 37,
   "metadata": {},
   "outputs": [
    {
     "name": "stdout",
     "output_type": "stream",
     "text": [
      "28.96600946442468\n",
      "29.82530967615871\n",
      "29.607089083899922\n",
      "28.96600946442468\n",
      "29.75820713544096\n",
      "30.600383294546685\n",
      "28.96600946442468\n",
      "29.8907808105069\n",
      "32.17540314604388\n"
     ]
    }
   ],
   "source": [
    "print(t2_1120_ssp245_2040lu_land['ssp245_t2_1120_era5_corrected_land'].astype('float64').mean())\n",
    "print(t2_4049_ssp126_land['t2_4049_ssp126_land'].astype('float64').mean())\n",
    "print(t2_9099_ssp126_land['t2_9099_ssp126_land'].astype('float64').mean())\n",
    "print(t2_1120_ssp245_2040lu_land['ssp245_t2_1120_era5_corrected_land'].astype('float64').mean())\n",
    "print(t2_4049_ssp245_land['t2_4049_ssp245_land'].astype('float64').mean())\n",
    "print(t2_9099_ssp245_land['t2_9099_ssp245_land'].astype('float64').mean())\n",
    "print(t2_1120_ssp245_2040lu_land['ssp245_t2_1120_era5_corrected_land'].astype('float64').mean())\n",
    "print(t2_4049_ssp585_land['t2_4049_ssp585_land'].astype('float64').mean())\n",
    "print(t2_9099_ssp585_land['t2_9099_ssp585_land'].astype('float64').mean())"
   ]
  },
  {
   "cell_type": "code",
   "execution_count": 38,
   "metadata": {},
   "outputs": [
    {
     "data": {
      "image/png": "[encoded data removed]",
      "text/plain": [
       "<Figure size 1440x360 with 3 Axes>"
      ]
     },
     "metadata": {
      "needs_background": "light"
     },
     "output_type": "display_data"
    }
   ],
   "source": [
    "\n",
    "plt.rcParams[\"font.family\"] = \"DejaVu Sans\"\n",
    "font={'weight':'medium',\n",
    "      'color':'black',\n",
    "      'size':12}\n",
    "\n",
    "\n",
    "fig,ax=plt.subplots(1,3,figsize=(20,5),sharex=True)\n",
    "axes = ax.flatten()\n",
    "ax1=axes[0]\n",
    "ax2=axes[1]\n",
    "ax3=axes[2]\n",
    "\n",
    "\n",
    "sns.distplot(t2_1120_ssp245_2040lu_land['ssp245_t2_1120_era5_corrected_land'],bins=200,hist=False,kde=True,\\\n",
    "             color='black',kde_kws={'linestyle':'--'},label='the 2010s',ax=ax1)\n",
    "sns.distplot(t2_4049_ssp126_land['t2_4049_ssp126_land'],bins=200,hist=False,kde=True,color='blue',\\\n",
    "             label='the 2040s',ax=ax1)\n",
    "sns.distplot(t2_9099_ssp126_land['t2_9099_ssp126_land'],bins=200,hist=False,kde=True,color='red',\\\n",
    "             label='the 2090s',ax=ax1)\n",
    "ax1.axvline(28.96600946442468,color='black',linestyle='--',ymax=0.2)\n",
    "ax1.axvline(29.82530967615871,color='blue',linestyle='-',ymax=0.2)\n",
    "ax1.axvline(29.607089083899922,color='red',linestyle='-',ymax=0.2)\n",
    "\n",
    "sns.distplot(t2_1120_ssp245_2040lu_land['ssp245_t2_1120_era5_corrected_land'],bins=200,hist=False,kde=True,\\\n",
    "             color='black',kde_kws={'linestyle':'--'},label='the 2010s',ax=ax2)\n",
    "sns.distplot(t2_4049_ssp245_land['t2_4049_ssp245_land'],bins=200,hist=False,kde=True,color='blue',\\\n",
    "             label='the 2040s',ax=ax2)\n",
    "sns.distplot(t2_9099_ssp245_land['t2_9099_ssp245_land'],bins=200,hist=False,kde=True,color='red',\\\n",
    "             label='the 2090s',ax=ax2)\n",
    "ax2.axvline(28.96600946442468,color='black',linestyle='--',ymax=0.2)\n",
    "ax2.axvline(29.75820713544096,color='blue',linestyle='-',ymax=0.2)\n",
    "ax2.axvline(30.600383294546685,color='red',linestyle='-',ymax=0.2)\n",
    "\n",
    "sns.distplot(t2_1120_ssp245_2040lu_land['ssp245_t2_1120_era5_corrected_land'],bins=200,hist=False,kde=True,\\\n",
    "             color='black',kde_kws={'linestyle':'--'},label='the 2010s',ax=ax3)\n",
    "sns.distplot(t2_4049_ssp585_land['t2_4049_ssp585_land'],bins=200,hist=False,kde=True,color='blue',\\\n",
    "             label='the 2040s',ax=ax3)\n",
    "sns.distplot(t2_9099_ssp585_land['t2_9099_ssp585_land'],bins=200,hist=False,kde=True,color='red',\\\n",
    "             label='the 2090s',ax=ax3)\n",
    "ax3.axvline(28.96600946442468,color='black',linestyle='--',ymax=0.2)\n",
    "ax3.axvline(29.8907808105069,color='blue',linestyle='-',ymax=0.2)\n",
    "ax3.axvline(32.17540314604388,color='red',linestyle='-',ymax=0.2)\n",
    "\n",
    "\n",
    "\n",
    "fig.subplots_adjust(hspace=0.1)\n",
    "\n",
    "             \n",
    "\n",
    "ax1.set_ylim(0,0.3)\n",
    "ax1.set_yticks([0,0.05,0.1,0.15,0.2,0.25,0.3])\n",
    "ax1.set_yticklabels([0,0.05,0.1,0.15,0.2,0.25,0.3],fontdict=font)\n",
    "ax1.set_ylabel('Probability',fontsize=16)\n",
    "\n",
    "ax2.set_ylim(0,0.3)\n",
    "ax2.set_yticks([0,0.05,0.1,0.15,0.2,0.25,0.3])\n",
    "ax2.set_yticklabels([0,0.05,0.1,0.15,0.2,0.25,0.3],fontdict=font)\n",
    "ax2.set_ylabel('Probability',fontsize=16)\n",
    "\n",
    "ax3.set_ylim(0,0.3)\n",
    "ax3.set_yticks([0,0.05,0.1,0.15,0.2,0.25,0.3])\n",
    "ax3.set_yticklabels([0,0.05,0.1,0.15,0.2,0.25,0.3],fontdict=font)\n",
    "ax3.set_ylabel('Probability',fontsize=16)\n",
    "\n",
    "\n",
    "ax1.set_xticks(range(11, 46)[::2])\n",
    "ax1.set_xticklabels(range(11, 46)[::2],fontdict=font)\n",
    "ax2.set_xticks(range(11, 46)[::2])\n",
    "ax2.set_xticklabels(range(11, 46)[::2],fontdict=font)\n",
    "ax3.set_xticks(range(11, 46)[::2])\n",
    "ax3.set_xticklabels(range(11, 46)[::2],fontdict=font)\n",
    "\n",
    "ax1.set_xlabel('2 m temperature (°C)',fontsize=16)\n",
    "ax2.set_xlabel('2 m temperature (°C)',fontsize=16)\n",
    "ax3.set_xlabel('2 m temperature (°C)',fontsize=16)\n",
    "\n",
    "\n",
    "ax1.tick_params(direction='in')\n",
    "ax2.tick_params(direction='in')\n",
    "ax3.tick_params(direction='in')\n",
    "\n",
    "             \n",
    "ax1.set_title('(a) SSP1-2.6', fontsize=16, color='black',loc='left')\n",
    "ax2.set_title('(b) SSP2-4.5', fontsize=16, color='black',loc='left')\n",
    "ax3.set_title('(c) SSP5-8.5', fontsize=16, color='black',loc='left')\n",
    "\n",
    "ax1.legend(loc='upper right',frameon=False,fontsize=12)\n",
    "ax2.legend(loc='upper right',frameon=False,fontsize=12)\n",
    "ax3.legend(loc='upper right',frameon=False,fontsize=12)\n",
    "\n",
    "\n",
    "\n",
    "plt.rcParams['savefig.dpi'] = 500 \n",
    "plt.rcParams['figure.dpi'] = 500 \n",
    "\n",
    "plt.show()\n",
    "fig.savefig('/disk/r110/zzuoaa/hot_extreme/plots_era5_correction_1120/figs/fig2_pdf/fig3_land_scenario.eps',bbox_inches='tight',dpi=500,format='eps')\n",
    "fig.savefig('/disk/r110/zzuoaa/hot_extreme/plots_era5_correction_1120/figs/fig2_pdf/fig3_land_scenario.pdf',dpi=500)\n",
    "fig.savefig('/disk/r110/zzuoaa/hot_extreme/plots_era5_correction_1120/figs/fig2_pdf/fig3_land_scenario.png',dpi=500)"
   ]
  },
  {
   "cell_type": "code",
   "execution_count": 39,
   "metadata": {},
   "outputs": [
    {
     "name": "stdout",
     "output_type": "stream",
     "text": [
      "skew of ssp245_1120 =  0.17835666\n",
      "variance of ssp245_1120 =  55.66304397583008\n",
      "skew of ssp126_4049 =  0.36670977\n",
      "variance of ssp126_4049 =  55.66040802001953\n",
      "skew of ssp245_4049 =  0.3672256\n",
      "variance of ssp245_4049 =  55.66040802001953\n",
      "skew of ssp585_4049 =  0.22686863\n",
      "variance of ssp585_4049 =  55.66040802001953\n",
      "skew of ssp126_9099 =  0.2769002\n",
      "variance of ssp126_9099 =  55.66040802001953\n",
      "skew of ssp245_9099 =  0.3536551\n",
      "variance of ssp245_9099 =  55.66040802001953\n",
      "skew of ssp585_9099 =  0.39616516\n",
      "variance of ssp585_9099 =  55.66040802001953\n"
     ]
    }
   ],
   "source": [
    "print(\"skew of ssp245_1120 = \",t2_1120_ssp245_2040lu_land['ssp245_t2_1120_era5_corrected_land'].skew())\n",
    "print(\"variance of ssp245_1120 = \",np.var(t2_1120_ssp245_2040lu_land['ssp245_t2_1120_era5_corrected_land']))\n",
    "\n",
    "print(\"skew of ssp126_4049 = \",t2_4049_ssp126_land['t2_4049_ssp126_land'].skew())\n",
    "print(\"variance of ssp126_4049 = \",np.var(t2_4049_ssp126_land['t2_4049_ssp126_land']))\n",
    "\n",
    "print(\"skew of ssp245_4049 = \",t2_4049_ssp245_land['t2_4049_ssp245_land'].skew())\n",
    "print(\"variance of ssp245_4049 = \",np.var(t2_4049_ssp245_land['t2_4049_ssp245_land']))\n",
    "\n",
    "print(\"skew of ssp585_4049 = \",t2_4049_ssp585_land['t2_4049_ssp585_land'].skew())\n",
    "print(\"variance of ssp585_4049 = \",np.var(t2_4049_ssp585_land['t2_4049_ssp585_land']))\n",
    "\n",
    "print(\"skew of ssp126_9099 = \",t2_9099_ssp126_land['t2_9099_ssp126_land'].skew())\n",
    "print(\"variance of ssp126_9099 = \",np.var(t2_9099_ssp126_land['t2_9099_ssp126_land']))\n",
    "\n",
    "print(\"skew of ssp245_9099 = \",t2_9099_ssp245_land['t2_9099_ssp245_land'].skew())\n",
    "print(\"variance of ssp245_9099 = \",np.var(t2_9099_ssp245_land['t2_9099_ssp245_land']))\n",
    "\n",
    "print(\"skew of ssp585_9099 = \",t2_9099_ssp585_land['t2_9099_ssp585_land'].skew())\n",
    "print(\"variance of ssp585_9099 = \",np.var(t2_9099_ssp585_land['t2_9099_ssp585_land']))"
   ]
  },
  {
   "cell_type": "code",
   "execution_count": null,
   "metadata": {},
   "outputs": [],
   "source": []
  }
 ],
 "metadata": {
  "kernelspec": {
   "display_name": "Python 3",
   "language": "python",
   "name": "python3"
  },
  "language_info": {
   "codemirror_mode": {
    "name": "ipython",
    "version": 3
   },
   "file_extension": ".py",
   "mimetype": "text/x-python",
   "name": "python",
   "nbconvert_exporter": "python",
   "pygments_lexer": "ipython3",
   "version": "3.8.3"
  }
 },
 "nbformat": 4,
 "nbformat_minor": 4
}
