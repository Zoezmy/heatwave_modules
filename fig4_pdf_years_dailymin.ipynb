{
 "cells": [
  {
   "cell_type": "code",
   "execution_count": 1,
   "metadata": {},
   "outputs": [],
   "source": [
    "from netCDF4 import Dataset\n",
    "import matplotlib.pyplot as plt\n",
    "from matplotlib.cm import get_cmap\n",
    "import pandas as pd\n",
    "import numpy as np\n",
    "import os\n",
    "import shutil\n",
    "import re\n",
    "import netCDF4 as nc\n",
    "import xarray as xr\n",
    "import matplotlib.ticker as mticker\n",
    "import matplotlib.pyplot as plt\n",
    "import glob\n",
    "from scipy.stats import norm\n",
    "from scipy import stats\n",
    "import seaborn as sns\n",
    "import shapefile\n",
    "from matplotlib.backends.backend_pdf import PdfPages"
   ]
  },
  {
   "cell_type": "markdown",
   "metadata": {},
   "source": [
    "# 1120 land pdf"
   ]
  },
  {
   "cell_type": "code",
   "execution_count": 2,
   "metadata": {},
   "outputs": [],
   "source": [
    "ds1_1120_lu = xr.open_dataset('ssp245_t2_1120_era5_corrected_dailymin.nc')\n",
    "ssp245_t2_1120_era5_corrected = ds1_1120_lu['ssp245_t2_1120_era5_corrected_dailymin']"
   ]
  },
  {
   "cell_type": "code",
   "execution_count": 3,
   "metadata": {},
   "outputs": [],
   "source": [
    "t2_1120_ssp245_2040lu_df = ssp245_t2_1120_era5_corrected.to_dataframe().reset_index()"
   ]
  },
  {
   "cell_type": "code",
   "execution_count": 4,
   "metadata": {},
   "outputs": [],
   "source": [
    "t2_1120_ssp245_2040lu_land = t2_1120_ssp245_2040lu_df[t2_1120_ssp245_2040lu_df['LU_INDEX']!=16]\n",
    "t2_1120_ssp245_2040lu_land = t2_1120_ssp245_2040lu_land.reset_index(drop=True)\n",
    "t2_1120_ssp245_2040lu_land = t2_1120_ssp245_2040lu_land.rename(columns={\"ssp245_t2_1120_era5_corrected_dailymin\": \"ssp245_t2_1120_era5_corrected_land\"})"
   ]
  },
  {
   "cell_type": "code",
   "execution_count": 5,
   "metadata": {},
   "outputs": [],
   "source": [
    "del t2_1120_ssp245_2040lu_df"
   ]
  },
  {
   "cell_type": "code",
   "execution_count": 6,
   "metadata": {},
   "outputs": [],
   "source": [
    "del t2_1120_ssp245_2040lu_land['Time']\n",
    "del t2_1120_ssp245_2040lu_land['south_north']\n",
    "del t2_1120_ssp245_2040lu_land['west_east']\n",
    "del t2_1120_ssp245_2040lu_land['XLAT']\n",
    "del t2_1120_ssp245_2040lu_land['LU_INDEX']\n",
    "del t2_1120_ssp245_2040lu_land['XLONG']"
   ]
  },
  {
   "cell_type": "markdown",
   "metadata": {},
   "source": [
    "# 4049 land pdf"
   ]
  },
  {
   "cell_type": "code",
   "execution_count": 7,
   "metadata": {},
   "outputs": [],
   "source": [
    "#load files\n",
    "ds_4049_ssp126 = xr.open_dataset('/disk/r110/zzuoaa/hot_extreme/ssp126/bias_corrected_ncfiles_1120/daily_min/ssp126_t2_4049_era5_corrected_dailymin.nc')\n",
    "t2_4049_ssp126_lu = ds_4049_ssp126['ssp126_t2_4049_era5_corrected_dailymin']\n",
    "\n",
    "ds_4049_ssp245 = xr.open_dataset('ssp245_t2_4049_era5_corrected_dailymin.nc')\n",
    "t2_4049_ssp245_lu = ds_4049_ssp245['ssp245_t2_4049_era5_corrected_dailymin']\n",
    "\n",
    "ds_4049_ssp585 = xr.open_dataset('/disk/r110/zzuoaa/hot_extreme/ssp585/bias_corrected_ncfiles_1120/daily_min/ssp585_t2_4049_era5_corrected_dailymin.nc')\n",
    "t2_4049_ssp585_lu = ds_4049_ssp585['ssp585_t2_4049_era5_corrected_dailymin']"
   ]
  },
  {
   "cell_type": "code",
   "execution_count": 8,
   "metadata": {},
   "outputs": [],
   "source": [
    "#ssp126 to dataframe\n",
    "t2_4049_ssp126_lu_df = t2_4049_ssp126_lu.to_dataframe().reset_index()\n",
    "\n",
    "t2_4049_ssp126_land = t2_4049_ssp126_lu_df[t2_4049_ssp126_lu_df['LU_INDEX']!=16]\n",
    "t2_4049_ssp126_land = t2_4049_ssp126_land.reset_index(drop=True)\n",
    "t2_4049_ssp126_land = t2_4049_ssp126_land.rename(columns={\"ssp126_t2_4049_era5_corrected_dailymin\": \"t2_4049_ssp126_land\"})\n",
    "\n",
    "del t2_4049_ssp126_lu_df\n",
    "\n",
    "del t2_4049_ssp126_land['Time']\n",
    "del t2_4049_ssp126_land['south_north']\n",
    "del t2_4049_ssp126_land['west_east']\n",
    "del t2_4049_ssp126_land['XLAT']\n",
    "del t2_4049_ssp126_land['LU_INDEX']\n",
    "del t2_4049_ssp126_land['XLONG']"
   ]
  },
  {
   "cell_type": "code",
   "execution_count": 9,
   "metadata": {},
   "outputs": [],
   "source": [
    "#ssp245 to dataframe\n",
    "t2_4049_ssp245_lu_df = t2_4049_ssp245_lu.to_dataframe().reset_index()\n",
    "\n",
    "t2_4049_ssp245_land = t2_4049_ssp245_lu_df[t2_4049_ssp245_lu_df['LU_INDEX']!=16]\n",
    "t2_4049_ssp245_land = t2_4049_ssp245_land.reset_index(drop=True)\n",
    "t2_4049_ssp245_land = t2_4049_ssp245_land.rename(columns={\"ssp245_t2_4049_era5_corrected_dailymin\": \"t2_4049_ssp245_land\"})\n",
    "\n",
    "del t2_4049_ssp245_lu_df\n",
    "\n",
    "del t2_4049_ssp245_land['Time']\n",
    "del t2_4049_ssp245_land['south_north']\n",
    "del t2_4049_ssp245_land['west_east']\n",
    "del t2_4049_ssp245_land['XLAT']\n",
    "del t2_4049_ssp245_land['LU_INDEX']\n",
    "del t2_4049_ssp245_land['XLONG']"
   ]
  },
  {
   "cell_type": "code",
   "execution_count": 10,
   "metadata": {},
   "outputs": [],
   "source": [
    "#ssp585 to dataframe\n",
    "t2_4049_ssp585_lu_df = t2_4049_ssp585_lu.to_dataframe().reset_index()\n",
    "\n",
    "t2_4049_ssp585_land = t2_4049_ssp585_lu_df[t2_4049_ssp585_lu_df['LU_INDEX']!=16]\n",
    "t2_4049_ssp585_land = t2_4049_ssp585_land.reset_index(drop=True)\n",
    "t2_4049_ssp585_land = t2_4049_ssp585_land.rename(columns={\"ssp585_t2_4049_era5_corrected_dailymin\": \"t2_4049_ssp585_land\"})\n",
    "\n",
    "del t2_4049_ssp585_lu_df\n",
    "\n",
    "del t2_4049_ssp585_land['Time']\n",
    "del t2_4049_ssp585_land['south_north']\n",
    "del t2_4049_ssp585_land['west_east']\n",
    "del t2_4049_ssp585_land['XLAT']\n",
    "del t2_4049_ssp585_land['LU_INDEX']\n",
    "del t2_4049_ssp585_land['XLONG']"
   ]
  },
  {
   "cell_type": "markdown",
   "metadata": {},
   "source": [
    "# 9099 land pdf"
   ]
  },
  {
   "cell_type": "code",
   "execution_count": 11,
   "metadata": {},
   "outputs": [],
   "source": [
    "#load files\n",
    "ds_9099_ssp126 = xr.open_dataset('/disk/r110/zzuoaa/hot_extreme/ssp126/bias_corrected_ncfiles_1120/daily_min/ssp126_t2_9099_era5_corrected_dailymin.nc')\n",
    "t2_9099_ssp126_lu = ds_9099_ssp126['ssp126_t2_9099_era5_corrected_dailymin']\n",
    "\n",
    "ds_9099_ssp245 = xr.open_dataset('ssp245_t2_9099_era5_corrected_dailymin.nc')\n",
    "t2_9099_ssp245_lu = ds_9099_ssp245['ssp245_t2_9099_era5_corrected_dailymin']\n",
    "\n",
    "ds_9099_ssp585 = xr.open_dataset('/disk/r110/zzuoaa/hot_extreme/ssp585/bias_corrected_ncfiles_1120/daily_min/ssp585_t2_9099_era5_corrected_dailymin.nc')\n",
    "t2_9099_ssp585_lu = ds_9099_ssp585['ssp585_t2_9099_era5_corrected_dailymin']"
   ]
  },
  {
   "cell_type": "code",
   "execution_count": 12,
   "metadata": {},
   "outputs": [],
   "source": [
    "#ssp126 to dataframe\n",
    "t2_9099_ssp126_lu_df = t2_9099_ssp126_lu.to_dataframe().reset_index()\n",
    "\n",
    "t2_9099_ssp126_land = t2_9099_ssp126_lu_df[t2_9099_ssp126_lu_df['LU_INDEX']!=16]\n",
    "t2_9099_ssp126_land = t2_9099_ssp126_land.reset_index(drop=True)\n",
    "t2_9099_ssp126_land = t2_9099_ssp126_land.rename(columns={\"ssp126_t2_9099_era5_corrected_dailymin\": \"t2_9099_ssp126_land\"})\n",
    "\n",
    "del t2_9099_ssp126_land['Time']\n",
    "del t2_9099_ssp126_land['south_north']\n",
    "del t2_9099_ssp126_land['west_east']\n",
    "del t2_9099_ssp126_land['XLAT']\n",
    "del t2_9099_ssp126_land['LU_INDEX']\n",
    "del t2_9099_ssp126_land['XLONG']\n",
    "\n",
    "del t2_9099_ssp126_lu_df"
   ]
  },
  {
   "cell_type": "code",
   "execution_count": 13,
   "metadata": {},
   "outputs": [],
   "source": [
    "#ssp245 to dataframe\n",
    "t2_9099_ssp245_lu_df = t2_9099_ssp245_lu.to_dataframe().reset_index()\n",
    "\n",
    "t2_9099_ssp245_land = t2_9099_ssp245_lu_df[t2_9099_ssp245_lu_df['LU_INDEX']!=16]\n",
    "t2_9099_ssp245_land = t2_9099_ssp245_land.reset_index(drop=True)\n",
    "t2_9099_ssp245_land = t2_9099_ssp245_land.rename(columns={\"ssp245_t2_9099_era5_corrected_dailymin\": \"t2_9099_ssp245_land\"})\n",
    "\n",
    "del t2_9099_ssp245_land['Time']\n",
    "del t2_9099_ssp245_land['south_north']\n",
    "del t2_9099_ssp245_land['west_east']\n",
    "del t2_9099_ssp245_land['XLAT']\n",
    "del t2_9099_ssp245_land['LU_INDEX']\n",
    "del t2_9099_ssp245_land['XLONG']\n",
    "\n",
    "del t2_9099_ssp245_lu_df"
   ]
  },
  {
   "cell_type": "code",
   "execution_count": 14,
   "metadata": {},
   "outputs": [],
   "source": [
    "#ssp585 to dataframe\n",
    "t2_9099_ssp585_lu_df = t2_9099_ssp585_lu.to_dataframe().reset_index()\n",
    "\n",
    "t2_9099_ssp585_land = t2_9099_ssp585_lu_df[t2_9099_ssp585_lu_df['LU_INDEX']!=16]\n",
    "t2_9099_ssp585_land = t2_9099_ssp585_land.reset_index(drop=True)\n",
    "t2_9099_ssp585_land = t2_9099_ssp585_land.rename(columns={\"ssp585_t2_9099_era5_corrected_dailymin\": \"t2_9099_ssp585_land\"})\n",
    "\n",
    "del t2_9099_ssp585_land['Time']\n",
    "del t2_9099_ssp585_land['south_north']\n",
    "del t2_9099_ssp585_land['west_east']\n",
    "del t2_9099_ssp585_land['XLAT']\n",
    "del t2_9099_ssp585_land['LU_INDEX']\n",
    "del t2_9099_ssp585_land['XLONG']\n",
    "\n",
    "del t2_9099_ssp585_lu_df"
   ]
  },
  {
   "cell_type": "markdown",
   "metadata": {},
   "source": [
    "# plotting"
   ]
  },
  {
   "cell_type": "code",
   "execution_count": 15,
   "metadata": {},
   "outputs": [
    {
     "name": "stdout",
     "output_type": "stream",
     "text": [
      "26.224039147740356\n",
      "27.20636330297373\n",
      "27.030128384190633\n",
      "26.224039147740356\n",
      "27.141835432135895\n",
      "28.0199247406384\n",
      "26.224039147740356\n",
      "27.311655111425946\n",
      "29.65365410893042\n"
     ]
    }
   ],
   "source": [
    "print(t2_1120_ssp245_2040lu_land['ssp245_t2_1120_era5_corrected_land'].astype('float64').mean())\n",
    "print(t2_4049_ssp126_land['t2_4049_ssp126_land'].astype('float64').mean())\n",
    "print(t2_9099_ssp126_land['t2_9099_ssp126_land'].astype('float64').mean())\n",
    "print(t2_1120_ssp245_2040lu_land['ssp245_t2_1120_era5_corrected_land'].astype('float64').mean())\n",
    "print(t2_4049_ssp245_land['t2_4049_ssp245_land'].astype('float64').mean())\n",
    "print(t2_9099_ssp245_land['t2_9099_ssp245_land'].astype('float64').mean())\n",
    "print(t2_1120_ssp245_2040lu_land['ssp245_t2_1120_era5_corrected_land'].astype('float64').mean())\n",
    "print(t2_4049_ssp585_land['t2_4049_ssp585_land'].astype('float64').mean())\n",
    "print(t2_9099_ssp585_land['t2_9099_ssp585_land'].astype('float64').mean())"
   ]
  },
  {
   "cell_type": "code",
   "execution_count": 16,
   "metadata": {},
   "outputs": [
    {
     "data": {
      "image/png": "[encoded data removed]",
      "text/plain": [
       "<Figure size 1080x360 with 2 Axes>"
      ]
     },
     "metadata": {
      "needs_background": "light"
     },
     "output_type": "display_data"
    }
   ],
   "source": [
    "\n",
    "plt.rcParams[\"font.family\"] = \"DejaVu Sans\"\n",
    "font={'weight':'medium',\n",
    "      'color':'black',\n",
    "      'size':12}\n",
    "\n",
    "fig,ax=plt.subplots(1,2,figsize=(15,5),sharex=True)\n",
    "axes = ax.flatten()\n",
    "ax1=axes[0]\n",
    "ax2=axes[1]\n",
    "\n",
    "\n",
    "sns.distplot(t2_1120_ssp245_2040lu_land['ssp245_t2_1120_era5_corrected_land'],bins=200,hist=False,kde=True,color='black',kde_kws={'linestyle':'--'},label='the 2010s',ax=ax1)\n",
    "sns.distplot(t2_4049_ssp126_land['t2_4049_ssp126_land'],bins=200,hist=False,kde=True,color='blue',label='SSP1-2.6',ax=ax1)\n",
    "sns.distplot(t2_4049_ssp245_land['t2_4049_ssp245_land'],bins=200,hist=False,kde=True,color='orange',label='SSP2-4.5',ax=ax1)\n",
    "sns.distplot(t2_4049_ssp585_land['t2_4049_ssp585_land'],bins=200,hist=False,kde=True,color='red',label='SSP5-8.5',ax=ax1)\n",
    "ax1.axvline(26.224039147740356,color='black',linestyle='--',ymax=0.2)\n",
    "ax1.axvline(27.20636330297373,color='blue',linestyle='-',ymax=0.2)\n",
    "ax1.axvline(27.141835432135895,color='orange',linestyle='-',ymax=0.2)\n",
    "ax1.axvline(27.311655111425946,color='red',linestyle='-',ymax=0.2)\n",
    "\n",
    "sns.distplot(t2_1120_ssp245_2040lu_land['ssp245_t2_1120_era5_corrected_land'],bins=200,hist=False,kde=True,color='black',kde_kws={'linestyle':'--'},label='the 2010s',ax=ax2)\n",
    "sns.distplot(t2_9099_ssp126_land['t2_9099_ssp126_land'],bins=200,hist=False,kde=True,color='blue',label='SSP1-2.6',ax=ax2)\n",
    "sns.distplot(t2_9099_ssp245_land['t2_9099_ssp245_land'],bins=200,hist=False,kde=True,color='orange',label='SSP2-4.5',ax=ax2)\n",
    "sns.distplot(t2_9099_ssp585_land['t2_9099_ssp585_land'],bins=200,hist=False,kde=True,color='red',label='SSP5-8.5',ax=ax2)\n",
    "ax2.axvline(26.224039147740356,color='black',linestyle='--',ymax=0.2)\n",
    "ax2.axvline(27.030128384190633,color='blue',linestyle='-',ymax=0.2)\n",
    "ax2.axvline(28.0199247406384,color='orange',linestyle='-',ymax=0.2)\n",
    "ax2.axvline(29.65365410893042,color='red',linestyle='-',ymax=0.2)\n",
    "\n",
    "\n",
    "\n",
    "fig.subplots_adjust(hspace=0.1)\n",
    "\n",
    "             \n",
    "\n",
    "ax1.set_ylim(0,0.3)\n",
    "ax1.set_yticks([0,0.05,0.1,0.15,0.2,0.25,0.3])\n",
    "ax1.set_yticklabels([0,0.05,0.1,0.15,0.2,0.25,0.3],fontdict=font)\n",
    "ax1.set_ylabel('Probability',fontsize=16)\n",
    "\n",
    "ax2.set_ylim(0,0.3)\n",
    "ax2.set_yticks([0,0.05,0.1,0.15,0.2,0.25,0.3])\n",
    "ax2.set_yticklabels([0,0.05,0.1,0.15,0.2,0.25,0.3],fontdict=font)\n",
    "ax2.set_ylabel('Probability',fontsize=16)\n",
    "\n",
    "\n",
    "ax1.set_xticks(range(11, 46)[::2])\n",
    "ax1.set_xticklabels(range(11, 46)[::2],fontdict=font)\n",
    "ax2.set_xticks(range(11, 46)[::2])\n",
    "ax2.set_xticklabels(range(11, 46)[::2],fontdict=font)\n",
    "# ax3.set_xticklabels([16,18,20,22,24,26,28,30,32,34,36,38,40,42,44],fontdict=font)\n",
    "ax1.set_xlabel('2 m temperature (°C)',fontsize=16)\n",
    "ax2.set_xlabel('2 m temperature (°C)',fontsize=16)\n",
    "             \n",
    "\n",
    "ax1.tick_params(direction='in')\n",
    "ax2.tick_params(direction='in')\n",
    "\n",
    "           \n",
    "ax1.set_title('(e) 2040s', fontsize=16, color='black',loc='left')\n",
    "ax2.set_title('(f) 2090s', fontsize=16, color='black',loc='left')\n",
    "\n",
    "\n",
    "ax1.legend(loc='upper right',frameon=False,fontsize=12)\n",
    "ax2.legend(loc='upper right',frameon=False,fontsize=12)\n",
    "\n",
    "plt.rcParams['savefig.dpi'] = 500 \n",
    "plt.rcParams['figure.dpi'] = 500\n",
    "# plt.suptitle('PDF of 2m temperature in land areas under SSP585 scenario',y=1.03,fontsize=15)\n",
    "# plt.title('PDF of 2m temperature in land areas under SSP585 scenario', y=1.05,fontsize=15)\n",
    "plt.show()\n",
    "fig.savefig('/disk/r110/zzuoaa/hot_extreme/plots_era5_correction_1120/figs/fig2_pdf/fig4_land_year_dailymin.eps',bbox_inches='tight',dpi=500,format='eps')\n",
    "fig.savefig('/disk/r110/zzuoaa/hot_extreme/plots_era5_correction_1120/figs/fig2_pdf/fig4_land_year_dailymin.pdf',dpi=500)\n",
    "fig.savefig('/disk/r110/zzuoaa/hot_extreme/plots_era5_correction_1120/figs/fig2_pdf/fig4_land_year_dailymin.png',dpi=500)"
   ]
  },
  {
   "cell_type": "code",
   "execution_count": 17,
   "metadata": {},
   "outputs": [
    {
     "name": "stdout",
     "output_type": "stream",
     "text": [
      "skew of min_ssp245_1120 =  -1.1091484\n",
      "variance of min_ssp245_1120 =  31.666439056396484\n",
      "skew of min_ssp126_4049 =  -0.84951454\n",
      "variance of min_ssp126_4049 =  42.182098388671875\n",
      "skew of min_ssp245_4049 =  -0.90565383\n",
      "variance of min_ssp245_4049 =  42.49736022949219\n",
      "skew of min_ssp585_4049 =  -1.2069424\n",
      "variance of min_ssp585_4049 =  43.84107208251953\n",
      "skew of min_ssp126_9099 =  -1.0925581\n",
      "variance of min_ssp126_9099 =  41.63551712036133\n",
      "skew of min_ssp245_9099 =  -0.88458806\n",
      "variance of min_ssp245_9099 =  52.733741760253906\n",
      "skew of min_ssp585_9099 =  -0.85305136\n",
      "variance of min_ssp585_9099 =  69.1543197631836\n"
     ]
    }
   ],
   "source": [
    "print(\"skew of min_ssp245_1120 = \",t2_1120_ssp245_2040lu_land['ssp245_t2_1120_era5_corrected_land'].skew())\n",
    "print(\"variance of min_ssp245_1120 = \",np.var(t2_1120_ssp245_2040lu_land['ssp245_t2_1120_era5_corrected_land']))\n",
    "\n",
    "print(\"skew of min_ssp126_4049 = \",t2_4049_ssp126_land['t2_4049_ssp126_land'].skew())\n",
    "print(\"variance of min_ssp126_4049 = \",np.var(t2_4049_ssp126_land['t2_4049_ssp126_land']))\n",
    "\n",
    "print(\"skew of min_ssp245_4049 = \",t2_4049_ssp245_land['t2_4049_ssp245_land'].skew())\n",
    "print(\"variance of min_ssp245_4049 = \",np.var(t2_4049_ssp245_land['t2_4049_ssp245_land']))\n",
    "\n",
    "print(\"skew of min_ssp585_4049 = \",t2_4049_ssp585_land['t2_4049_ssp585_land'].skew())\n",
    "print(\"variance of min_ssp585_4049 = \",np.var(t2_4049_ssp585_land['t2_4049_ssp585_land']))\n",
    "\n",
    "print(\"skew of min_ssp126_9099 = \",t2_9099_ssp126_land['t2_9099_ssp126_land'].skew())\n",
    "print(\"variance of min_ssp126_9099 = \",np.var(t2_9099_ssp126_land['t2_9099_ssp126_land']))\n",
    "\n",
    "print(\"skew of min_ssp245_9099 = \",t2_9099_ssp245_land['t2_9099_ssp245_land'].skew())\n",
    "print(\"variance of min_ssp245_9099 = \",np.var(t2_9099_ssp245_land['t2_9099_ssp245_land']))\n",
    "\n",
    "print(\"skew of min_ssp585_9099 = \",t2_9099_ssp585_land['t2_9099_ssp585_land'].skew())\n",
    "print(\"variance of min_ssp585_9099 = \",np.var(t2_9099_ssp585_land['t2_9099_ssp585_land']))"
   ]
  },
  {
   "cell_type": "code",
   "execution_count": null,
   "metadata": {},
   "outputs": [],
   "source": []
  },
  {
   "cell_type": "code",
   "execution_count": null,
   "metadata": {},
   "outputs": [],
   "source": []
  }
 ],
 "metadata": {
  "kernelspec": {
   "display_name": "Python 3",
   "language": "python",
   "name": "python3"
  },
  "language_info": {
   "codemirror_mode": {
    "name": "ipython",
    "version": 3
   },
   "file_extension": ".py",
   "mimetype": "text/x-python",
   "name": "python",
   "nbconvert_exporter": "python",
   "pygments_lexer": "ipython3",
   "version": "3.8.3"
  }
 },
 "nbformat": 4,
 "nbformat_minor": 4
}
