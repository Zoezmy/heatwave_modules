{
 "cells": [
  {
   "cell_type": "code",
   "execution_count": 1,
   "metadata": {},
   "outputs": [],
   "source": [
    "from netCDF4 import Dataset\n",
    "from wrf import (to_np, getvar, smooth2d, get_cartopy, cartopy_xlim,\n",
    "                 cartopy_ylim, latlon_coords, ALL_TIMES,interpline, CoordPair, xy_to_ll, ll_to_xy)\n",
    "import pandas as pd\n",
    "import numpy as np\n",
    "import os\n",
    "import shutil\n",
    "import re\n",
    "import netCDF4 as nc\n",
    "import xarray as xr\n",
    "import glob\n",
    "from scipy.stats import norm\n",
    "from scipy import stats\n",
    "from pandas import Series,DataFrame"
   ]
  },
  {
   "cell_type": "markdown",
   "metadata": {},
   "source": [
    "# find the nearest grid"
   ]
  },
  {
   "cell_type": "code",
   "execution_count": 3,
   "metadata": {},
   "outputs": [],
   "source": [
    "obs_t2 = pd.read_csv('observation_mean.csv')\n",
    "obs_t2 = obs_t2.rename(columns={\"mean\": \"obs_mean\"})"
   ]
  },
  {
   "cell_type": "code",
   "execution_count": 5,
   "metadata": {},
   "outputs": [],
   "source": [
    "#use one wrfout file as an reference\n",
    "ncfile = Dataset(\"wrfout_d04_2011-06-23_11:00:00\")"
   ]
  },
  {
   "cell_type": "code",
   "execution_count": 6,
   "metadata": {},
   "outputs": [],
   "source": [
    "#find the nearest grid dell to the observation station\n",
    "nearest_grid = ll_to_xy(ncfile,obs_t2['lat'],obs_t2['lon'])\n",
    "nearest_grid_df = nearest_grid.to_dataframe()"
   ]
  },
  {
   "cell_type": "code",
   "execution_count": 8,
   "metadata": {},
   "outputs": [],
   "source": [
    "x = nearest_grid[0,:]\n",
    "x_df = x.to_dataframe().reset_index()\n",
    "x_df = x_df['xy']\n",
    "x_df = pd.DataFrame(x_df)\n",
    "\n",
    "y = nearest_grid[1,:]\n",
    "y_df = y.to_dataframe().reset_index()\n",
    "y_df = y_df['xy']\n",
    "y_df = pd.DataFrame(y_df)\n",
    "\n",
    "obs_t2['west_east'] = x_df['xy']\n",
    "obs_t2['south_north'] = y_df['xy']"
   ]
  },
  {
   "cell_type": "markdown",
   "metadata": {},
   "source": [
    "# ERA5_t2"
   ]
  },
  {
   "cell_type": "code",
   "execution_count": 11,
   "metadata": {},
   "outputs": [],
   "source": [
    "ds_era5_t2 = xr.open_dataset('t2_1620_era5.nc')\n",
    "t2_1620_era5 = ds_era5_t2['t2_1620_era5']"
   ]
  },
  {
   "cell_type": "code",
   "execution_count": 12,
   "metadata": {},
   "outputs": [],
   "source": [
    "t2_1620_era5 = t2_1620_era5.mean(dim='Time')"
   ]
  },
  {
   "cell_type": "code",
   "execution_count": 13,
   "metadata": {},
   "outputs": [],
   "source": [
    "t2_1620_era5_df = t2_1620_era5.to_dataframe().reset_index()"
   ]
  },
  {
   "cell_type": "code",
   "execution_count": 14,
   "metadata": {},
   "outputs": [],
   "source": [
    "obs_t2 = pd.merge(obs_t2,t2_1620_era5_df,on=['west_east','south_north'],how=\"left\")"
   ]
  },
  {
   "cell_type": "code",
   "execution_count": 15,
   "metadata": {},
   "outputs": [],
   "source": [
    "del obs_t2['XLONG']\n",
    "del obs_t2['XLAT']"
   ]
  },
  {
   "cell_type": "markdown",
   "metadata": {},
   "source": [
    "# CMIP6_t2"
   ]
  },
  {
   "cell_type": "code",
   "execution_count": 16,
   "metadata": {},
   "outputs": [],
   "source": [
    "ds_cmip6_t2 = xr.open_dataset('t2_1620_ssp245.nc')\n",
    "t2_1620_cmip6 = ds_cmip6_t2_2['t2_1620_ssp245']"
   ]
  },
  {
   "cell_type": "code",
   "execution_count": 17,
   "metadata": {},
   "outputs": [],
   "source": [
    "t2_1620_cmip6 = t2_1620_cmip6.mean(dim='Time')"
   ]
  },
  {
   "cell_type": "code",
   "execution_count": 18,
   "metadata": {},
   "outputs": [],
   "source": [
    "t2_1620_cmip6_df = t2_1620_cmip6.to_dataframe().reset_index()"
   ]
  },
  {
   "cell_type": "code",
   "execution_count": 19,
   "metadata": {},
   "outputs": [],
   "source": [
    "obs_t2 = pd.merge(obs_t2,t2_1620_cmip6_df,on=['west_east','south_north'],how=\"left\")"
   ]
  },
  {
   "cell_type": "code",
   "execution_count": 20,
   "metadata": {},
   "outputs": [],
   "source": [
    "obs_t2 = obs_t2.rename(columns={\"t2_1620_ssp245\": \"t2_1620_cmip6\"})"
   ]
  },
  {
   "cell_type": "code",
   "execution_count": 21,
   "metadata": {},
   "outputs": [],
   "source": [
    "del obs_t2['XLONG']\n",
    "del obs_t2['XLAT']"
   ]
  },
  {
   "cell_type": "markdown",
   "metadata": {},
   "source": [
    "# t2_1620_corrected_cmip6"
   ]
  },
  {
   "cell_type": "code",
   "execution_count": 28,
   "metadata": {},
   "outputs": [],
   "source": [
    "ds_bias_cmip6_t2_corrected = xr.open_dataset('t2_1620_era1120_corrected.nc')\n",
    "t2_1620_corrected_cmip6 = ds_bias_cmip6_t2_corrected['t2_1620_era51120_corrected']"
   ]
  },
  {
   "cell_type": "code",
   "execution_count": 29,
   "metadata": {},
   "outputs": [],
   "source": [
    "t2_1620_corrected_cmip6 = t2_1620_corrected_cmip6.mean(dim='Time')"
   ]
  },
  {
   "cell_type": "code",
   "execution_count": 30,
   "metadata": {},
   "outputs": [],
   "source": [
    "t2_1620_corrected_cmip6_df = t2_1620_corrected_cmip6.to_dataframe().reset_index()"
   ]
  },
  {
   "cell_type": "code",
   "execution_count": 31,
   "metadata": {},
   "outputs": [],
   "source": [
    "obs_t2 = pd.merge(obs_t2,t2_1620_corrected_cmip6_df,on=['west_east','south_north'],how=\"left\")"
   ]
  },
  {
   "cell_type": "code",
   "execution_count": 32,
   "metadata": {},
   "outputs": [],
   "source": [
    "del obs_t2['XLONG']\n",
    "del obs_t2['XLAT']"
   ]
  },
  {
   "cell_type": "markdown",
   "metadata": {},
   "source": [
    "# process obs_t2"
   ]
  },
  {
   "cell_type": "code",
   "execution_count": 34,
   "metadata": {},
   "outputs": [],
   "source": [
    "obs_t2.dropna(axis=0,how='any',inplace=True)\n",
    "\n",
    "obs_t2 = obs_t2.reset_index(drop=True)"
   ]
  },
  {
   "cell_type": "code",
   "execution_count": 36,
   "metadata": {},
   "outputs": [],
   "source": [
    "del obs_t2['LU_INDEX_x']\n",
    "del obs_t2['LU_INDEX_y']"
   ]
  },
  {
   "cell_type": "code",
   "execution_count": 37,
   "metadata": {},
   "outputs": [],
   "source": [
    "obs_t2.to_csv('obs_station_withsimu_value.csv',index=False)"
   ]
  },
  {
   "cell_type": "markdown",
   "metadata": {},
   "source": [
    "# Mean Bias between datasets"
   ]
  },
  {
   "cell_type": "code",
   "execution_count": 40,
   "metadata": {},
   "outputs": [],
   "source": [
    "obs_t2['t2_1620_era5'] = obs_t2['t2_1620_era5']-obs_t2['obs_mean']\n",
    "obs_t2['t2_1620_cmip6'] = obs_t2['t2_1620_cmip6']-obs_t2['obs_mean']\n",
    "obs_t2['t2_1620_era51120_corrected'] = obs_t2['t2_1620_era51120_corrected']-obs_t2['obs_mean']"
   ]
  },
  {
   "cell_type": "code",
   "execution_count": 41,
   "metadata": {},
   "outputs": [],
   "source": [
    "obs_t2.to_csv('bias_correction_diff.csv',index=False)"
   ]
  },
  {
   "cell_type": "code",
   "execution_count": null,
   "metadata": {},
   "outputs": [],
   "source": []
  }
 ],
 "metadata": {
  "kernelspec": {
   "display_name": "Python 3",
   "language": "python",
   "name": "python3"
  },
  "language_info": {
   "codemirror_mode": {
    "name": "ipython",
    "version": 3
   },
   "file_extension": ".py",
   "mimetype": "text/x-python",
   "name": "python",
   "nbconvert_exporter": "python",
   "pygments_lexer": "ipython3",
   "version": "3.8.3"
  }
 },
 "nbformat": 4,
 "nbformat_minor": 4
}
